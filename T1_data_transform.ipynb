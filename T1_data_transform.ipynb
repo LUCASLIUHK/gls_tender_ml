{
 "cells": [
  {
   "cell_type": "markdown",
   "source": [
    "## Run after extract tables\n",
    "\n",
    "1. fill gfa/gpr - done\n",
    "2. create psm price - done\n",
    "3. create year/month/day cols - done\n",
    "4. clean devt_type - done - done\n",
    "5. format all names with slash - done\n",
    "6. fill street name with land parcel - done\n",
    "7. format proj_name (create 2 cols) - done\n",
    "8. create uuid - done"
   ],
   "metadata": {
    "collapsed": false
   }
  },
  {
   "cell_type": "code",
   "execution_count": 1,
   "metadata": {
    "collapsed": true
   },
   "outputs": [],
   "source": [
    "import pandas as pd\n",
    "import numpy as np\n",
    "from datetime import datetime, timedelta\n",
    "import re\n",
    "import hashlib\n",
    "\n",
    "\n",
    "# func to fill gfa, gpr and site area\n",
    "def balance(df, gfa_col, gpr_col, site_area_col):\n",
    "    idx_gfa_na = df[gfa_col][df[gfa_col].isna()].index\n",
    "    idx_gpr_na = df[gpr_col][df[gpr_col].isna()].index\n",
    "    idx_site_na = df[site_area_col][df[site_area_col].isna()].index\n",
    "    if len(idx_gfa_na) > 0:\n",
    "        df[gfa_col][idx_gfa_na] = df[gpr_col][idx_gfa_na] * df[site_area_col][idx_gfa_na]\n",
    "    if len(idx_gpr_na) > 0:\n",
    "        df[gpr_col][idx_gpr_na] = df[gfa_col][idx_gpr_na] / df[site_area_col][idx_gpr_na]\n",
    "    if len(idx_site_na) > 0:\n",
    "        df[site_area_col][idx_site_na] = df[gfa_col][idx_site_na] / df[gpr_col][idx_site_na]\n",
    "    return df\n",
    "\n",
    "\n",
    "# func to clean devt_type col\n",
    "def devt_classify(df, devt_type_col):\n",
    "    devt_type_col_idx = list(gls.columns).index(devt_type_col)\n",
    "    classes = pd.read_csv(\"devt_type_classification.csv\")\n",
    "    devt_type = list(classes.devt_type)\n",
    "    devt_class = list(classes.devt_class2)\n",
    "    class_dict = dict(zip(devt_type, devt_class))\n",
    "    df.insert(loc=devt_type_col_idx+1, column=\"devt_class\", value=df[devt_type_col].replace(class_dict))\n",
    "    return df\n",
    "\n",
    "\n",
    "# func to format names with slash '/'\n",
    "def format_name(text, pattern, repl, trim=True):\n",
    "    try:\n",
    "        if trim:\n",
    "            text = text.strip()\n",
    "        text = re.sub(' +', ' ', text)\n",
    "        return re.sub(pattern, repl, text)\n",
    "    except (TypeError, AttributeError):\n",
    "        return text"
   ]
  },
  {
   "cell_type": "code",
   "execution_count": 2,
   "outputs": [
    {
     "data": {
      "text/plain": "'asf dasfa s'"
     },
     "execution_count": 2,
     "metadata": {},
     "output_type": "execute_result"
    }
   ],
   "source": [
    "text = ' asf dasfa     s      '\n",
    "re.sub(' +', ' ', text.strip())"
   ],
   "metadata": {
    "collapsed": false
   }
  },
  {
   "cell_type": "code",
   "execution_count": 3,
   "outputs": [
    {
     "data": {
      "text/plain": "    date_launch date_close date_award  \\\n0    2015-04-29 2015-06-23 2015-06-30   \n1    2015-04-29 2015-06-18 2015-06-23   \n2    2013-12-30 2014-04-29 2014-04-30   \n3    2013-04-15 2013-06-13 2013-06-14   \n4    2013-02-28 2013-04-11 2013-04-12   \n..          ...        ...        ...   \n591  1992-10-19 1993-02-09 1993-05-21   \n592  1992-10-19 1993-02-09 1993-05-21   \n593  1992-10-19 1993-02-09 1993-05-21   \n594  1992-08-31 1992-11-24 1993-02-15   \n595  1992-08-31 1992-11-24 1993-02-15   \n\n                                   land_parcel  \\\n0                               Queenstown S9b   \n1                                 Toa Payoh S4   \n2                                   Geylang S6   \n3                                 Sengkang S12   \n4                                 Sengkang S11   \n..                                         ...   \n591                                 Kaki Bukit   \n592  Tuas South Avenue 3 / Tuas South Avenue 4   \n593  Tuas South Avenue 4 / Tuas South Avenue 5   \n594               Merchant Road / Angus Street   \n595              Merchant Road / Magazine Road   \n\n                                      street  site_area_sqm   devt_type  \\\n0                                Dundee Road        10516.1         *CO   \n1    Lorong 6 Toa Payoh / Lorong 4 Toa Payoh        12154.6         *CO   \n2                                 Sims Drive        23900.1         *CO   \n3                             Fernvale Close        14930.5         *CO   \n4                          Sengkang West Way        16603.9         *CO   \n..                                       ...            ...         ...   \n591                                      NaN        60000.0  Industrial   \n592                                      NaN       102264.0  Industrial   \n593                                      NaN       102264.0  Industrial   \n594                                      NaN         2609.0       Hotel   \n595                                      NaN         4806.0  Commercial   \n\n     lease_term  gpr    gfa_sqm  num_bidders  tenderer_rank  \\\n0            99  4.9   51528.89            9              1   \n1            99  3.5   42541.10           14              1   \n2            99  3.0   71700.30            4              1   \n3            99  3.0   44791.50            9              1   \n4            99  3.0   49811.70            8              1   \n..          ...  ...        ...          ...            ...   \n591          60  2.0  120000.00            2              1   \n592          60  1.0  102264.00            1              1   \n593          60  1.0  102264.00            1              1   \n594          99  2.4    6167.00            2              1   \n595          99  1.7    8050.00            2              1   \n\n                                         tenderer_name  tender_price  \\\n0                                    HY Realty Pte Ltd   483178000.0   \n1    Evia Real Estate (7) Pte Ltd, Maxdin Pte Ltd a...   345860000.0   \n2                     First Changi Development Pte Ltd   530891000.0   \n3    FCL Topaz Pte. Ltd., Far East Orchard Limited ...   256980000.0   \n4                         Secure Development Pte. Ltd.   262100000.0   \n..                                                 ...           ...   \n591                           Technology Parks Pte Ltd    44880000.0   \n592                           Technology Parks Pte Ltd    24338800.0   \n593                           Technology Parks Pte Ltd    24032000.0   \n594                                 Food Alley Pte Ltd     6890000.0   \n595                          City Developments Limited    11500000.0   \n\n                 proj_name source  \n0              Queens Peak    hdb  \n1           Gem Residences    hdb  \n2         Sims Urban Oasis    hdb  \n3    Rivertrees Residences    hdb  \n4      Riverbank @Fernvale    hdb  \n..                     ...    ...  \n591                    NaN    ura  \n592                    NaN    ura  \n593                    NaN    ura  \n594                    NaN    ura  \n595                    NaN    ura  \n\n[596 rows x 16 columns]",
      "text/html": "<div>\n<style scoped>\n    .dataframe tbody tr th:only-of-type {\n        vertical-align: middle;\n    }\n\n    .dataframe tbody tr th {\n        vertical-align: top;\n    }\n\n    .dataframe thead th {\n        text-align: right;\n    }\n</style>\n<table border=\"1\" class=\"dataframe\">\n  <thead>\n    <tr style=\"text-align: right;\">\n      <th></th>\n      <th>date_launch</th>\n      <th>date_close</th>\n      <th>date_award</th>\n      <th>land_parcel</th>\n      <th>street</th>\n      <th>site_area_sqm</th>\n      <th>devt_type</th>\n      <th>lease_term</th>\n      <th>gpr</th>\n      <th>gfa_sqm</th>\n      <th>num_bidders</th>\n      <th>tenderer_rank</th>\n      <th>tenderer_name</th>\n      <th>tender_price</th>\n      <th>proj_name</th>\n      <th>source</th>\n    </tr>\n  </thead>\n  <tbody>\n    <tr>\n      <th>0</th>\n      <td>2015-04-29</td>\n      <td>2015-06-23</td>\n      <td>2015-06-30</td>\n      <td>Queenstown S9b</td>\n      <td>Dundee Road</td>\n      <td>10516.1</td>\n      <td>*CO</td>\n      <td>99</td>\n      <td>4.9</td>\n      <td>51528.89</td>\n      <td>9</td>\n      <td>1</td>\n      <td>HY Realty Pte Ltd</td>\n      <td>483178000.0</td>\n      <td>Queens Peak</td>\n      <td>hdb</td>\n    </tr>\n    <tr>\n      <th>1</th>\n      <td>2015-04-29</td>\n      <td>2015-06-18</td>\n      <td>2015-06-23</td>\n      <td>Toa Payoh S4</td>\n      <td>Lorong 6 Toa Payoh / Lorong 4 Toa Payoh</td>\n      <td>12154.6</td>\n      <td>*CO</td>\n      <td>99</td>\n      <td>3.5</td>\n      <td>42541.10</td>\n      <td>14</td>\n      <td>1</td>\n      <td>Evia Real Estate (7) Pte Ltd, Maxdin Pte Ltd a...</td>\n      <td>345860000.0</td>\n      <td>Gem Residences</td>\n      <td>hdb</td>\n    </tr>\n    <tr>\n      <th>2</th>\n      <td>2013-12-30</td>\n      <td>2014-04-29</td>\n      <td>2014-04-30</td>\n      <td>Geylang S6</td>\n      <td>Sims Drive</td>\n      <td>23900.1</td>\n      <td>*CO</td>\n      <td>99</td>\n      <td>3.0</td>\n      <td>71700.30</td>\n      <td>4</td>\n      <td>1</td>\n      <td>First Changi Development Pte Ltd</td>\n      <td>530891000.0</td>\n      <td>Sims Urban Oasis</td>\n      <td>hdb</td>\n    </tr>\n    <tr>\n      <th>3</th>\n      <td>2013-04-15</td>\n      <td>2013-06-13</td>\n      <td>2013-06-14</td>\n      <td>Sengkang S12</td>\n      <td>Fernvale Close</td>\n      <td>14930.5</td>\n      <td>*CO</td>\n      <td>99</td>\n      <td>3.0</td>\n      <td>44791.50</td>\n      <td>9</td>\n      <td>1</td>\n      <td>FCL Topaz Pte. Ltd., Far East Orchard Limited ...</td>\n      <td>256980000.0</td>\n      <td>Rivertrees Residences</td>\n      <td>hdb</td>\n    </tr>\n    <tr>\n      <th>4</th>\n      <td>2013-02-28</td>\n      <td>2013-04-11</td>\n      <td>2013-04-12</td>\n      <td>Sengkang S11</td>\n      <td>Sengkang West Way</td>\n      <td>16603.9</td>\n      <td>*CO</td>\n      <td>99</td>\n      <td>3.0</td>\n      <td>49811.70</td>\n      <td>8</td>\n      <td>1</td>\n      <td>Secure Development Pte. Ltd.</td>\n      <td>262100000.0</td>\n      <td>Riverbank @Fernvale</td>\n      <td>hdb</td>\n    </tr>\n    <tr>\n      <th>...</th>\n      <td>...</td>\n      <td>...</td>\n      <td>...</td>\n      <td>...</td>\n      <td>...</td>\n      <td>...</td>\n      <td>...</td>\n      <td>...</td>\n      <td>...</td>\n      <td>...</td>\n      <td>...</td>\n      <td>...</td>\n      <td>...</td>\n      <td>...</td>\n      <td>...</td>\n      <td>...</td>\n    </tr>\n    <tr>\n      <th>591</th>\n      <td>1992-10-19</td>\n      <td>1993-02-09</td>\n      <td>1993-05-21</td>\n      <td>Kaki Bukit</td>\n      <td>NaN</td>\n      <td>60000.0</td>\n      <td>Industrial</td>\n      <td>60</td>\n      <td>2.0</td>\n      <td>120000.00</td>\n      <td>2</td>\n      <td>1</td>\n      <td>Technology Parks Pte Ltd</td>\n      <td>44880000.0</td>\n      <td>NaN</td>\n      <td>ura</td>\n    </tr>\n    <tr>\n      <th>592</th>\n      <td>1992-10-19</td>\n      <td>1993-02-09</td>\n      <td>1993-05-21</td>\n      <td>Tuas South Avenue 3 / Tuas South Avenue 4</td>\n      <td>NaN</td>\n      <td>102264.0</td>\n      <td>Industrial</td>\n      <td>60</td>\n      <td>1.0</td>\n      <td>102264.00</td>\n      <td>1</td>\n      <td>1</td>\n      <td>Technology Parks Pte Ltd</td>\n      <td>24338800.0</td>\n      <td>NaN</td>\n      <td>ura</td>\n    </tr>\n    <tr>\n      <th>593</th>\n      <td>1992-10-19</td>\n      <td>1993-02-09</td>\n      <td>1993-05-21</td>\n      <td>Tuas South Avenue 4 / Tuas South Avenue 5</td>\n      <td>NaN</td>\n      <td>102264.0</td>\n      <td>Industrial</td>\n      <td>60</td>\n      <td>1.0</td>\n      <td>102264.00</td>\n      <td>1</td>\n      <td>1</td>\n      <td>Technology Parks Pte Ltd</td>\n      <td>24032000.0</td>\n      <td>NaN</td>\n      <td>ura</td>\n    </tr>\n    <tr>\n      <th>594</th>\n      <td>1992-08-31</td>\n      <td>1992-11-24</td>\n      <td>1993-02-15</td>\n      <td>Merchant Road / Angus Street</td>\n      <td>NaN</td>\n      <td>2609.0</td>\n      <td>Hotel</td>\n      <td>99</td>\n      <td>2.4</td>\n      <td>6167.00</td>\n      <td>2</td>\n      <td>1</td>\n      <td>Food Alley Pte Ltd</td>\n      <td>6890000.0</td>\n      <td>NaN</td>\n      <td>ura</td>\n    </tr>\n    <tr>\n      <th>595</th>\n      <td>1992-08-31</td>\n      <td>1992-11-24</td>\n      <td>1993-02-15</td>\n      <td>Merchant Road / Magazine Road</td>\n      <td>NaN</td>\n      <td>4806.0</td>\n      <td>Commercial</td>\n      <td>99</td>\n      <td>1.7</td>\n      <td>8050.00</td>\n      <td>2</td>\n      <td>1</td>\n      <td>City Developments Limited</td>\n      <td>11500000.0</td>\n      <td>NaN</td>\n      <td>ura</td>\n    </tr>\n  </tbody>\n</table>\n<p>596 rows × 16 columns</p>\n</div>"
     },
     "execution_count": 3,
     "metadata": {},
     "output_type": "execute_result"
    }
   ],
   "source": [
    "gls = pd.read_excel('gls_hdb_ura.xlsx')\n",
    "gls"
   ],
   "metadata": {
    "collapsed": false
   }
  },
  {
   "cell_type": "code",
   "execution_count": 4,
   "outputs": [
    {
     "name": "stderr",
     "output_type": "stream",
     "text": [
      "C:\\Users\\13051\\AppData\\Local\\Temp\\ipykernel_23320\\1834850203.py:14: SettingWithCopyWarning: \n",
      "A value is trying to be set on a copy of a slice from a DataFrame\n",
      "\n",
      "See the caveats in the documentation: https://pandas.pydata.org/pandas-docs/stable/user_guide/indexing.html#returning-a-view-versus-a-copy\n",
      "  df[gfa_col][idx_gfa_na] = df[gpr_col][idx_gfa_na] * df[site_area_col][idx_gfa_na]\n",
      "C:\\Users\\13051\\AppData\\Local\\Temp\\ipykernel_23320\\1834850203.py:16: SettingWithCopyWarning: \n",
      "A value is trying to be set on a copy of a slice from a DataFrame\n",
      "\n",
      "See the caveats in the documentation: https://pandas.pydata.org/pandas-docs/stable/user_guide/indexing.html#returning-a-view-versus-a-copy\n",
      "  df[gpr_col][idx_gpr_na] = df[gfa_col][idx_gpr_na] / df[site_area_col][idx_gpr_na]\n"
     ]
    },
    {
     "data": {
      "text/plain": "date_launch        0\ndate_close         0\ndate_award         0\nland_parcel        0\nstreet           391\nsite_area_sqm      0\ndevt_type          0\nlease_term         0\ngpr               20\ngfa_sqm           20\nnum_bidders        0\ntenderer_rank      0\ntenderer_name      0\ntender_price       0\nproj_name        361\nsource             0\ndtype: int64"
     },
     "execution_count": 4,
     "metadata": {},
     "output_type": "execute_result"
    }
   ],
   "source": [
    "gls = balance(gls, \"gfa_sqm\", \"gpr\", \"site_area_sqm\")\n",
    "gls.isna().sum()"
   ],
   "metadata": {
    "collapsed": false
   }
  },
  {
   "cell_type": "code",
   "execution_count": 5,
   "outputs": [
    {
     "data": {
      "text/plain": "    date_launch date_close date_award  \\\n0    2015-04-29 2015-06-23 2015-06-30   \n1    2015-04-29 2015-06-18 2015-06-23   \n2    2013-12-30 2014-04-29 2014-04-30   \n3    2013-04-15 2013-06-13 2013-06-14   \n4    2013-02-28 2013-04-11 2013-04-12   \n..          ...        ...        ...   \n591  1992-10-19 1993-02-09 1993-05-21   \n592  1992-10-19 1993-02-09 1993-05-21   \n593  1992-10-19 1993-02-09 1993-05-21   \n594  1992-08-31 1992-11-24 1993-02-15   \n595  1992-08-31 1992-11-24 1993-02-15   \n\n                                   land_parcel  \\\n0                               Queenstown S9b   \n1                                 Toa Payoh S4   \n2                                   Geylang S6   \n3                                 Sengkang S12   \n4                                 Sengkang S11   \n..                                         ...   \n591                                 Kaki Bukit   \n592  Tuas South Avenue 3 / Tuas South Avenue 4   \n593  Tuas South Avenue 4 / Tuas South Avenue 5   \n594               Merchant Road / Angus Street   \n595              Merchant Road / Magazine Road   \n\n                                      street  site_area_sqm   devt_type  \\\n0                                Dundee Road        10516.1         *CO   \n1    Lorong 6 Toa Payoh / Lorong 4 Toa Payoh        12154.6         *CO   \n2                                 Sims Drive        23900.1         *CO   \n3                             Fernvale Close        14930.5         *CO   \n4                          Sengkang West Way        16603.9         *CO   \n..                                       ...            ...         ...   \n591                                      NaN        60000.0  Industrial   \n592                                      NaN       102264.0  Industrial   \n593                                      NaN       102264.0  Industrial   \n594                                      NaN         2609.0       Hotel   \n595                                      NaN         4806.0  Commercial   \n\n     lease_term  gpr    gfa_sqm  num_bidders  tenderer_rank  \\\n0            99  4.9   51528.89            9              1   \n1            99  3.5   42541.10           14              1   \n2            99  3.0   71700.30            4              1   \n3            99  3.0   44791.50            9              1   \n4            99  3.0   49811.70            8              1   \n..          ...  ...        ...          ...            ...   \n591          60  2.0  120000.00            2              1   \n592          60  1.0  102264.00            1              1   \n593          60  1.0  102264.00            1              1   \n594          99  2.4    6167.00            2              1   \n595          99  1.7    8050.00            2              1   \n\n                                         tenderer_name  tender_price  \\\n0                                    HY Realty Pte Ltd   483178000.0   \n1    Evia Real Estate (7) Pte Ltd, Maxdin Pte Ltd a...   345860000.0   \n2                     First Changi Development Pte Ltd   530891000.0   \n3    FCL Topaz Pte. Ltd., Far East Orchard Limited ...   256980000.0   \n4                         Secure Development Pte. Ltd.   262100000.0   \n..                                                 ...           ...   \n591                           Technology Parks Pte Ltd    44880000.0   \n592                           Technology Parks Pte Ltd    24338800.0   \n593                           Technology Parks Pte Ltd    24032000.0   \n594                                 Food Alley Pte Ltd     6890000.0   \n595                          City Developments Limited    11500000.0   \n\n     price_psm_gfa              proj_name source  \n0          9376.84            Queens Peak    hdb  \n1          8130.02         Gem Residences    hdb  \n2          7404.31       Sims Urban Oasis    hdb  \n3          5737.25  Rivertrees Residences    hdb  \n4          5261.82    Riverbank @Fernvale    hdb  \n..             ...                    ...    ...  \n591         374.00                    NaN    ura  \n592         238.00                    NaN    ura  \n593         235.00                    NaN    ura  \n594        1117.24                    NaN    ura  \n595        1428.57                    NaN    ura  \n\n[596 rows x 17 columns]",
      "text/html": "<div>\n<style scoped>\n    .dataframe tbody tr th:only-of-type {\n        vertical-align: middle;\n    }\n\n    .dataframe tbody tr th {\n        vertical-align: top;\n    }\n\n    .dataframe thead th {\n        text-align: right;\n    }\n</style>\n<table border=\"1\" class=\"dataframe\">\n  <thead>\n    <tr style=\"text-align: right;\">\n      <th></th>\n      <th>date_launch</th>\n      <th>date_close</th>\n      <th>date_award</th>\n      <th>land_parcel</th>\n      <th>street</th>\n      <th>site_area_sqm</th>\n      <th>devt_type</th>\n      <th>lease_term</th>\n      <th>gpr</th>\n      <th>gfa_sqm</th>\n      <th>num_bidders</th>\n      <th>tenderer_rank</th>\n      <th>tenderer_name</th>\n      <th>tender_price</th>\n      <th>price_psm_gfa</th>\n      <th>proj_name</th>\n      <th>source</th>\n    </tr>\n  </thead>\n  <tbody>\n    <tr>\n      <th>0</th>\n      <td>2015-04-29</td>\n      <td>2015-06-23</td>\n      <td>2015-06-30</td>\n      <td>Queenstown S9b</td>\n      <td>Dundee Road</td>\n      <td>10516.1</td>\n      <td>*CO</td>\n      <td>99</td>\n      <td>4.9</td>\n      <td>51528.89</td>\n      <td>9</td>\n      <td>1</td>\n      <td>HY Realty Pte Ltd</td>\n      <td>483178000.0</td>\n      <td>9376.84</td>\n      <td>Queens Peak</td>\n      <td>hdb</td>\n    </tr>\n    <tr>\n      <th>1</th>\n      <td>2015-04-29</td>\n      <td>2015-06-18</td>\n      <td>2015-06-23</td>\n      <td>Toa Payoh S4</td>\n      <td>Lorong 6 Toa Payoh / Lorong 4 Toa Payoh</td>\n      <td>12154.6</td>\n      <td>*CO</td>\n      <td>99</td>\n      <td>3.5</td>\n      <td>42541.10</td>\n      <td>14</td>\n      <td>1</td>\n      <td>Evia Real Estate (7) Pte Ltd, Maxdin Pte Ltd a...</td>\n      <td>345860000.0</td>\n      <td>8130.02</td>\n      <td>Gem Residences</td>\n      <td>hdb</td>\n    </tr>\n    <tr>\n      <th>2</th>\n      <td>2013-12-30</td>\n      <td>2014-04-29</td>\n      <td>2014-04-30</td>\n      <td>Geylang S6</td>\n      <td>Sims Drive</td>\n      <td>23900.1</td>\n      <td>*CO</td>\n      <td>99</td>\n      <td>3.0</td>\n      <td>71700.30</td>\n      <td>4</td>\n      <td>1</td>\n      <td>First Changi Development Pte Ltd</td>\n      <td>530891000.0</td>\n      <td>7404.31</td>\n      <td>Sims Urban Oasis</td>\n      <td>hdb</td>\n    </tr>\n    <tr>\n      <th>3</th>\n      <td>2013-04-15</td>\n      <td>2013-06-13</td>\n      <td>2013-06-14</td>\n      <td>Sengkang S12</td>\n      <td>Fernvale Close</td>\n      <td>14930.5</td>\n      <td>*CO</td>\n      <td>99</td>\n      <td>3.0</td>\n      <td>44791.50</td>\n      <td>9</td>\n      <td>1</td>\n      <td>FCL Topaz Pte. Ltd., Far East Orchard Limited ...</td>\n      <td>256980000.0</td>\n      <td>5737.25</td>\n      <td>Rivertrees Residences</td>\n      <td>hdb</td>\n    </tr>\n    <tr>\n      <th>4</th>\n      <td>2013-02-28</td>\n      <td>2013-04-11</td>\n      <td>2013-04-12</td>\n      <td>Sengkang S11</td>\n      <td>Sengkang West Way</td>\n      <td>16603.9</td>\n      <td>*CO</td>\n      <td>99</td>\n      <td>3.0</td>\n      <td>49811.70</td>\n      <td>8</td>\n      <td>1</td>\n      <td>Secure Development Pte. Ltd.</td>\n      <td>262100000.0</td>\n      <td>5261.82</td>\n      <td>Riverbank @Fernvale</td>\n      <td>hdb</td>\n    </tr>\n    <tr>\n      <th>...</th>\n      <td>...</td>\n      <td>...</td>\n      <td>...</td>\n      <td>...</td>\n      <td>...</td>\n      <td>...</td>\n      <td>...</td>\n      <td>...</td>\n      <td>...</td>\n      <td>...</td>\n      <td>...</td>\n      <td>...</td>\n      <td>...</td>\n      <td>...</td>\n      <td>...</td>\n      <td>...</td>\n      <td>...</td>\n    </tr>\n    <tr>\n      <th>591</th>\n      <td>1992-10-19</td>\n      <td>1993-02-09</td>\n      <td>1993-05-21</td>\n      <td>Kaki Bukit</td>\n      <td>NaN</td>\n      <td>60000.0</td>\n      <td>Industrial</td>\n      <td>60</td>\n      <td>2.0</td>\n      <td>120000.00</td>\n      <td>2</td>\n      <td>1</td>\n      <td>Technology Parks Pte Ltd</td>\n      <td>44880000.0</td>\n      <td>374.00</td>\n      <td>NaN</td>\n      <td>ura</td>\n    </tr>\n    <tr>\n      <th>592</th>\n      <td>1992-10-19</td>\n      <td>1993-02-09</td>\n      <td>1993-05-21</td>\n      <td>Tuas South Avenue 3 / Tuas South Avenue 4</td>\n      <td>NaN</td>\n      <td>102264.0</td>\n      <td>Industrial</td>\n      <td>60</td>\n      <td>1.0</td>\n      <td>102264.00</td>\n      <td>1</td>\n      <td>1</td>\n      <td>Technology Parks Pte Ltd</td>\n      <td>24338800.0</td>\n      <td>238.00</td>\n      <td>NaN</td>\n      <td>ura</td>\n    </tr>\n    <tr>\n      <th>593</th>\n      <td>1992-10-19</td>\n      <td>1993-02-09</td>\n      <td>1993-05-21</td>\n      <td>Tuas South Avenue 4 / Tuas South Avenue 5</td>\n      <td>NaN</td>\n      <td>102264.0</td>\n      <td>Industrial</td>\n      <td>60</td>\n      <td>1.0</td>\n      <td>102264.00</td>\n      <td>1</td>\n      <td>1</td>\n      <td>Technology Parks Pte Ltd</td>\n      <td>24032000.0</td>\n      <td>235.00</td>\n      <td>NaN</td>\n      <td>ura</td>\n    </tr>\n    <tr>\n      <th>594</th>\n      <td>1992-08-31</td>\n      <td>1992-11-24</td>\n      <td>1993-02-15</td>\n      <td>Merchant Road / Angus Street</td>\n      <td>NaN</td>\n      <td>2609.0</td>\n      <td>Hotel</td>\n      <td>99</td>\n      <td>2.4</td>\n      <td>6167.00</td>\n      <td>2</td>\n      <td>1</td>\n      <td>Food Alley Pte Ltd</td>\n      <td>6890000.0</td>\n      <td>1117.24</td>\n      <td>NaN</td>\n      <td>ura</td>\n    </tr>\n    <tr>\n      <th>595</th>\n      <td>1992-08-31</td>\n      <td>1992-11-24</td>\n      <td>1993-02-15</td>\n      <td>Merchant Road / Magazine Road</td>\n      <td>NaN</td>\n      <td>4806.0</td>\n      <td>Commercial</td>\n      <td>99</td>\n      <td>1.7</td>\n      <td>8050.00</td>\n      <td>2</td>\n      <td>1</td>\n      <td>City Developments Limited</td>\n      <td>11500000.0</td>\n      <td>1428.57</td>\n      <td>NaN</td>\n      <td>ura</td>\n    </tr>\n  </tbody>\n</table>\n<p>596 rows × 17 columns</p>\n</div>"
     },
     "execution_count": 5,
     "metadata": {},
     "output_type": "execute_result"
    }
   ],
   "source": [
    "# create psm price column\n",
    "gls.insert(loc=14, column=\"price_psm_gfa\", value=(gls.tender_price / gls.gfa_sqm).round(2))\n",
    "gls"
   ],
   "metadata": {
    "collapsed": false
   }
  },
  {
   "cell_type": "code",
   "execution_count": 6,
   "outputs": [
    {
     "data": {
      "text/plain": "array(['*CO', 'LP / CO / FT', 'CO', 'LP', 'LP / CO', 'CO/LP', 'LP/CO',\n       'AP', 'BH', 'TH', 'BH / LP', 'EC', 'Mixed',\n       'Residential (Non-Landed)', 'White Site',\n       'Residential with Commercial at 1st Sty',\n       'Commercial and Residential', 'Hotel',\n       'Residential & Residential with Commercial at 1st Sty',\n       'Commercial', 'Industrial', 'Transitional Office',\n       'Industrial - White', 'Hospital', 'Recreation', 'Driving Centre',\n       'Entertainment', 'Others'], dtype=object)"
     },
     "execution_count": 6,
     "metadata": {},
     "output_type": "execute_result"
    }
   ],
   "source": [
    "gls.devt_type.unique()"
   ],
   "metadata": {
    "collapsed": false
   }
  },
  {
   "cell_type": "code",
   "execution_count": 7,
   "outputs": [
    {
     "data": {
      "text/plain": "    date_launch date_close date_award  \\\n0    2015-04-29 2015-06-23 2015-06-30   \n1    2015-04-29 2015-06-18 2015-06-23   \n2    2013-12-30 2014-04-29 2014-04-30   \n3    2013-04-15 2013-06-13 2013-06-14   \n4    2013-02-28 2013-04-11 2013-04-12   \n..          ...        ...        ...   \n591  1992-10-19 1993-02-09 1993-05-21   \n592  1992-10-19 1993-02-09 1993-05-21   \n593  1992-10-19 1993-02-09 1993-05-21   \n594  1992-08-31 1992-11-24 1993-02-15   \n595  1992-08-31 1992-11-24 1993-02-15   \n\n                                   land_parcel  \\\n0                               Queenstown S9b   \n1                                 Toa Payoh S4   \n2                                   Geylang S6   \n3                                 Sengkang S12   \n4                                 Sengkang S11   \n..                                         ...   \n591                                 Kaki Bukit   \n592  Tuas South Avenue 3 / Tuas South Avenue 4   \n593  Tuas South Avenue 4 / Tuas South Avenue 5   \n594               Merchant Road / Angus Street   \n595              Merchant Road / Magazine Road   \n\n                                      street  site_area_sqm   devt_type  \\\n0                                Dundee Road        10516.1         *CO   \n1    Lorong 6 Toa Payoh / Lorong 4 Toa Payoh        12154.6         *CO   \n2                                 Sims Drive        23900.1         *CO   \n3                             Fernvale Close        14930.5         *CO   \n4                          Sengkang West Way        16603.9         *CO   \n..                                       ...            ...         ...   \n591                                      NaN        60000.0  Industrial   \n592                                      NaN       102264.0  Industrial   \n593                                      NaN       102264.0  Industrial   \n594                                      NaN         2609.0       Hotel   \n595                                      NaN         4806.0  Commercial   \n\n      devt_class  lease_term  gpr    gfa_sqm  num_bidders  tenderer_rank  \\\n0    residential          99  4.9   51528.89            9              1   \n1    residential          99  3.5   42541.10           14              1   \n2    residential          99  3.0   71700.30            4              1   \n3    residential          99  3.0   44791.50            9              1   \n4    residential          99  3.0   49811.70            8              1   \n..           ...         ...  ...        ...          ...            ...   \n591       others          60  2.0  120000.00            2              1   \n592       others          60  1.0  102264.00            1              1   \n593       others          60  1.0  102264.00            1              1   \n594       others          99  2.4    6167.00            2              1   \n595   commercial          99  1.7    8050.00            2              1   \n\n                                         tenderer_name  tender_price  \\\n0                                    HY Realty Pte Ltd   483178000.0   \n1    Evia Real Estate (7) Pte Ltd, Maxdin Pte Ltd a...   345860000.0   \n2                     First Changi Development Pte Ltd   530891000.0   \n3    FCL Topaz Pte. Ltd., Far East Orchard Limited ...   256980000.0   \n4                         Secure Development Pte. Ltd.   262100000.0   \n..                                                 ...           ...   \n591                           Technology Parks Pte Ltd    44880000.0   \n592                           Technology Parks Pte Ltd    24338800.0   \n593                           Technology Parks Pte Ltd    24032000.0   \n594                                 Food Alley Pte Ltd     6890000.0   \n595                          City Developments Limited    11500000.0   \n\n     price_psm_gfa              proj_name source  \n0          9376.84            Queens Peak    hdb  \n1          8130.02         Gem Residences    hdb  \n2          7404.31       Sims Urban Oasis    hdb  \n3          5737.25  Rivertrees Residences    hdb  \n4          5261.82    Riverbank @Fernvale    hdb  \n..             ...                    ...    ...  \n591         374.00                    NaN    ura  \n592         238.00                    NaN    ura  \n593         235.00                    NaN    ura  \n594        1117.24                    NaN    ura  \n595        1428.57                    NaN    ura  \n\n[596 rows x 18 columns]",
      "text/html": "<div>\n<style scoped>\n    .dataframe tbody tr th:only-of-type {\n        vertical-align: middle;\n    }\n\n    .dataframe tbody tr th {\n        vertical-align: top;\n    }\n\n    .dataframe thead th {\n        text-align: right;\n    }\n</style>\n<table border=\"1\" class=\"dataframe\">\n  <thead>\n    <tr style=\"text-align: right;\">\n      <th></th>\n      <th>date_launch</th>\n      <th>date_close</th>\n      <th>date_award</th>\n      <th>land_parcel</th>\n      <th>street</th>\n      <th>site_area_sqm</th>\n      <th>devt_type</th>\n      <th>devt_class</th>\n      <th>lease_term</th>\n      <th>gpr</th>\n      <th>gfa_sqm</th>\n      <th>num_bidders</th>\n      <th>tenderer_rank</th>\n      <th>tenderer_name</th>\n      <th>tender_price</th>\n      <th>price_psm_gfa</th>\n      <th>proj_name</th>\n      <th>source</th>\n    </tr>\n  </thead>\n  <tbody>\n    <tr>\n      <th>0</th>\n      <td>2015-04-29</td>\n      <td>2015-06-23</td>\n      <td>2015-06-30</td>\n      <td>Queenstown S9b</td>\n      <td>Dundee Road</td>\n      <td>10516.1</td>\n      <td>*CO</td>\n      <td>residential</td>\n      <td>99</td>\n      <td>4.9</td>\n      <td>51528.89</td>\n      <td>9</td>\n      <td>1</td>\n      <td>HY Realty Pte Ltd</td>\n      <td>483178000.0</td>\n      <td>9376.84</td>\n      <td>Queens Peak</td>\n      <td>hdb</td>\n    </tr>\n    <tr>\n      <th>1</th>\n      <td>2015-04-29</td>\n      <td>2015-06-18</td>\n      <td>2015-06-23</td>\n      <td>Toa Payoh S4</td>\n      <td>Lorong 6 Toa Payoh / Lorong 4 Toa Payoh</td>\n      <td>12154.6</td>\n      <td>*CO</td>\n      <td>residential</td>\n      <td>99</td>\n      <td>3.5</td>\n      <td>42541.10</td>\n      <td>14</td>\n      <td>1</td>\n      <td>Evia Real Estate (7) Pte Ltd, Maxdin Pte Ltd a...</td>\n      <td>345860000.0</td>\n      <td>8130.02</td>\n      <td>Gem Residences</td>\n      <td>hdb</td>\n    </tr>\n    <tr>\n      <th>2</th>\n      <td>2013-12-30</td>\n      <td>2014-04-29</td>\n      <td>2014-04-30</td>\n      <td>Geylang S6</td>\n      <td>Sims Drive</td>\n      <td>23900.1</td>\n      <td>*CO</td>\n      <td>residential</td>\n      <td>99</td>\n      <td>3.0</td>\n      <td>71700.30</td>\n      <td>4</td>\n      <td>1</td>\n      <td>First Changi Development Pte Ltd</td>\n      <td>530891000.0</td>\n      <td>7404.31</td>\n      <td>Sims Urban Oasis</td>\n      <td>hdb</td>\n    </tr>\n    <tr>\n      <th>3</th>\n      <td>2013-04-15</td>\n      <td>2013-06-13</td>\n      <td>2013-06-14</td>\n      <td>Sengkang S12</td>\n      <td>Fernvale Close</td>\n      <td>14930.5</td>\n      <td>*CO</td>\n      <td>residential</td>\n      <td>99</td>\n      <td>3.0</td>\n      <td>44791.50</td>\n      <td>9</td>\n      <td>1</td>\n      <td>FCL Topaz Pte. Ltd., Far East Orchard Limited ...</td>\n      <td>256980000.0</td>\n      <td>5737.25</td>\n      <td>Rivertrees Residences</td>\n      <td>hdb</td>\n    </tr>\n    <tr>\n      <th>4</th>\n      <td>2013-02-28</td>\n      <td>2013-04-11</td>\n      <td>2013-04-12</td>\n      <td>Sengkang S11</td>\n      <td>Sengkang West Way</td>\n      <td>16603.9</td>\n      <td>*CO</td>\n      <td>residential</td>\n      <td>99</td>\n      <td>3.0</td>\n      <td>49811.70</td>\n      <td>8</td>\n      <td>1</td>\n      <td>Secure Development Pte. Ltd.</td>\n      <td>262100000.0</td>\n      <td>5261.82</td>\n      <td>Riverbank @Fernvale</td>\n      <td>hdb</td>\n    </tr>\n    <tr>\n      <th>...</th>\n      <td>...</td>\n      <td>...</td>\n      <td>...</td>\n      <td>...</td>\n      <td>...</td>\n      <td>...</td>\n      <td>...</td>\n      <td>...</td>\n      <td>...</td>\n      <td>...</td>\n      <td>...</td>\n      <td>...</td>\n      <td>...</td>\n      <td>...</td>\n      <td>...</td>\n      <td>...</td>\n      <td>...</td>\n      <td>...</td>\n    </tr>\n    <tr>\n      <th>591</th>\n      <td>1992-10-19</td>\n      <td>1993-02-09</td>\n      <td>1993-05-21</td>\n      <td>Kaki Bukit</td>\n      <td>NaN</td>\n      <td>60000.0</td>\n      <td>Industrial</td>\n      <td>others</td>\n      <td>60</td>\n      <td>2.0</td>\n      <td>120000.00</td>\n      <td>2</td>\n      <td>1</td>\n      <td>Technology Parks Pte Ltd</td>\n      <td>44880000.0</td>\n      <td>374.00</td>\n      <td>NaN</td>\n      <td>ura</td>\n    </tr>\n    <tr>\n      <th>592</th>\n      <td>1992-10-19</td>\n      <td>1993-02-09</td>\n      <td>1993-05-21</td>\n      <td>Tuas South Avenue 3 / Tuas South Avenue 4</td>\n      <td>NaN</td>\n      <td>102264.0</td>\n      <td>Industrial</td>\n      <td>others</td>\n      <td>60</td>\n      <td>1.0</td>\n      <td>102264.00</td>\n      <td>1</td>\n      <td>1</td>\n      <td>Technology Parks Pte Ltd</td>\n      <td>24338800.0</td>\n      <td>238.00</td>\n      <td>NaN</td>\n      <td>ura</td>\n    </tr>\n    <tr>\n      <th>593</th>\n      <td>1992-10-19</td>\n      <td>1993-02-09</td>\n      <td>1993-05-21</td>\n      <td>Tuas South Avenue 4 / Tuas South Avenue 5</td>\n      <td>NaN</td>\n      <td>102264.0</td>\n      <td>Industrial</td>\n      <td>others</td>\n      <td>60</td>\n      <td>1.0</td>\n      <td>102264.00</td>\n      <td>1</td>\n      <td>1</td>\n      <td>Technology Parks Pte Ltd</td>\n      <td>24032000.0</td>\n      <td>235.00</td>\n      <td>NaN</td>\n      <td>ura</td>\n    </tr>\n    <tr>\n      <th>594</th>\n      <td>1992-08-31</td>\n      <td>1992-11-24</td>\n      <td>1993-02-15</td>\n      <td>Merchant Road / Angus Street</td>\n      <td>NaN</td>\n      <td>2609.0</td>\n      <td>Hotel</td>\n      <td>others</td>\n      <td>99</td>\n      <td>2.4</td>\n      <td>6167.00</td>\n      <td>2</td>\n      <td>1</td>\n      <td>Food Alley Pte Ltd</td>\n      <td>6890000.0</td>\n      <td>1117.24</td>\n      <td>NaN</td>\n      <td>ura</td>\n    </tr>\n    <tr>\n      <th>595</th>\n      <td>1992-08-31</td>\n      <td>1992-11-24</td>\n      <td>1993-02-15</td>\n      <td>Merchant Road / Magazine Road</td>\n      <td>NaN</td>\n      <td>4806.0</td>\n      <td>Commercial</td>\n      <td>commercial</td>\n      <td>99</td>\n      <td>1.7</td>\n      <td>8050.00</td>\n      <td>2</td>\n      <td>1</td>\n      <td>City Developments Limited</td>\n      <td>11500000.0</td>\n      <td>1428.57</td>\n      <td>NaN</td>\n      <td>ura</td>\n    </tr>\n  </tbody>\n</table>\n<p>596 rows × 18 columns</p>\n</div>"
     },
     "execution_count": 7,
     "metadata": {},
     "output_type": "execute_result"
    }
   ],
   "source": [
    "gls = devt_classify(gls, \"devt_type\")\n",
    "gls"
   ],
   "metadata": {
    "collapsed": false
   }
  },
  {
   "cell_type": "code",
   "execution_count": 8,
   "outputs": [
    {
     "data": {
      "text/plain": "    date_launch date_close date_award  \\\n0    2015-04-29 2015-06-23 2015-06-30   \n1    2015-04-29 2015-06-18 2015-06-23   \n2    2013-12-30 2014-04-29 2014-04-30   \n3    2013-04-15 2013-06-13 2013-06-14   \n4    2013-02-28 2013-04-11 2013-04-12   \n..          ...        ...        ...   \n591  1992-10-19 1993-02-09 1993-05-21   \n592  1992-10-19 1993-02-09 1993-05-21   \n593  1992-10-19 1993-02-09 1993-05-21   \n594  1992-08-31 1992-11-24 1993-02-15   \n595  1992-08-31 1992-11-24 1993-02-15   \n\n                                   land_parcel  \\\n0                               Queenstown S9b   \n1                                 Toa Payoh S4   \n2                                   Geylang S6   \n3                                 Sengkang S12   \n4                                 Sengkang S11   \n..                                         ...   \n591                                 Kaki Bukit   \n592  Tuas South Avenue 3 / Tuas South Avenue 4   \n593  Tuas South Avenue 4 / Tuas South Avenue 5   \n594               Merchant Road / Angus Street   \n595              Merchant Road / Magazine Road   \n\n                                      street  site_area_sqm   devt_type  \\\n0                                Dundee Road        10516.1         *CO   \n1    Lorong 6 Toa Payoh / Lorong 4 Toa Payoh        12154.6         *CO   \n2                                 Sims Drive        23900.1         *CO   \n3                             Fernvale Close        14930.5         *CO   \n4                          Sengkang West Way        16603.9         *CO   \n..                                       ...            ...         ...   \n591                                      NaN        60000.0  Industrial   \n592                                      NaN       102264.0  Industrial   \n593                                      NaN       102264.0  Industrial   \n594                                      NaN         2609.0       Hotel   \n595                                      NaN         4806.0  Commercial   \n\n      devt_class  lease_term  gpr  ...  num_bidders  tenderer_rank  \\\n0    residential          99  4.9  ...            9              1   \n1    residential          99  3.5  ...           14              1   \n2    residential          99  3.0  ...            4              1   \n3    residential          99  3.0  ...            9              1   \n4    residential          99  3.0  ...            8              1   \n..           ...         ...  ...  ...          ...            ...   \n591       others          60  2.0  ...            2              1   \n592       others          60  1.0  ...            1              1   \n593       others          60  1.0  ...            1              1   \n594       others          99  2.4  ...            2              1   \n595   commercial          99  1.7  ...            2              1   \n\n                                         tenderer_name tender_price  \\\n0                                    HY Realty Pte Ltd  483178000.0   \n1    Evia Real Estate (7) Pte Ltd, Maxdin Pte Ltd a...  345860000.0   \n2                     First Changi Development Pte Ltd  530891000.0   \n3    FCL Topaz Pte. Ltd., Far East Orchard Limited ...  256980000.0   \n4                         Secure Development Pte. Ltd.  262100000.0   \n..                                                 ...          ...   \n591                           Technology Parks Pte Ltd   44880000.0   \n592                           Technology Parks Pte Ltd   24338800.0   \n593                           Technology Parks Pte Ltd   24032000.0   \n594                                 Food Alley Pte Ltd    6890000.0   \n595                          City Developments Limited   11500000.0   \n\n     price_psm_gfa              proj_name source timediff_launch_to_close  \\\n0          9376.84            Queens Peak    hdb                       55   \n1          8130.02         Gem Residences    hdb                       50   \n2          7404.31       Sims Urban Oasis    hdb                      120   \n3          5737.25  Rivertrees Residences    hdb                       59   \n4          5261.82    Riverbank @Fernvale    hdb                       42   \n..             ...                    ...    ...                      ...   \n591         374.00                    NaN    ura                      113   \n592         238.00                    NaN    ura                      113   \n593         235.00                    NaN    ura                      113   \n594        1117.24                    NaN    ura                       85   \n595        1428.57                    NaN    ura                       85   \n\n     timediff_close_to_award  timediff_launch_to_award  \n0                          7                        62  \n1                          5                        55  \n2                          1                       121  \n3                          1                        60  \n4                          1                        43  \n..                       ...                       ...  \n591                      101                       214  \n592                      101                       214  \n593                      101                       214  \n594                       83                       168  \n595                       83                       168  \n\n[596 rows x 21 columns]",
      "text/html": "<div>\n<style scoped>\n    .dataframe tbody tr th:only-of-type {\n        vertical-align: middle;\n    }\n\n    .dataframe tbody tr th {\n        vertical-align: top;\n    }\n\n    .dataframe thead th {\n        text-align: right;\n    }\n</style>\n<table border=\"1\" class=\"dataframe\">\n  <thead>\n    <tr style=\"text-align: right;\">\n      <th></th>\n      <th>date_launch</th>\n      <th>date_close</th>\n      <th>date_award</th>\n      <th>land_parcel</th>\n      <th>street</th>\n      <th>site_area_sqm</th>\n      <th>devt_type</th>\n      <th>devt_class</th>\n      <th>lease_term</th>\n      <th>gpr</th>\n      <th>...</th>\n      <th>num_bidders</th>\n      <th>tenderer_rank</th>\n      <th>tenderer_name</th>\n      <th>tender_price</th>\n      <th>price_psm_gfa</th>\n      <th>proj_name</th>\n      <th>source</th>\n      <th>timediff_launch_to_close</th>\n      <th>timediff_close_to_award</th>\n      <th>timediff_launch_to_award</th>\n    </tr>\n  </thead>\n  <tbody>\n    <tr>\n      <th>0</th>\n      <td>2015-04-29</td>\n      <td>2015-06-23</td>\n      <td>2015-06-30</td>\n      <td>Queenstown S9b</td>\n      <td>Dundee Road</td>\n      <td>10516.1</td>\n      <td>*CO</td>\n      <td>residential</td>\n      <td>99</td>\n      <td>4.9</td>\n      <td>...</td>\n      <td>9</td>\n      <td>1</td>\n      <td>HY Realty Pte Ltd</td>\n      <td>483178000.0</td>\n      <td>9376.84</td>\n      <td>Queens Peak</td>\n      <td>hdb</td>\n      <td>55</td>\n      <td>7</td>\n      <td>62</td>\n    </tr>\n    <tr>\n      <th>1</th>\n      <td>2015-04-29</td>\n      <td>2015-06-18</td>\n      <td>2015-06-23</td>\n      <td>Toa Payoh S4</td>\n      <td>Lorong 6 Toa Payoh / Lorong 4 Toa Payoh</td>\n      <td>12154.6</td>\n      <td>*CO</td>\n      <td>residential</td>\n      <td>99</td>\n      <td>3.5</td>\n      <td>...</td>\n      <td>14</td>\n      <td>1</td>\n      <td>Evia Real Estate (7) Pte Ltd, Maxdin Pte Ltd a...</td>\n      <td>345860000.0</td>\n      <td>8130.02</td>\n      <td>Gem Residences</td>\n      <td>hdb</td>\n      <td>50</td>\n      <td>5</td>\n      <td>55</td>\n    </tr>\n    <tr>\n      <th>2</th>\n      <td>2013-12-30</td>\n      <td>2014-04-29</td>\n      <td>2014-04-30</td>\n      <td>Geylang S6</td>\n      <td>Sims Drive</td>\n      <td>23900.1</td>\n      <td>*CO</td>\n      <td>residential</td>\n      <td>99</td>\n      <td>3.0</td>\n      <td>...</td>\n      <td>4</td>\n      <td>1</td>\n      <td>First Changi Development Pte Ltd</td>\n      <td>530891000.0</td>\n      <td>7404.31</td>\n      <td>Sims Urban Oasis</td>\n      <td>hdb</td>\n      <td>120</td>\n      <td>1</td>\n      <td>121</td>\n    </tr>\n    <tr>\n      <th>3</th>\n      <td>2013-04-15</td>\n      <td>2013-06-13</td>\n      <td>2013-06-14</td>\n      <td>Sengkang S12</td>\n      <td>Fernvale Close</td>\n      <td>14930.5</td>\n      <td>*CO</td>\n      <td>residential</td>\n      <td>99</td>\n      <td>3.0</td>\n      <td>...</td>\n      <td>9</td>\n      <td>1</td>\n      <td>FCL Topaz Pte. Ltd., Far East Orchard Limited ...</td>\n      <td>256980000.0</td>\n      <td>5737.25</td>\n      <td>Rivertrees Residences</td>\n      <td>hdb</td>\n      <td>59</td>\n      <td>1</td>\n      <td>60</td>\n    </tr>\n    <tr>\n      <th>4</th>\n      <td>2013-02-28</td>\n      <td>2013-04-11</td>\n      <td>2013-04-12</td>\n      <td>Sengkang S11</td>\n      <td>Sengkang West Way</td>\n      <td>16603.9</td>\n      <td>*CO</td>\n      <td>residential</td>\n      <td>99</td>\n      <td>3.0</td>\n      <td>...</td>\n      <td>8</td>\n      <td>1</td>\n      <td>Secure Development Pte. Ltd.</td>\n      <td>262100000.0</td>\n      <td>5261.82</td>\n      <td>Riverbank @Fernvale</td>\n      <td>hdb</td>\n      <td>42</td>\n      <td>1</td>\n      <td>43</td>\n    </tr>\n    <tr>\n      <th>...</th>\n      <td>...</td>\n      <td>...</td>\n      <td>...</td>\n      <td>...</td>\n      <td>...</td>\n      <td>...</td>\n      <td>...</td>\n      <td>...</td>\n      <td>...</td>\n      <td>...</td>\n      <td>...</td>\n      <td>...</td>\n      <td>...</td>\n      <td>...</td>\n      <td>...</td>\n      <td>...</td>\n      <td>...</td>\n      <td>...</td>\n      <td>...</td>\n      <td>...</td>\n      <td>...</td>\n    </tr>\n    <tr>\n      <th>591</th>\n      <td>1992-10-19</td>\n      <td>1993-02-09</td>\n      <td>1993-05-21</td>\n      <td>Kaki Bukit</td>\n      <td>NaN</td>\n      <td>60000.0</td>\n      <td>Industrial</td>\n      <td>others</td>\n      <td>60</td>\n      <td>2.0</td>\n      <td>...</td>\n      <td>2</td>\n      <td>1</td>\n      <td>Technology Parks Pte Ltd</td>\n      <td>44880000.0</td>\n      <td>374.00</td>\n      <td>NaN</td>\n      <td>ura</td>\n      <td>113</td>\n      <td>101</td>\n      <td>214</td>\n    </tr>\n    <tr>\n      <th>592</th>\n      <td>1992-10-19</td>\n      <td>1993-02-09</td>\n      <td>1993-05-21</td>\n      <td>Tuas South Avenue 3 / Tuas South Avenue 4</td>\n      <td>NaN</td>\n      <td>102264.0</td>\n      <td>Industrial</td>\n      <td>others</td>\n      <td>60</td>\n      <td>1.0</td>\n      <td>...</td>\n      <td>1</td>\n      <td>1</td>\n      <td>Technology Parks Pte Ltd</td>\n      <td>24338800.0</td>\n      <td>238.00</td>\n      <td>NaN</td>\n      <td>ura</td>\n      <td>113</td>\n      <td>101</td>\n      <td>214</td>\n    </tr>\n    <tr>\n      <th>593</th>\n      <td>1992-10-19</td>\n      <td>1993-02-09</td>\n      <td>1993-05-21</td>\n      <td>Tuas South Avenue 4 / Tuas South Avenue 5</td>\n      <td>NaN</td>\n      <td>102264.0</td>\n      <td>Industrial</td>\n      <td>others</td>\n      <td>60</td>\n      <td>1.0</td>\n      <td>...</td>\n      <td>1</td>\n      <td>1</td>\n      <td>Technology Parks Pte Ltd</td>\n      <td>24032000.0</td>\n      <td>235.00</td>\n      <td>NaN</td>\n      <td>ura</td>\n      <td>113</td>\n      <td>101</td>\n      <td>214</td>\n    </tr>\n    <tr>\n      <th>594</th>\n      <td>1992-08-31</td>\n      <td>1992-11-24</td>\n      <td>1993-02-15</td>\n      <td>Merchant Road / Angus Street</td>\n      <td>NaN</td>\n      <td>2609.0</td>\n      <td>Hotel</td>\n      <td>others</td>\n      <td>99</td>\n      <td>2.4</td>\n      <td>...</td>\n      <td>2</td>\n      <td>1</td>\n      <td>Food Alley Pte Ltd</td>\n      <td>6890000.0</td>\n      <td>1117.24</td>\n      <td>NaN</td>\n      <td>ura</td>\n      <td>85</td>\n      <td>83</td>\n      <td>168</td>\n    </tr>\n    <tr>\n      <th>595</th>\n      <td>1992-08-31</td>\n      <td>1992-11-24</td>\n      <td>1993-02-15</td>\n      <td>Merchant Road / Magazine Road</td>\n      <td>NaN</td>\n      <td>4806.0</td>\n      <td>Commercial</td>\n      <td>commercial</td>\n      <td>99</td>\n      <td>1.7</td>\n      <td>...</td>\n      <td>2</td>\n      <td>1</td>\n      <td>City Developments Limited</td>\n      <td>11500000.0</td>\n      <td>1428.57</td>\n      <td>NaN</td>\n      <td>ura</td>\n      <td>85</td>\n      <td>83</td>\n      <td>168</td>\n    </tr>\n  </tbody>\n</table>\n<p>596 rows × 21 columns</p>\n</div>"
     },
     "execution_count": 8,
     "metadata": {},
     "output_type": "execute_result"
    }
   ],
   "source": [
    "gls[\"timediff_launch_to_close\"] = (gls.date_close - gls.date_launch).apply(lambda x: x.days)\n",
    "gls[\"timediff_close_to_award\"] = (gls.date_award - gls.date_close).apply(lambda x: x.days)\n",
    "gls[\"timediff_launch_to_award\"] = (gls.date_award - gls.date_launch).apply(lambda x: x.days)\n",
    "gls"
   ],
   "metadata": {
    "collapsed": false
   }
  },
  {
   "cell_type": "code",
   "execution_count": 9,
   "outputs": [
    {
     "data": {
      "text/plain": "    date_launch date_close date_award  \\\n0    2015-04-29 2015-06-23 2015-06-30   \n1    2015-04-29 2015-06-18 2015-06-23   \n2    2013-12-30 2014-04-29 2014-04-30   \n3    2013-04-15 2013-06-13 2013-06-14   \n4    2013-02-28 2013-04-11 2013-04-12   \n..          ...        ...        ...   \n591  1992-10-19 1993-02-09 1993-05-21   \n592  1992-10-19 1993-02-09 1993-05-21   \n593  1992-10-19 1993-02-09 1993-05-21   \n594  1992-08-31 1992-11-24 1993-02-15   \n595  1992-08-31 1992-11-24 1993-02-15   \n\n                                   land_parcel  \\\n0                               Queenstown S9b   \n1                                 Toa Payoh S4   \n2                                   Geylang S6   \n3                                 Sengkang S12   \n4                                 Sengkang S11   \n..                                         ...   \n591                                 Kaki Bukit   \n592  Tuas South Avenue 3 / Tuas South Avenue 4   \n593  Tuas South Avenue 4 / Tuas South Avenue 5   \n594               Merchant Road / Angus Street   \n595              Merchant Road / Magazine Road   \n\n                                      street  site_area_sqm   devt_type  \\\n0                                Dundee Road        10516.1         *CO   \n1    Lorong 6 Toa Payoh / Lorong 4 Toa Payoh        12154.6         *CO   \n2                                 Sims Drive        23900.1         *CO   \n3                             Fernvale Close        14930.5         *CO   \n4                          Sengkang West Way        16603.9         *CO   \n..                                       ...            ...         ...   \n591                                      NaN        60000.0  Industrial   \n592                                      NaN       102264.0  Industrial   \n593                                      NaN       102264.0  Industrial   \n594                                      NaN         2609.0       Hotel   \n595                                      NaN         4806.0  Commercial   \n\n      devt_class  lease_term  gpr  ...  month_launch  day_launch  \\\n0    residential          99  4.9  ...             4          29   \n1    residential          99  3.5  ...             4          29   \n2    residential          99  3.0  ...            12          30   \n3    residential          99  3.0  ...             4          15   \n4    residential          99  3.0  ...             2          28   \n..           ...         ...  ...  ...           ...         ...   \n591       others          60  2.0  ...            10          19   \n592       others          60  1.0  ...            10          19   \n593       others          60  1.0  ...            10          19   \n594       others          99  2.4  ...             8          31   \n595   commercial          99  1.7  ...             8          31   \n\n     close_month_index year_close  month_close  day_close award_month_index  \\\n0               201506       2015            6         23            201506   \n1               201506       2015            6         18            201506   \n2               201404       2014            4         29            201404   \n3               201306       2013            6         13            201306   \n4               201304       2013            4         11            201304   \n..                 ...        ...          ...        ...               ...   \n591             199302       1993            2          9            199305   \n592             199302       1993            2          9            199305   \n593             199302       1993            2          9            199305   \n594             199211       1992           11         24            199302   \n595             199211       1992           11         24            199302   \n\n    year_award  month_award  day_award  \n0         2015            6         30  \n1         2015            6         23  \n2         2014            4         30  \n3         2013            6         14  \n4         2013            4         12  \n..         ...          ...        ...  \n591       1993            5         21  \n592       1993            5         21  \n593       1993            5         21  \n594       1993            2         15  \n595       1993            2         15  \n\n[596 rows x 33 columns]",
      "text/html": "<div>\n<style scoped>\n    .dataframe tbody tr th:only-of-type {\n        vertical-align: middle;\n    }\n\n    .dataframe tbody tr th {\n        vertical-align: top;\n    }\n\n    .dataframe thead th {\n        text-align: right;\n    }\n</style>\n<table border=\"1\" class=\"dataframe\">\n  <thead>\n    <tr style=\"text-align: right;\">\n      <th></th>\n      <th>date_launch</th>\n      <th>date_close</th>\n      <th>date_award</th>\n      <th>land_parcel</th>\n      <th>street</th>\n      <th>site_area_sqm</th>\n      <th>devt_type</th>\n      <th>devt_class</th>\n      <th>lease_term</th>\n      <th>gpr</th>\n      <th>...</th>\n      <th>month_launch</th>\n      <th>day_launch</th>\n      <th>close_month_index</th>\n      <th>year_close</th>\n      <th>month_close</th>\n      <th>day_close</th>\n      <th>award_month_index</th>\n      <th>year_award</th>\n      <th>month_award</th>\n      <th>day_award</th>\n    </tr>\n  </thead>\n  <tbody>\n    <tr>\n      <th>0</th>\n      <td>2015-04-29</td>\n      <td>2015-06-23</td>\n      <td>2015-06-30</td>\n      <td>Queenstown S9b</td>\n      <td>Dundee Road</td>\n      <td>10516.1</td>\n      <td>*CO</td>\n      <td>residential</td>\n      <td>99</td>\n      <td>4.9</td>\n      <td>...</td>\n      <td>4</td>\n      <td>29</td>\n      <td>201506</td>\n      <td>2015</td>\n      <td>6</td>\n      <td>23</td>\n      <td>201506</td>\n      <td>2015</td>\n      <td>6</td>\n      <td>30</td>\n    </tr>\n    <tr>\n      <th>1</th>\n      <td>2015-04-29</td>\n      <td>2015-06-18</td>\n      <td>2015-06-23</td>\n      <td>Toa Payoh S4</td>\n      <td>Lorong 6 Toa Payoh / Lorong 4 Toa Payoh</td>\n      <td>12154.6</td>\n      <td>*CO</td>\n      <td>residential</td>\n      <td>99</td>\n      <td>3.5</td>\n      <td>...</td>\n      <td>4</td>\n      <td>29</td>\n      <td>201506</td>\n      <td>2015</td>\n      <td>6</td>\n      <td>18</td>\n      <td>201506</td>\n      <td>2015</td>\n      <td>6</td>\n      <td>23</td>\n    </tr>\n    <tr>\n      <th>2</th>\n      <td>2013-12-30</td>\n      <td>2014-04-29</td>\n      <td>2014-04-30</td>\n      <td>Geylang S6</td>\n      <td>Sims Drive</td>\n      <td>23900.1</td>\n      <td>*CO</td>\n      <td>residential</td>\n      <td>99</td>\n      <td>3.0</td>\n      <td>...</td>\n      <td>12</td>\n      <td>30</td>\n      <td>201404</td>\n      <td>2014</td>\n      <td>4</td>\n      <td>29</td>\n      <td>201404</td>\n      <td>2014</td>\n      <td>4</td>\n      <td>30</td>\n    </tr>\n    <tr>\n      <th>3</th>\n      <td>2013-04-15</td>\n      <td>2013-06-13</td>\n      <td>2013-06-14</td>\n      <td>Sengkang S12</td>\n      <td>Fernvale Close</td>\n      <td>14930.5</td>\n      <td>*CO</td>\n      <td>residential</td>\n      <td>99</td>\n      <td>3.0</td>\n      <td>...</td>\n      <td>4</td>\n      <td>15</td>\n      <td>201306</td>\n      <td>2013</td>\n      <td>6</td>\n      <td>13</td>\n      <td>201306</td>\n      <td>2013</td>\n      <td>6</td>\n      <td>14</td>\n    </tr>\n    <tr>\n      <th>4</th>\n      <td>2013-02-28</td>\n      <td>2013-04-11</td>\n      <td>2013-04-12</td>\n      <td>Sengkang S11</td>\n      <td>Sengkang West Way</td>\n      <td>16603.9</td>\n      <td>*CO</td>\n      <td>residential</td>\n      <td>99</td>\n      <td>3.0</td>\n      <td>...</td>\n      <td>2</td>\n      <td>28</td>\n      <td>201304</td>\n      <td>2013</td>\n      <td>4</td>\n      <td>11</td>\n      <td>201304</td>\n      <td>2013</td>\n      <td>4</td>\n      <td>12</td>\n    </tr>\n    <tr>\n      <th>...</th>\n      <td>...</td>\n      <td>...</td>\n      <td>...</td>\n      <td>...</td>\n      <td>...</td>\n      <td>...</td>\n      <td>...</td>\n      <td>...</td>\n      <td>...</td>\n      <td>...</td>\n      <td>...</td>\n      <td>...</td>\n      <td>...</td>\n      <td>...</td>\n      <td>...</td>\n      <td>...</td>\n      <td>...</td>\n      <td>...</td>\n      <td>...</td>\n      <td>...</td>\n      <td>...</td>\n    </tr>\n    <tr>\n      <th>591</th>\n      <td>1992-10-19</td>\n      <td>1993-02-09</td>\n      <td>1993-05-21</td>\n      <td>Kaki Bukit</td>\n      <td>NaN</td>\n      <td>60000.0</td>\n      <td>Industrial</td>\n      <td>others</td>\n      <td>60</td>\n      <td>2.0</td>\n      <td>...</td>\n      <td>10</td>\n      <td>19</td>\n      <td>199302</td>\n      <td>1993</td>\n      <td>2</td>\n      <td>9</td>\n      <td>199305</td>\n      <td>1993</td>\n      <td>5</td>\n      <td>21</td>\n    </tr>\n    <tr>\n      <th>592</th>\n      <td>1992-10-19</td>\n      <td>1993-02-09</td>\n      <td>1993-05-21</td>\n      <td>Tuas South Avenue 3 / Tuas South Avenue 4</td>\n      <td>NaN</td>\n      <td>102264.0</td>\n      <td>Industrial</td>\n      <td>others</td>\n      <td>60</td>\n      <td>1.0</td>\n      <td>...</td>\n      <td>10</td>\n      <td>19</td>\n      <td>199302</td>\n      <td>1993</td>\n      <td>2</td>\n      <td>9</td>\n      <td>199305</td>\n      <td>1993</td>\n      <td>5</td>\n      <td>21</td>\n    </tr>\n    <tr>\n      <th>593</th>\n      <td>1992-10-19</td>\n      <td>1993-02-09</td>\n      <td>1993-05-21</td>\n      <td>Tuas South Avenue 4 / Tuas South Avenue 5</td>\n      <td>NaN</td>\n      <td>102264.0</td>\n      <td>Industrial</td>\n      <td>others</td>\n      <td>60</td>\n      <td>1.0</td>\n      <td>...</td>\n      <td>10</td>\n      <td>19</td>\n      <td>199302</td>\n      <td>1993</td>\n      <td>2</td>\n      <td>9</td>\n      <td>199305</td>\n      <td>1993</td>\n      <td>5</td>\n      <td>21</td>\n    </tr>\n    <tr>\n      <th>594</th>\n      <td>1992-08-31</td>\n      <td>1992-11-24</td>\n      <td>1993-02-15</td>\n      <td>Merchant Road / Angus Street</td>\n      <td>NaN</td>\n      <td>2609.0</td>\n      <td>Hotel</td>\n      <td>others</td>\n      <td>99</td>\n      <td>2.4</td>\n      <td>...</td>\n      <td>8</td>\n      <td>31</td>\n      <td>199211</td>\n      <td>1992</td>\n      <td>11</td>\n      <td>24</td>\n      <td>199302</td>\n      <td>1993</td>\n      <td>2</td>\n      <td>15</td>\n    </tr>\n    <tr>\n      <th>595</th>\n      <td>1992-08-31</td>\n      <td>1992-11-24</td>\n      <td>1993-02-15</td>\n      <td>Merchant Road / Magazine Road</td>\n      <td>NaN</td>\n      <td>4806.0</td>\n      <td>Commercial</td>\n      <td>commercial</td>\n      <td>99</td>\n      <td>1.7</td>\n      <td>...</td>\n      <td>8</td>\n      <td>31</td>\n      <td>199211</td>\n      <td>1992</td>\n      <td>11</td>\n      <td>24</td>\n      <td>199302</td>\n      <td>1993</td>\n      <td>2</td>\n      <td>15</td>\n    </tr>\n  </tbody>\n</table>\n<p>596 rows × 33 columns</p>\n</div>"
     },
     "execution_count": 9,
     "metadata": {},
     "output_type": "execute_result"
    }
   ],
   "source": [
    "timetype = [\"year\", \"month\", \"day\"]\n",
    "activity = [\"launch\", \"close\", \"award\"]\n",
    "for action in activity:\n",
    "    colname = f\"date_{action}\"\n",
    "    timeidx = f\"{action}_month_index\"\n",
    "    gls[timeidx] = gls[colname].apply(lambda x: \"\".join([str(x.year), str(x.month).zfill(2)]))\n",
    "    for time in timetype:\n",
    "        new_colname = f\"{time}_{action}\"\n",
    "        if time == \"year\":\n",
    "            gls[new_colname] = gls[colname].apply(lambda x: x.year)\n",
    "        if time == \"month\":\n",
    "            gls[new_colname] = gls[colname].apply(lambda x: x.month)\n",
    "        if time == \"day\":\n",
    "            gls[new_colname] = gls[colname].apply(lambda x: x.day)\n",
    "gls"
   ],
   "metadata": {
    "collapsed": false
   }
  },
  {
   "cell_type": "code",
   "execution_count": 10,
   "outputs": [],
   "source": [
    "text_name = [\"land_parcel\", \"street\", \"devt_type\", \"tenderer_name\"]\n",
    "for col in text_name:\n",
    "    gls[col] = gls[col].apply(format_name, pattern=' */ *', repl='/')\n",
    "gls.proj_name = gls.proj_name.apply(format_name, pattern=' *@ *', repl='-at-')\n",
    "gls.proj_name = gls.proj_name.apply(format_name, pattern=' +', repl='-')\n",
    "gls.proj_name = gls.proj_name.apply(lambda x: x.lower() if pd.notna(x) else x)"
   ],
   "metadata": {
    "collapsed": false
   }
  },
  {
   "cell_type": "code",
   "execution_count": 11,
   "outputs": [
    {
     "name": "stderr",
     "output_type": "stream",
     "text": [
      "C:\\Users\\13051\\AppData\\Local\\Temp\\ipykernel_23320\\1463152919.py:3: SettingWithCopyWarning: \n",
      "A value is trying to be set on a copy of a slice from a DataFrame\n",
      "\n",
      "See the caveats in the documentation: https://pandas.pydata.org/pandas-docs/stable/user_guide/indexing.html#returning-a-view-versus-a-copy\n",
      "  gls.street[street_na_idx] = gls.land_parcel[street_na_idx]\n"
     ]
    },
    {
     "data": {
      "text/plain": "date_launch                   0\ndate_close                    0\ndate_award                    0\nland_parcel                   0\nstreet                        0\nsite_area_sqm                 0\ndevt_type                     0\ndevt_class                    0\nlease_term                    0\ngpr                          20\ngfa_sqm                      20\nnum_bidders                   0\ntenderer_rank                 0\ntenderer_name                 0\ntender_price                  0\nprice_psm_gfa                20\nproj_name                   361\nsource                        0\ntimediff_launch_to_close      0\ntimediff_close_to_award       0\ntimediff_launch_to_award      0\nlaunch_month_index            0\nyear_launch                   0\nmonth_launch                  0\nday_launch                    0\nclose_month_index             0\nyear_close                    0\nmonth_close                   0\nday_close                     0\naward_month_index             0\nyear_award                    0\nmonth_award                   0\nday_award                     0\ndtype: int64"
     },
     "execution_count": 11,
     "metadata": {},
     "output_type": "execute_result"
    }
   ],
   "source": [
    "# fill missing street values with land parcel name\n",
    "street_na_idx = gls.street[gls.street.isna()].index\n",
    "gls.street[street_na_idx] = gls.land_parcel[street_na_idx]\n",
    "gls.isna().sum()"
   ],
   "metadata": {
    "collapsed": false
   }
  },
  {
   "cell_type": "code",
   "execution_count": 12,
   "outputs": [
    {
     "data": {
      "text/plain": "    date_launch date_close date_award  \\\n0    2015-04-29 2015-06-23 2015-06-30   \n1    2015-04-29 2015-06-18 2015-06-23   \n2    2013-12-30 2014-04-29 2014-04-30   \n3    2013-04-15 2013-06-13 2013-06-14   \n4    2013-02-28 2013-04-11 2013-04-12   \n..          ...        ...        ...   \n591  1992-10-19 1993-02-09 1993-05-21   \n592  1992-10-19 1993-02-09 1993-05-21   \n593  1992-10-19 1993-02-09 1993-05-21   \n594  1992-08-31 1992-11-24 1993-02-15   \n595  1992-08-31 1992-11-24 1993-02-15   \n\n                                 land_parcel  \\\n0                             Queenstown S9b   \n1                               Toa Payoh S4   \n2                                 Geylang S6   \n3                               Sengkang S12   \n4                               Sengkang S11   \n..                                       ...   \n591                               Kaki Bukit   \n592  Tuas South Avenue 3/Tuas South Avenue 4   \n593  Tuas South Avenue 4/Tuas South Avenue 5   \n594               Merchant Road/Angus Street   \n595              Merchant Road/Magazine Road   \n\n                                      street  site_area_sqm   devt_type  \\\n0                                Dundee Road        10516.1         *CO   \n1      Lorong 6 Toa Payoh/Lorong 4 Toa Payoh        12154.6         *CO   \n2                                 Sims Drive        23900.1         *CO   \n3                             Fernvale Close        14930.5         *CO   \n4                          Sengkang West Way        16603.9         *CO   \n..                                       ...            ...         ...   \n591                               Kaki Bukit        60000.0  Industrial   \n592  Tuas South Avenue 3/Tuas South Avenue 4       102264.0  Industrial   \n593  Tuas South Avenue 4/Tuas South Avenue 5       102264.0  Industrial   \n594               Merchant Road/Angus Street         2609.0       Hotel   \n595              Merchant Road/Magazine Road         4806.0  Commercial   \n\n      devt_class  lease_term  gpr  ...  month_launch  day_launch  \\\n0    residential          99  4.9  ...             4          29   \n1    residential          99  3.5  ...             4          29   \n2    residential          99  3.0  ...            12          30   \n3    residential          99  3.0  ...             4          15   \n4    residential          99  3.0  ...             2          28   \n..           ...         ...  ...  ...           ...         ...   \n591       others          60  2.0  ...            10          19   \n592       others          60  1.0  ...            10          19   \n593       others          60  1.0  ...            10          19   \n594       others          99  2.4  ...             8          31   \n595   commercial          99  1.7  ...             8          31   \n\n     close_month_index year_close  month_close  day_close award_month_index  \\\n0               201506       2015            6         23            201506   \n1               201506       2015            6         18            201506   \n2               201404       2014            4         29            201404   \n3               201306       2013            6         13            201306   \n4               201304       2013            4         11            201304   \n..                 ...        ...          ...        ...               ...   \n591             199302       1993            2          9            199305   \n592             199302       1993            2          9            199305   \n593             199302       1993            2          9            199305   \n594             199211       1992           11         24            199302   \n595             199211       1992           11         24            199302   \n\n    year_award  month_award  day_award  \n0         2015            6         30  \n1         2015            6         23  \n2         2014            4         30  \n3         2013            6         14  \n4         2013            4         12  \n..         ...          ...        ...  \n591       1993            5         21  \n592       1993            5         21  \n593       1993            5         21  \n594       1993            2         15  \n595       1993            2         15  \n\n[596 rows x 33 columns]",
      "text/html": "<div>\n<style scoped>\n    .dataframe tbody tr th:only-of-type {\n        vertical-align: middle;\n    }\n\n    .dataframe tbody tr th {\n        vertical-align: top;\n    }\n\n    .dataframe thead th {\n        text-align: right;\n    }\n</style>\n<table border=\"1\" class=\"dataframe\">\n  <thead>\n    <tr style=\"text-align: right;\">\n      <th></th>\n      <th>date_launch</th>\n      <th>date_close</th>\n      <th>date_award</th>\n      <th>land_parcel</th>\n      <th>street</th>\n      <th>site_area_sqm</th>\n      <th>devt_type</th>\n      <th>devt_class</th>\n      <th>lease_term</th>\n      <th>gpr</th>\n      <th>...</th>\n      <th>month_launch</th>\n      <th>day_launch</th>\n      <th>close_month_index</th>\n      <th>year_close</th>\n      <th>month_close</th>\n      <th>day_close</th>\n      <th>award_month_index</th>\n      <th>year_award</th>\n      <th>month_award</th>\n      <th>day_award</th>\n    </tr>\n  </thead>\n  <tbody>\n    <tr>\n      <th>0</th>\n      <td>2015-04-29</td>\n      <td>2015-06-23</td>\n      <td>2015-06-30</td>\n      <td>Queenstown S9b</td>\n      <td>Dundee Road</td>\n      <td>10516.1</td>\n      <td>*CO</td>\n      <td>residential</td>\n      <td>99</td>\n      <td>4.9</td>\n      <td>...</td>\n      <td>4</td>\n      <td>29</td>\n      <td>201506</td>\n      <td>2015</td>\n      <td>6</td>\n      <td>23</td>\n      <td>201506</td>\n      <td>2015</td>\n      <td>6</td>\n      <td>30</td>\n    </tr>\n    <tr>\n      <th>1</th>\n      <td>2015-04-29</td>\n      <td>2015-06-18</td>\n      <td>2015-06-23</td>\n      <td>Toa Payoh S4</td>\n      <td>Lorong 6 Toa Payoh/Lorong 4 Toa Payoh</td>\n      <td>12154.6</td>\n      <td>*CO</td>\n      <td>residential</td>\n      <td>99</td>\n      <td>3.5</td>\n      <td>...</td>\n      <td>4</td>\n      <td>29</td>\n      <td>201506</td>\n      <td>2015</td>\n      <td>6</td>\n      <td>18</td>\n      <td>201506</td>\n      <td>2015</td>\n      <td>6</td>\n      <td>23</td>\n    </tr>\n    <tr>\n      <th>2</th>\n      <td>2013-12-30</td>\n      <td>2014-04-29</td>\n      <td>2014-04-30</td>\n      <td>Geylang S6</td>\n      <td>Sims Drive</td>\n      <td>23900.1</td>\n      <td>*CO</td>\n      <td>residential</td>\n      <td>99</td>\n      <td>3.0</td>\n      <td>...</td>\n      <td>12</td>\n      <td>30</td>\n      <td>201404</td>\n      <td>2014</td>\n      <td>4</td>\n      <td>29</td>\n      <td>201404</td>\n      <td>2014</td>\n      <td>4</td>\n      <td>30</td>\n    </tr>\n    <tr>\n      <th>3</th>\n      <td>2013-04-15</td>\n      <td>2013-06-13</td>\n      <td>2013-06-14</td>\n      <td>Sengkang S12</td>\n      <td>Fernvale Close</td>\n      <td>14930.5</td>\n      <td>*CO</td>\n      <td>residential</td>\n      <td>99</td>\n      <td>3.0</td>\n      <td>...</td>\n      <td>4</td>\n      <td>15</td>\n      <td>201306</td>\n      <td>2013</td>\n      <td>6</td>\n      <td>13</td>\n      <td>201306</td>\n      <td>2013</td>\n      <td>6</td>\n      <td>14</td>\n    </tr>\n    <tr>\n      <th>4</th>\n      <td>2013-02-28</td>\n      <td>2013-04-11</td>\n      <td>2013-04-12</td>\n      <td>Sengkang S11</td>\n      <td>Sengkang West Way</td>\n      <td>16603.9</td>\n      <td>*CO</td>\n      <td>residential</td>\n      <td>99</td>\n      <td>3.0</td>\n      <td>...</td>\n      <td>2</td>\n      <td>28</td>\n      <td>201304</td>\n      <td>2013</td>\n      <td>4</td>\n      <td>11</td>\n      <td>201304</td>\n      <td>2013</td>\n      <td>4</td>\n      <td>12</td>\n    </tr>\n    <tr>\n      <th>...</th>\n      <td>...</td>\n      <td>...</td>\n      <td>...</td>\n      <td>...</td>\n      <td>...</td>\n      <td>...</td>\n      <td>...</td>\n      <td>...</td>\n      <td>...</td>\n      <td>...</td>\n      <td>...</td>\n      <td>...</td>\n      <td>...</td>\n      <td>...</td>\n      <td>...</td>\n      <td>...</td>\n      <td>...</td>\n      <td>...</td>\n      <td>...</td>\n      <td>...</td>\n      <td>...</td>\n    </tr>\n    <tr>\n      <th>591</th>\n      <td>1992-10-19</td>\n      <td>1993-02-09</td>\n      <td>1993-05-21</td>\n      <td>Kaki Bukit</td>\n      <td>Kaki Bukit</td>\n      <td>60000.0</td>\n      <td>Industrial</td>\n      <td>others</td>\n      <td>60</td>\n      <td>2.0</td>\n      <td>...</td>\n      <td>10</td>\n      <td>19</td>\n      <td>199302</td>\n      <td>1993</td>\n      <td>2</td>\n      <td>9</td>\n      <td>199305</td>\n      <td>1993</td>\n      <td>5</td>\n      <td>21</td>\n    </tr>\n    <tr>\n      <th>592</th>\n      <td>1992-10-19</td>\n      <td>1993-02-09</td>\n      <td>1993-05-21</td>\n      <td>Tuas South Avenue 3/Tuas South Avenue 4</td>\n      <td>Tuas South Avenue 3/Tuas South Avenue 4</td>\n      <td>102264.0</td>\n      <td>Industrial</td>\n      <td>others</td>\n      <td>60</td>\n      <td>1.0</td>\n      <td>...</td>\n      <td>10</td>\n      <td>19</td>\n      <td>199302</td>\n      <td>1993</td>\n      <td>2</td>\n      <td>9</td>\n      <td>199305</td>\n      <td>1993</td>\n      <td>5</td>\n      <td>21</td>\n    </tr>\n    <tr>\n      <th>593</th>\n      <td>1992-10-19</td>\n      <td>1993-02-09</td>\n      <td>1993-05-21</td>\n      <td>Tuas South Avenue 4/Tuas South Avenue 5</td>\n      <td>Tuas South Avenue 4/Tuas South Avenue 5</td>\n      <td>102264.0</td>\n      <td>Industrial</td>\n      <td>others</td>\n      <td>60</td>\n      <td>1.0</td>\n      <td>...</td>\n      <td>10</td>\n      <td>19</td>\n      <td>199302</td>\n      <td>1993</td>\n      <td>2</td>\n      <td>9</td>\n      <td>199305</td>\n      <td>1993</td>\n      <td>5</td>\n      <td>21</td>\n    </tr>\n    <tr>\n      <th>594</th>\n      <td>1992-08-31</td>\n      <td>1992-11-24</td>\n      <td>1993-02-15</td>\n      <td>Merchant Road/Angus Street</td>\n      <td>Merchant Road/Angus Street</td>\n      <td>2609.0</td>\n      <td>Hotel</td>\n      <td>others</td>\n      <td>99</td>\n      <td>2.4</td>\n      <td>...</td>\n      <td>8</td>\n      <td>31</td>\n      <td>199211</td>\n      <td>1992</td>\n      <td>11</td>\n      <td>24</td>\n      <td>199302</td>\n      <td>1993</td>\n      <td>2</td>\n      <td>15</td>\n    </tr>\n    <tr>\n      <th>595</th>\n      <td>1992-08-31</td>\n      <td>1992-11-24</td>\n      <td>1993-02-15</td>\n      <td>Merchant Road/Magazine Road</td>\n      <td>Merchant Road/Magazine Road</td>\n      <td>4806.0</td>\n      <td>Commercial</td>\n      <td>commercial</td>\n      <td>99</td>\n      <td>1.7</td>\n      <td>...</td>\n      <td>8</td>\n      <td>31</td>\n      <td>199211</td>\n      <td>1992</td>\n      <td>11</td>\n      <td>24</td>\n      <td>199302</td>\n      <td>1993</td>\n      <td>2</td>\n      <td>15</td>\n    </tr>\n  </tbody>\n</table>\n<p>596 rows × 33 columns</p>\n</div>"
     },
     "execution_count": 12,
     "metadata": {},
     "output_type": "execute_result"
    }
   ],
   "source": [
    "# separate residential and non-residential proj name\n",
    "gls.rename(columns={\"proj_name\": \"proj_name_raw\"}, inplace=True)\n",
    "gls"
   ],
   "metadata": {
    "collapsed": false
   }
  },
  {
   "cell_type": "code",
   "execution_count": 13,
   "outputs": [],
   "source": [
    "# for res, just proj-name-res = proj name\n",
    "# for commercial, others, just proj-name-non-res = proj name\n",
    "# for mixed devt with 2 names, separate; with 1 name only, both = proj name\n",
    "gls.insert(loc=17, column=\"proj_name_res\", value=np.nan)\n",
    "gls.insert(loc=18, column=\"proj_name_non_res\", value=np.nan)"
   ],
   "metadata": {
    "collapsed": false
   }
  },
  {
   "cell_type": "code",
   "execution_count": 14,
   "outputs": [],
   "source": [
    "res_idx = gls.devt_class[gls.devt_class=='residential'].index\n",
    "non_res_idx = gls.devt_class[(gls.devt_class=='others') | (gls.devt_class=='others')].index\n",
    "mixed_idx_double_name = gls.devt_class[(gls.devt_class=='rc') & (gls.proj_name_raw.str.contains('&'))].index\n",
    "mixed_idx_single_name = gls.devt_class[(gls.devt_class=='rc') & (~gls.proj_name_raw.str.contains('&', na=False))].index"
   ],
   "metadata": {
    "collapsed": false
   }
  },
  {
   "cell_type": "code",
   "execution_count": 15,
   "outputs": [
    {
     "name": "stderr",
     "output_type": "stream",
     "text": [
      "C:\\Users\\13051\\AppData\\Local\\Temp\\ipykernel_23320\\3927932703.py:1: SettingWithCopyWarning: \n",
      "A value is trying to be set on a copy of a slice from a DataFrame\n",
      "\n",
      "See the caveats in the documentation: https://pandas.pydata.org/pandas-docs/stable/user_guide/indexing.html#returning-a-view-versus-a-copy\n",
      "  gls.proj_name_res[res_idx] = gls.proj_name_raw[res_idx]\n",
      "C:\\Users\\13051\\AppData\\Local\\Temp\\ipykernel_23320\\3927932703.py:2: SettingWithCopyWarning: \n",
      "A value is trying to be set on a copy of a slice from a DataFrame\n",
      "\n",
      "See the caveats in the documentation: https://pandas.pydata.org/pandas-docs/stable/user_guide/indexing.html#returning-a-view-versus-a-copy\n",
      "  gls.proj_name_res[mixed_idx_single_name] = gls.proj_name_raw[mixed_idx_single_name]\n",
      "C:\\Users\\13051\\AppData\\Local\\Temp\\ipykernel_23320\\3927932703.py:3: SettingWithCopyWarning: \n",
      "A value is trying to be set on a copy of a slice from a DataFrame\n",
      "\n",
      "See the caveats in the documentation: https://pandas.pydata.org/pandas-docs/stable/user_guide/indexing.html#returning-a-view-versus-a-copy\n",
      "  gls.proj_name_non_res[non_res_idx] = gls.proj_name_raw[non_res_idx]\n",
      "C:\\Users\\13051\\AppData\\Local\\Temp\\ipykernel_23320\\3927932703.py:4: SettingWithCopyWarning: \n",
      "A value is trying to be set on a copy of a slice from a DataFrame\n",
      "\n",
      "See the caveats in the documentation: https://pandas.pydata.org/pandas-docs/stable/user_guide/indexing.html#returning-a-view-versus-a-copy\n",
      "  gls.proj_name_non_res[mixed_idx_single_name] = gls.proj_name_raw[mixed_idx_single_name]\n"
     ]
    },
    {
     "data": {
      "text/plain": "      devt_class          proj_name_raw          proj_name_res  \\\n0    residential            queens-peak            queens-peak   \n1    residential         gem-residences         gem-residences   \n2    residential       sims-urban-oasis       sims-urban-oasis   \n3    residential  rivertrees-residences  rivertrees-residences   \n4    residential  riverbank-at-fernvale  riverbank-at-fernvale   \n..           ...                    ...                    ...   \n591       others                    NaN                    NaN   \n592       others                    NaN                    NaN   \n593       others                    NaN                    NaN   \n594       others                    NaN                    NaN   \n595   commercial                    NaN                    NaN   \n\n    proj_name_non_res  \n0                 NaN  \n1                 NaN  \n2                 NaN  \n3                 NaN  \n4                 NaN  \n..                ...  \n591               NaN  \n592               NaN  \n593               NaN  \n594               NaN  \n595               NaN  \n\n[596 rows x 4 columns]",
      "text/html": "<div>\n<style scoped>\n    .dataframe tbody tr th:only-of-type {\n        vertical-align: middle;\n    }\n\n    .dataframe tbody tr th {\n        vertical-align: top;\n    }\n\n    .dataframe thead th {\n        text-align: right;\n    }\n</style>\n<table border=\"1\" class=\"dataframe\">\n  <thead>\n    <tr style=\"text-align: right;\">\n      <th></th>\n      <th>devt_class</th>\n      <th>proj_name_raw</th>\n      <th>proj_name_res</th>\n      <th>proj_name_non_res</th>\n    </tr>\n  </thead>\n  <tbody>\n    <tr>\n      <th>0</th>\n      <td>residential</td>\n      <td>queens-peak</td>\n      <td>queens-peak</td>\n      <td>NaN</td>\n    </tr>\n    <tr>\n      <th>1</th>\n      <td>residential</td>\n      <td>gem-residences</td>\n      <td>gem-residences</td>\n      <td>NaN</td>\n    </tr>\n    <tr>\n      <th>2</th>\n      <td>residential</td>\n      <td>sims-urban-oasis</td>\n      <td>sims-urban-oasis</td>\n      <td>NaN</td>\n    </tr>\n    <tr>\n      <th>3</th>\n      <td>residential</td>\n      <td>rivertrees-residences</td>\n      <td>rivertrees-residences</td>\n      <td>NaN</td>\n    </tr>\n    <tr>\n      <th>4</th>\n      <td>residential</td>\n      <td>riverbank-at-fernvale</td>\n      <td>riverbank-at-fernvale</td>\n      <td>NaN</td>\n    </tr>\n    <tr>\n      <th>...</th>\n      <td>...</td>\n      <td>...</td>\n      <td>...</td>\n      <td>...</td>\n    </tr>\n    <tr>\n      <th>591</th>\n      <td>others</td>\n      <td>NaN</td>\n      <td>NaN</td>\n      <td>NaN</td>\n    </tr>\n    <tr>\n      <th>592</th>\n      <td>others</td>\n      <td>NaN</td>\n      <td>NaN</td>\n      <td>NaN</td>\n    </tr>\n    <tr>\n      <th>593</th>\n      <td>others</td>\n      <td>NaN</td>\n      <td>NaN</td>\n      <td>NaN</td>\n    </tr>\n    <tr>\n      <th>594</th>\n      <td>others</td>\n      <td>NaN</td>\n      <td>NaN</td>\n      <td>NaN</td>\n    </tr>\n    <tr>\n      <th>595</th>\n      <td>commercial</td>\n      <td>NaN</td>\n      <td>NaN</td>\n      <td>NaN</td>\n    </tr>\n  </tbody>\n</table>\n<p>596 rows × 4 columns</p>\n</div>"
     },
     "execution_count": 15,
     "metadata": {},
     "output_type": "execute_result"
    }
   ],
   "source": [
    "gls.proj_name_res[res_idx] = gls.proj_name_raw[res_idx]\n",
    "gls.proj_name_res[mixed_idx_single_name] = gls.proj_name_raw[mixed_idx_single_name]\n",
    "gls.proj_name_non_res[non_res_idx] = gls.proj_name_raw[non_res_idx]\n",
    "gls.proj_name_non_res[mixed_idx_single_name] = gls.proj_name_raw[mixed_idx_single_name]\n",
    "gls[[\"devt_class\", \"proj_name_raw\", \"proj_name_res\", \"proj_name_non_res\"]]"
   ],
   "metadata": {
    "collapsed": false
   }
  },
  {
   "cell_type": "code",
   "execution_count": 16,
   "outputs": [
    {
     "name": "stderr",
     "output_type": "stream",
     "text": [
      "C:\\Users\\13051\\AppData\\Local\\Temp\\ipykernel_23320\\141966943.py:1: SettingWithCopyWarning: \n",
      "A value is trying to be set on a copy of a slice from a DataFrame\n",
      "\n",
      "See the caveats in the documentation: https://pandas.pydata.org/pandas-docs/stable/user_guide/indexing.html#returning-a-view-versus-a-copy\n",
      "  gls.proj_name_res[mixed_idx_double_name] = gls.proj_name_raw[mixed_idx_double_name].apply(lambda x: x.split('-&-')[1])\n",
      "C:\\Users\\13051\\AppData\\Local\\Temp\\ipykernel_23320\\141966943.py:2: SettingWithCopyWarning: \n",
      "A value is trying to be set on a copy of a slice from a DataFrame\n",
      "\n",
      "See the caveats in the documentation: https://pandas.pydata.org/pandas-docs/stable/user_guide/indexing.html#returning-a-view-versus-a-copy\n",
      "  gls.proj_name_non_res[mixed_idx_double_name] = gls.proj_name_raw[mixed_idx_double_name].apply(lambda x: x.split('-&-')[0])\n"
     ]
    },
    {
     "data": {
      "text/plain": "      devt_class          proj_name_raw          proj_name_res  \\\n0    residential            queens-peak            queens-peak   \n1    residential         gem-residences         gem-residences   \n2    residential       sims-urban-oasis       sims-urban-oasis   \n3    residential  rivertrees-residences  rivertrees-residences   \n4    residential  riverbank-at-fernvale  riverbank-at-fernvale   \n..           ...                    ...                    ...   \n591       others                    NaN                    NaN   \n592       others                    NaN                    NaN   \n593       others                    NaN                    NaN   \n594       others                    NaN                    NaN   \n595   commercial                    NaN                    NaN   \n\n    proj_name_non_res  \n0                 NaN  \n1                 NaN  \n2                 NaN  \n3                 NaN  \n4                 NaN  \n..                ...  \n591               NaN  \n592               NaN  \n593               NaN  \n594               NaN  \n595               NaN  \n\n[596 rows x 4 columns]",
      "text/html": "<div>\n<style scoped>\n    .dataframe tbody tr th:only-of-type {\n        vertical-align: middle;\n    }\n\n    .dataframe tbody tr th {\n        vertical-align: top;\n    }\n\n    .dataframe thead th {\n        text-align: right;\n    }\n</style>\n<table border=\"1\" class=\"dataframe\">\n  <thead>\n    <tr style=\"text-align: right;\">\n      <th></th>\n      <th>devt_class</th>\n      <th>proj_name_raw</th>\n      <th>proj_name_res</th>\n      <th>proj_name_non_res</th>\n    </tr>\n  </thead>\n  <tbody>\n    <tr>\n      <th>0</th>\n      <td>residential</td>\n      <td>queens-peak</td>\n      <td>queens-peak</td>\n      <td>NaN</td>\n    </tr>\n    <tr>\n      <th>1</th>\n      <td>residential</td>\n      <td>gem-residences</td>\n      <td>gem-residences</td>\n      <td>NaN</td>\n    </tr>\n    <tr>\n      <th>2</th>\n      <td>residential</td>\n      <td>sims-urban-oasis</td>\n      <td>sims-urban-oasis</td>\n      <td>NaN</td>\n    </tr>\n    <tr>\n      <th>3</th>\n      <td>residential</td>\n      <td>rivertrees-residences</td>\n      <td>rivertrees-residences</td>\n      <td>NaN</td>\n    </tr>\n    <tr>\n      <th>4</th>\n      <td>residential</td>\n      <td>riverbank-at-fernvale</td>\n      <td>riverbank-at-fernvale</td>\n      <td>NaN</td>\n    </tr>\n    <tr>\n      <th>...</th>\n      <td>...</td>\n      <td>...</td>\n      <td>...</td>\n      <td>...</td>\n    </tr>\n    <tr>\n      <th>591</th>\n      <td>others</td>\n      <td>NaN</td>\n      <td>NaN</td>\n      <td>NaN</td>\n    </tr>\n    <tr>\n      <th>592</th>\n      <td>others</td>\n      <td>NaN</td>\n      <td>NaN</td>\n      <td>NaN</td>\n    </tr>\n    <tr>\n      <th>593</th>\n      <td>others</td>\n      <td>NaN</td>\n      <td>NaN</td>\n      <td>NaN</td>\n    </tr>\n    <tr>\n      <th>594</th>\n      <td>others</td>\n      <td>NaN</td>\n      <td>NaN</td>\n      <td>NaN</td>\n    </tr>\n    <tr>\n      <th>595</th>\n      <td>commercial</td>\n      <td>NaN</td>\n      <td>NaN</td>\n      <td>NaN</td>\n    </tr>\n  </tbody>\n</table>\n<p>596 rows × 4 columns</p>\n</div>"
     },
     "execution_count": 16,
     "metadata": {},
     "output_type": "execute_result"
    }
   ],
   "source": [
    "gls.proj_name_res[mixed_idx_double_name] = gls.proj_name_raw[mixed_idx_double_name].apply(lambda x: x.split('-&-')[1])\n",
    "gls.proj_name_non_res[mixed_idx_double_name] = gls.proj_name_raw[mixed_idx_double_name].apply(lambda x: x.split('-&-')[0])\n",
    "gls[[\"devt_class\", \"proj_name_raw\", \"proj_name_res\", \"proj_name_non_res\"]]"
   ],
   "metadata": {
    "collapsed": false
   }
  },
  {
   "cell_type": "markdown",
   "source": [
    "### create uuid"
   ],
   "metadata": {
    "collapsed": false
   }
  },
  {
   "cell_type": "code",
   "execution_count": 17,
   "outputs": [
    {
     "data": {
      "text/plain": "0                     2015-04-29Queenstown S9b10516.1hdb\n1                       2015-04-29Toa Payoh S412154.6hdb\n2                         2013-12-30Geylang S623900.1hdb\n3                       2013-04-15Sengkang S1214930.5hdb\n4                       2013-02-28Sengkang S1116603.9hdb\n                             ...                        \n591                       1992-10-19Kaki Bukit60000.0ura\n592    1992-10-19Tuas South Avenue 3/Tuas South Avenu...\n593    1992-10-19Tuas South Avenue 4/Tuas South Avenu...\n594        1992-08-31Merchant Road/Angus Street2609.0ura\n595       1992-08-31Merchant Road/Magazine Road4806.0ura\nName: gls_text_id, Length: 596, dtype: object"
     },
     "execution_count": 17,
     "metadata": {},
     "output_type": "execute_result"
    }
   ],
   "source": [
    "# create uuid\n",
    "gls[\"gls_text_id\"] = gls.date_launch.astype(str) + gls.land_parcel + gls.site_area_sqm.astype(str) + gls.source\n",
    "gls.gls_text_id"
   ],
   "metadata": {
    "collapsed": false
   }
  },
  {
   "cell_type": "code",
   "execution_count": 18,
   "outputs": [],
   "source": [
    "gls.insert(loc=0, column=\"sg_gls_id\", value=gls.gls_text_id.apply(lambda x: hashlib.sha256(x.encode('utf-8')).hexdigest()))"
   ],
   "metadata": {
    "collapsed": false
   }
  },
  {
   "cell_type": "code",
   "execution_count": 19,
   "outputs": [
    {
     "data": {
      "text/plain": "                                             sg_gls_id date_launch date_close  \\\n0    8c101477584713a9310e02940aac6b059e37833ab6848d...  2015-04-29 2015-06-23   \n1    f2e43515a8e783bc2314727cb58587c8ee761ab7a4a016...  2015-04-29 2015-06-18   \n2    384815dd4cafcbf88b2f11099d8bced7a584736ec36742...  2013-12-30 2014-04-29   \n3    05c11060bf1cbcb2db7aa3ed898c19a09fd298c3b1c3a4...  2013-04-15 2013-06-13   \n4    d9fcb7d323ca5b77f6a22635200afafdd99e67f6feb109...  2013-02-28 2013-04-11   \n..                                                 ...         ...        ...   \n591  2b49a7c56443c8359c7d541c2f8c44889120a0b497d9c5...  1992-10-19 1993-02-09   \n592  40e8902a48c5f3b717a76c37e270d2360da9e1172da322...  1992-10-19 1993-02-09   \n593  43e84a0ed4744cddede5fb08c7162e61eb86cdf7b7823d...  1992-10-19 1993-02-09   \n594  473d6c80a232fc34e07f2a9ef544b66270d175537468eb...  1992-08-31 1992-11-24   \n595  50895000069c66ef0605e7f5fc87b07ecbbb602ea102ff...  1992-08-31 1992-11-24   \n\n    date_award                              land_parcel  \\\n0   2015-06-30                           Queenstown S9b   \n1   2015-06-23                             Toa Payoh S4   \n2   2014-04-30                               Geylang S6   \n3   2013-06-14                             Sengkang S12   \n4   2013-04-12                             Sengkang S11   \n..         ...                                      ...   \n591 1993-05-21                               Kaki Bukit   \n592 1993-05-21  Tuas South Avenue 3/Tuas South Avenue 4   \n593 1993-05-21  Tuas South Avenue 4/Tuas South Avenue 5   \n594 1993-02-15               Merchant Road/Angus Street   \n595 1993-02-15              Merchant Road/Magazine Road   \n\n                                      street  site_area_sqm   devt_type  \\\n0                                Dundee Road        10516.1         *CO   \n1      Lorong 6 Toa Payoh/Lorong 4 Toa Payoh        12154.6         *CO   \n2                                 Sims Drive        23900.1         *CO   \n3                             Fernvale Close        14930.5         *CO   \n4                          Sengkang West Way        16603.9         *CO   \n..                                       ...            ...         ...   \n591                               Kaki Bukit        60000.0  Industrial   \n592  Tuas South Avenue 3/Tuas South Avenue 4       102264.0  Industrial   \n593  Tuas South Avenue 4/Tuas South Avenue 5       102264.0  Industrial   \n594               Merchant Road/Angus Street         2609.0       Hotel   \n595              Merchant Road/Magazine Road         4806.0  Commercial   \n\n      devt_class  lease_term  ...  month_launch  day_launch  \\\n0    residential          99  ...             4          29   \n1    residential          99  ...             4          29   \n2    residential          99  ...            12          30   \n3    residential          99  ...             4          15   \n4    residential          99  ...             2          28   \n..           ...         ...  ...           ...         ...   \n591       others          60  ...            10          19   \n592       others          60  ...            10          19   \n593       others          60  ...            10          19   \n594       others          99  ...             8          31   \n595   commercial          99  ...             8          31   \n\n     close_month_index  year_close month_close  day_close  award_month_index  \\\n0               201506        2015           6         23             201506   \n1               201506        2015           6         18             201506   \n2               201404        2014           4         29             201404   \n3               201306        2013           6         13             201306   \n4               201304        2013           4         11             201304   \n..                 ...         ...         ...        ...                ...   \n591             199302        1993           2          9             199305   \n592             199302        1993           2          9             199305   \n593             199302        1993           2          9             199305   \n594             199211        1992          11         24             199302   \n595             199211        1992          11         24             199302   \n\n    year_award month_award day_award  \n0         2015           6        30  \n1         2015           6        23  \n2         2014           4        30  \n3         2013           6        14  \n4         2013           4        12  \n..         ...         ...       ...  \n591       1993           5        21  \n592       1993           5        21  \n593       1993           5        21  \n594       1993           2        15  \n595       1993           2        15  \n\n[596 rows x 36 columns]",
      "text/html": "<div>\n<style scoped>\n    .dataframe tbody tr th:only-of-type {\n        vertical-align: middle;\n    }\n\n    .dataframe tbody tr th {\n        vertical-align: top;\n    }\n\n    .dataframe thead th {\n        text-align: right;\n    }\n</style>\n<table border=\"1\" class=\"dataframe\">\n  <thead>\n    <tr style=\"text-align: right;\">\n      <th></th>\n      <th>sg_gls_id</th>\n      <th>date_launch</th>\n      <th>date_close</th>\n      <th>date_award</th>\n      <th>land_parcel</th>\n      <th>street</th>\n      <th>site_area_sqm</th>\n      <th>devt_type</th>\n      <th>devt_class</th>\n      <th>lease_term</th>\n      <th>...</th>\n      <th>month_launch</th>\n      <th>day_launch</th>\n      <th>close_month_index</th>\n      <th>year_close</th>\n      <th>month_close</th>\n      <th>day_close</th>\n      <th>award_month_index</th>\n      <th>year_award</th>\n      <th>month_award</th>\n      <th>day_award</th>\n    </tr>\n  </thead>\n  <tbody>\n    <tr>\n      <th>0</th>\n      <td>8c101477584713a9310e02940aac6b059e37833ab6848d...</td>\n      <td>2015-04-29</td>\n      <td>2015-06-23</td>\n      <td>2015-06-30</td>\n      <td>Queenstown S9b</td>\n      <td>Dundee Road</td>\n      <td>10516.1</td>\n      <td>*CO</td>\n      <td>residential</td>\n      <td>99</td>\n      <td>...</td>\n      <td>4</td>\n      <td>29</td>\n      <td>201506</td>\n      <td>2015</td>\n      <td>6</td>\n      <td>23</td>\n      <td>201506</td>\n      <td>2015</td>\n      <td>6</td>\n      <td>30</td>\n    </tr>\n    <tr>\n      <th>1</th>\n      <td>f2e43515a8e783bc2314727cb58587c8ee761ab7a4a016...</td>\n      <td>2015-04-29</td>\n      <td>2015-06-18</td>\n      <td>2015-06-23</td>\n      <td>Toa Payoh S4</td>\n      <td>Lorong 6 Toa Payoh/Lorong 4 Toa Payoh</td>\n      <td>12154.6</td>\n      <td>*CO</td>\n      <td>residential</td>\n      <td>99</td>\n      <td>...</td>\n      <td>4</td>\n      <td>29</td>\n      <td>201506</td>\n      <td>2015</td>\n      <td>6</td>\n      <td>18</td>\n      <td>201506</td>\n      <td>2015</td>\n      <td>6</td>\n      <td>23</td>\n    </tr>\n    <tr>\n      <th>2</th>\n      <td>384815dd4cafcbf88b2f11099d8bced7a584736ec36742...</td>\n      <td>2013-12-30</td>\n      <td>2014-04-29</td>\n      <td>2014-04-30</td>\n      <td>Geylang S6</td>\n      <td>Sims Drive</td>\n      <td>23900.1</td>\n      <td>*CO</td>\n      <td>residential</td>\n      <td>99</td>\n      <td>...</td>\n      <td>12</td>\n      <td>30</td>\n      <td>201404</td>\n      <td>2014</td>\n      <td>4</td>\n      <td>29</td>\n      <td>201404</td>\n      <td>2014</td>\n      <td>4</td>\n      <td>30</td>\n    </tr>\n    <tr>\n      <th>3</th>\n      <td>05c11060bf1cbcb2db7aa3ed898c19a09fd298c3b1c3a4...</td>\n      <td>2013-04-15</td>\n      <td>2013-06-13</td>\n      <td>2013-06-14</td>\n      <td>Sengkang S12</td>\n      <td>Fernvale Close</td>\n      <td>14930.5</td>\n      <td>*CO</td>\n      <td>residential</td>\n      <td>99</td>\n      <td>...</td>\n      <td>4</td>\n      <td>15</td>\n      <td>201306</td>\n      <td>2013</td>\n      <td>6</td>\n      <td>13</td>\n      <td>201306</td>\n      <td>2013</td>\n      <td>6</td>\n      <td>14</td>\n    </tr>\n    <tr>\n      <th>4</th>\n      <td>d9fcb7d323ca5b77f6a22635200afafdd99e67f6feb109...</td>\n      <td>2013-02-28</td>\n      <td>2013-04-11</td>\n      <td>2013-04-12</td>\n      <td>Sengkang S11</td>\n      <td>Sengkang West Way</td>\n      <td>16603.9</td>\n      <td>*CO</td>\n      <td>residential</td>\n      <td>99</td>\n      <td>...</td>\n      <td>2</td>\n      <td>28</td>\n      <td>201304</td>\n      <td>2013</td>\n      <td>4</td>\n      <td>11</td>\n      <td>201304</td>\n      <td>2013</td>\n      <td>4</td>\n      <td>12</td>\n    </tr>\n    <tr>\n      <th>...</th>\n      <td>...</td>\n      <td>...</td>\n      <td>...</td>\n      <td>...</td>\n      <td>...</td>\n      <td>...</td>\n      <td>...</td>\n      <td>...</td>\n      <td>...</td>\n      <td>...</td>\n      <td>...</td>\n      <td>...</td>\n      <td>...</td>\n      <td>...</td>\n      <td>...</td>\n      <td>...</td>\n      <td>...</td>\n      <td>...</td>\n      <td>...</td>\n      <td>...</td>\n      <td>...</td>\n    </tr>\n    <tr>\n      <th>591</th>\n      <td>2b49a7c56443c8359c7d541c2f8c44889120a0b497d9c5...</td>\n      <td>1992-10-19</td>\n      <td>1993-02-09</td>\n      <td>1993-05-21</td>\n      <td>Kaki Bukit</td>\n      <td>Kaki Bukit</td>\n      <td>60000.0</td>\n      <td>Industrial</td>\n      <td>others</td>\n      <td>60</td>\n      <td>...</td>\n      <td>10</td>\n      <td>19</td>\n      <td>199302</td>\n      <td>1993</td>\n      <td>2</td>\n      <td>9</td>\n      <td>199305</td>\n      <td>1993</td>\n      <td>5</td>\n      <td>21</td>\n    </tr>\n    <tr>\n      <th>592</th>\n      <td>40e8902a48c5f3b717a76c37e270d2360da9e1172da322...</td>\n      <td>1992-10-19</td>\n      <td>1993-02-09</td>\n      <td>1993-05-21</td>\n      <td>Tuas South Avenue 3/Tuas South Avenue 4</td>\n      <td>Tuas South Avenue 3/Tuas South Avenue 4</td>\n      <td>102264.0</td>\n      <td>Industrial</td>\n      <td>others</td>\n      <td>60</td>\n      <td>...</td>\n      <td>10</td>\n      <td>19</td>\n      <td>199302</td>\n      <td>1993</td>\n      <td>2</td>\n      <td>9</td>\n      <td>199305</td>\n      <td>1993</td>\n      <td>5</td>\n      <td>21</td>\n    </tr>\n    <tr>\n      <th>593</th>\n      <td>43e84a0ed4744cddede5fb08c7162e61eb86cdf7b7823d...</td>\n      <td>1992-10-19</td>\n      <td>1993-02-09</td>\n      <td>1993-05-21</td>\n      <td>Tuas South Avenue 4/Tuas South Avenue 5</td>\n      <td>Tuas South Avenue 4/Tuas South Avenue 5</td>\n      <td>102264.0</td>\n      <td>Industrial</td>\n      <td>others</td>\n      <td>60</td>\n      <td>...</td>\n      <td>10</td>\n      <td>19</td>\n      <td>199302</td>\n      <td>1993</td>\n      <td>2</td>\n      <td>9</td>\n      <td>199305</td>\n      <td>1993</td>\n      <td>5</td>\n      <td>21</td>\n    </tr>\n    <tr>\n      <th>594</th>\n      <td>473d6c80a232fc34e07f2a9ef544b66270d175537468eb...</td>\n      <td>1992-08-31</td>\n      <td>1992-11-24</td>\n      <td>1993-02-15</td>\n      <td>Merchant Road/Angus Street</td>\n      <td>Merchant Road/Angus Street</td>\n      <td>2609.0</td>\n      <td>Hotel</td>\n      <td>others</td>\n      <td>99</td>\n      <td>...</td>\n      <td>8</td>\n      <td>31</td>\n      <td>199211</td>\n      <td>1992</td>\n      <td>11</td>\n      <td>24</td>\n      <td>199302</td>\n      <td>1993</td>\n      <td>2</td>\n      <td>15</td>\n    </tr>\n    <tr>\n      <th>595</th>\n      <td>50895000069c66ef0605e7f5fc87b07ecbbb602ea102ff...</td>\n      <td>1992-08-31</td>\n      <td>1992-11-24</td>\n      <td>1993-02-15</td>\n      <td>Merchant Road/Magazine Road</td>\n      <td>Merchant Road/Magazine Road</td>\n      <td>4806.0</td>\n      <td>Commercial</td>\n      <td>commercial</td>\n      <td>99</td>\n      <td>...</td>\n      <td>8</td>\n      <td>31</td>\n      <td>199211</td>\n      <td>1992</td>\n      <td>11</td>\n      <td>24</td>\n      <td>199302</td>\n      <td>1993</td>\n      <td>2</td>\n      <td>15</td>\n    </tr>\n  </tbody>\n</table>\n<p>596 rows × 36 columns</p>\n</div>"
     },
     "execution_count": 19,
     "metadata": {},
     "output_type": "execute_result"
    }
   ],
   "source": [
    "gls.drop(\"gls_text_id\", axis=1, inplace=True)\n",
    "gls"
   ],
   "metadata": {
    "collapsed": false
   }
  },
  {
   "cell_type": "code",
   "execution_count": 20,
   "outputs": [],
   "source": [
    "gls.to_csv(\"gls_full.csv\", index=False)"
   ],
   "metadata": {
    "collapsed": false
   }
  },
  {
   "cell_type": "code",
   "execution_count": 21,
   "outputs": [
    {
     "data": {
      "text/plain": "64"
     },
     "execution_count": 21,
     "metadata": {},
     "output_type": "execute_result"
    }
   ],
   "source": [
    "len(hashlib.sha256(\"2015-04-29Queenstown S9b10516.1hdb\".encode('utf-8')).hexdigest())"
   ],
   "metadata": {
    "collapsed": false
   }
  },
  {
   "cell_type": "code",
   "execution_count": 4,
   "outputs": [],
   "source": [
    "import hashlib\n",
    "import pandas as pd\n",
    "import numpy as np\n",
    "pred = pd.read_excel(r'G:\\REA\\Working files\\land-bidding\\prediction\\parcels for prediction.xlsx')\n",
    "pred['id_text'] = pred.land_parcel_std + pred.latitude.astype(str) + pred.longitude.astype(str)\n",
    "pred['land_parcel_id'] = pred.id_text.apply(lambda x: hashlib.sha256(x.encode('utf-8')).hexdigest())"
   ],
   "metadata": {
    "collapsed": false
   }
  }
 ],
 "metadata": {
  "kernelspec": {
   "display_name": "Python 3",
   "language": "python",
   "name": "python3"
  },
  "language_info": {
   "codemirror_mode": {
    "name": "ipython",
    "version": 2
   },
   "file_extension": ".py",
   "mimetype": "text/x-python",
   "name": "python",
   "nbconvert_exporter": "python",
   "pygments_lexer": "ipython2",
   "version": "2.7.6"
  }
 },
 "nbformat": 4,
 "nbformat_minor": 0
}
