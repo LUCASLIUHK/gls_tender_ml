{
 "cells": [
  {
   "cell_type": "markdown",
   "source": [],
   "metadata": {
    "collapsed": false
   }
  },
  {
   "cell_type": "markdown",
   "source": [
    "# Insights from tenderer names"
   ],
   "metadata": {
    "collapsed": false
   }
  },
  {
   "cell_type": "code",
   "execution_count": 1,
   "outputs": [],
   "source": [
    "import pandas as pd\n",
    "import numpy as np\n",
    "import re\n",
    "from typing import List\n",
    "# pd.set_option('display.float_format', lambda x: '%.0f' % x)\n",
    "pd.reset_option('display.float_format')"
   ],
   "metadata": {
    "collapsed": false
   }
  },
  {
   "cell_type": "code",
   "execution_count": 2,
   "outputs": [],
   "source": [
    "def nameFormat(companyName: str)-> str:\n",
    "\n",
    "    import re\n",
    "    pte_suffix = ['[Pp]rivate', '[Pp][Tt][Ee]']\n",
    "    ltd_suffix = ['[Ll]imited', '[Ll]imit', '[Ll][Tt][Dd]']\n",
    "\n",
    "    try:\n",
    "        # remove line breaks and slashes\n",
    "        companyName = companyName.strip()\n",
    "        companyName = re.sub(r' +', r' ', companyName)\n",
    "        # companyName = re.sub(r'\\\\+', r'\\\\', companyName)\n",
    "        companyName = re.sub(r'\\\\+n?', '', companyName)\n",
    "        companyName = re.sub(r'\\n', r'', companyName)\n",
    "\n",
    "        # replace suffix with identical format\n",
    "        for suffix in pte_suffix:\n",
    "            pattern = f'\\(?{suffix}\\.?,?\\)?'\n",
    "            companyName = re.sub(pattern, 'Pte.', companyName)\n",
    "\n",
    "        for suffix in ltd_suffix:\n",
    "            pattern = f'\\(?{suffix}\\.?\\)?'\n",
    "            companyName = re.sub(pattern, 'Ltd.', companyName)\n",
    "\n",
    "        companyName = re.sub('\\(?[Pp][Ll][.]?\\)?[\\W]?$', 'Pte. Ltd.', companyName)\n",
    "        companyName = re.sub('\\(?[Pp][Ll][ ,./]\\)?', 'Pte. Ltd.,', companyName)\n",
    "        companyName = re.sub('\\(?[Ii][Nn][Cc][.]?\\)?[\\W]?$', 'Inc.', companyName)\n",
    "        companyName = re.sub('\\(?[Ii]ncorporate[d]?\\)?', 'Inc.', companyName)\n",
    "        companyName = re.sub('\\(?[Ii][Nn][Cc][.]? +\\)?', 'Inc. ', companyName)\n",
    "        companyName = re.sub('\\(?[Jj][oint]*?[ -/&]?[Vv]e?n?t?u?r?e?[.]?\\)?', 'J.V.', companyName)\n",
    "        companyName = re.sub('\\(?[Cc][Oo][Rr][Pp][oration]*\\)?', 'Corp.', companyName)\n",
    "\n",
    "        # identify separators and split multiple company names\n",
    "        sep_id = ['[Ll][Tt][Dd]', '[Ii][Nn][Cc]', '[Cc][Oo][Rr][Pp]', '[Gg][Mm][Bb][Hh]', '[Jj].?[Vv].?', '[Ll][Ll][Cc]', '[Pp][Ll][Cc]', '[Ll][Ll][Pp]', '[Gg][Rr][Oo][Uu][Pp]']\n",
    "        repl = ['Ltd', 'Inc', 'Corp', 'Gmbh', 'J.V', 'LLC', 'Plc', 'LLP', 'Group']\n",
    "        repl_dict = dict(zip(sep_id, repl))\n",
    "        for suffix in repl_dict.keys():\n",
    "            sep_pattern_and = f'{suffix}[.]?[ ,;]?[\\W]*?[Aa][Nn][Dd]? +'\n",
    "            # sep_pattern_comma = 'ltd[.]?[ ]*[,;&][\\W]?[,;]?[ ]?'\n",
    "            sep_pattern_comma_ampersand = f'{suffix}[.]?[ ]*[,;&/][\\W]?[ ]?'\n",
    "            suffix_repl = repl_dict[suffix]\n",
    "            companyName = re.sub(sep_pattern_and, f'{suffix_repl}. | ', companyName)\n",
    "            companyName = re.sub(sep_pattern_comma_ampersand, f'{suffix_repl}. | ', companyName)\n",
    "\n",
    "    except AttributeError:\n",
    "        pass\n",
    "\n",
    "    return companyName\n"
   ],
   "metadata": {
    "collapsed": false
   }
  },
  {
   "cell_type": "code",
   "execution_count": 3,
   "outputs": [
    {
     "data": {
      "text/plain": "['abc', 'ccc', 'cbc', 'ddd', 'abc', nan, 7]"
     },
     "execution_count": 3,
     "metadata": {},
     "output_type": "execute_result"
    }
   ],
   "source": [
    "def stripName(companyName: List[str])->List[str] :\n",
    "    strip_pattern = [f' +{string}[.]?$' for string in ['[Ll][Tt][Dd]', '[Pp][Tt][Ee]', '[Pp][Tt][Ee][.]? +[Ll][Tt][Dd]', '[Ii][Nn][Cc]', '[Cc][Oo][Rr][Pp]', '[Gg][Mm][Bb][Hh]', '[Jj].?[Vv]', '[Ll][Ll][Cc]', '[Pp][Ll][Cc]', '[Ll][Ll][Pp]', '[Cc][Oo][.]?[,]? +[Pp][Tt][Ee][.]?[,]? +[Ll][Tt][Dd]', '[Cc][Oo][.]?[,]? +[Ll][Tt][Dd]', '[Cc][Oo][Rr][Pp][.]?[,]? +[Pp][Tt][Ee][.]?[,]? +[Ll][Tt][Dd]']]\n",
    "    pattern = '|'.join(strip_pattern)\n",
    "    companyName = [companyName] if isinstance(companyName, str) else companyName\n",
    "    stripped_name = []\n",
    "    for name in companyName:\n",
    "        try:\n",
    "            stripped_name.append(re.sub(pattern, '', name))\n",
    "        except AttributeError and TypeError:\n",
    "            stripped_name.append(name)\n",
    "    return stripped_name\n",
    "\n",
    "\n",
    "texts = ['abc Pte. Ltd.', 'ccc inc', 'cbc gMbh', 'ddd J.V', 'abc Co. Pte. Ltd', np.nan, 7]\n",
    "stripName(texts)"
   ],
   "metadata": {
    "collapsed": false
   }
  },
  {
   "cell_type": "code",
   "execution_count": 44,
   "outputs": [],
   "source": [
    "def name_by_keyword(name: str, dictionary: dict):\n",
    "    for text in dictionary.keys():\n",
    "        if text in name.lower():\n",
    "            return dictionary[text]\n",
    "    return 0"
   ],
   "metadata": {
    "collapsed": false
   }
  },
  {
   "cell_type": "code",
   "execution_count": 4,
   "outputs": [
    {
     "data": {
      "text/plain": "'REA Pte. Ltd. | SOreal LLC. | Cushman & Wakefield, Inc. | P&G Plc. | JLL and Lasalle, consultant, IP Inc. | CDL intl Pte. Ltd. | Capitaland and hdb J.V. | cc Group. | VW GMbH'"
     },
     "execution_count": 4,
     "metadata": {},
     "output_type": "execute_result"
    }
   ],
   "source": [
    "# test\n",
    "company = 'REA pte., LTD, SOreal LLC and Cushman & Wakefield, Incorporated/ P&G PlC & JLL and Lasalle, consultant, IP inc.AND CDL intl pte., ltd.;,Capitaland and hdb joint-venture and cc group,and VW GMbH'\n",
    "nameFormat(company)"
   ],
   "metadata": {
    "collapsed": false
   }
  },
  {
   "cell_type": "code",
   "execution_count": 5,
   "outputs": [
    {
     "data": {
      "text/plain": "                                           sg_gls_id date_launch date_close  \\\n0  8c101477584713a9310e02940aac6b059e37833ab6848d...   29/4/2015  23/6/2015   \n1  8c101477584713a9310e02940aac6b059e37833ab6848d...   29/4/2015  23/6/2015   \n2  f503abbef02408955cd92d63528651696f846da9faa95b...  12/12/2017  27/2/2018   \n3  f503abbef02408955cd92d63528651696f846da9faa95b...  12/12/2017  27/2/2018   \n4  c278da3f1270e62fd626cb02ebbc60f36d81f51ae33e3a...   29/6/2016  23/8/2016   \n\n  date_award     land_parcel land_parcel_std           street        zone  \\\n0  30/6/2015  Queenstown S9b  Queenstown S9b      Dundee Road  queenstown   \n1  30/6/2015  Queenstown S9b  Queenstown S9b      Dundee Road  queenstown   \n2   7/3/2018     Punggol E13     Punggol E13      Sumang Walk     punggol   \n3   7/3/2018     Punggol E13     Punggol E13      Sumang Walk     punggol   \n4   5/9/2016    Sengkang E20    Sengkang E20  Anchorvale Lane    sengkang   \n\n              region       join_by  ... award_month_index  year_award  \\\n0     central region  project name  ...            201506        2015   \n1     central region  project name  ...            201506        2015   \n2  north-east region  project name  ...            201803        2018   \n3  north-east region  project name  ...            201803        2018   \n4  north-east region  project name  ...            201609        2016   \n\n  month_award day_award       merge_key  tenderer_rank  \\\n0           6        30  Queenstown S9b              1   \n1           6        30  Queenstown S9b              2   \n2           3         7     Punggol E13              2   \n3           3         7     Punggol E13              1   \n4           9         5    Sengkang E20              2   \n\n                                       tenderer_name  tender_price  \\\n0                                  HY Realty Pte Ltd   483178000.0   \n1                        Allgreen Properties Limited   445910000.0   \n2            Qingjian Realty (Residential) Pte. Ltd.   486000000.0   \n3  CDL Constellation Pte. Ltd. and TID Residentia...   509370000.0   \n4                        Wee Hur Development Pte Ltd   235000000.0   \n\n  price_psm_gfa  source_file  \n0       9376.82          NaN  \n1       8653.57          NaN  \n2       5987.51          NaN  \n3       6275.43          NaN  \n4       3727.56          NaN  \n\n[5 rows x 46 columns]",
      "text/html": "<div>\n<style scoped>\n    .dataframe tbody tr th:only-of-type {\n        vertical-align: middle;\n    }\n\n    .dataframe tbody tr th {\n        vertical-align: top;\n    }\n\n    .dataframe thead th {\n        text-align: right;\n    }\n</style>\n<table border=\"1\" class=\"dataframe\">\n  <thead>\n    <tr style=\"text-align: right;\">\n      <th></th>\n      <th>sg_gls_id</th>\n      <th>date_launch</th>\n      <th>date_close</th>\n      <th>date_award</th>\n      <th>land_parcel</th>\n      <th>land_parcel_std</th>\n      <th>street</th>\n      <th>zone</th>\n      <th>region</th>\n      <th>join_by</th>\n      <th>...</th>\n      <th>award_month_index</th>\n      <th>year_award</th>\n      <th>month_award</th>\n      <th>day_award</th>\n      <th>merge_key</th>\n      <th>tenderer_rank</th>\n      <th>tenderer_name</th>\n      <th>tender_price</th>\n      <th>price_psm_gfa</th>\n      <th>source_file</th>\n    </tr>\n  </thead>\n  <tbody>\n    <tr>\n      <th>0</th>\n      <td>8c101477584713a9310e02940aac6b059e37833ab6848d...</td>\n      <td>29/4/2015</td>\n      <td>23/6/2015</td>\n      <td>30/6/2015</td>\n      <td>Queenstown S9b</td>\n      <td>Queenstown S9b</td>\n      <td>Dundee Road</td>\n      <td>queenstown</td>\n      <td>central region</td>\n      <td>project name</td>\n      <td>...</td>\n      <td>201506</td>\n      <td>2015</td>\n      <td>6</td>\n      <td>30</td>\n      <td>Queenstown S9b</td>\n      <td>1</td>\n      <td>HY Realty Pte Ltd</td>\n      <td>483178000.0</td>\n      <td>9376.82</td>\n      <td>NaN</td>\n    </tr>\n    <tr>\n      <th>1</th>\n      <td>8c101477584713a9310e02940aac6b059e37833ab6848d...</td>\n      <td>29/4/2015</td>\n      <td>23/6/2015</td>\n      <td>30/6/2015</td>\n      <td>Queenstown S9b</td>\n      <td>Queenstown S9b</td>\n      <td>Dundee Road</td>\n      <td>queenstown</td>\n      <td>central region</td>\n      <td>project name</td>\n      <td>...</td>\n      <td>201506</td>\n      <td>2015</td>\n      <td>6</td>\n      <td>30</td>\n      <td>Queenstown S9b</td>\n      <td>2</td>\n      <td>Allgreen Properties Limited</td>\n      <td>445910000.0</td>\n      <td>8653.57</td>\n      <td>NaN</td>\n    </tr>\n    <tr>\n      <th>2</th>\n      <td>f503abbef02408955cd92d63528651696f846da9faa95b...</td>\n      <td>12/12/2017</td>\n      <td>27/2/2018</td>\n      <td>7/3/2018</td>\n      <td>Punggol E13</td>\n      <td>Punggol E13</td>\n      <td>Sumang Walk</td>\n      <td>punggol</td>\n      <td>north-east region</td>\n      <td>project name</td>\n      <td>...</td>\n      <td>201803</td>\n      <td>2018</td>\n      <td>3</td>\n      <td>7</td>\n      <td>Punggol E13</td>\n      <td>2</td>\n      <td>Qingjian Realty (Residential) Pte. Ltd.</td>\n      <td>486000000.0</td>\n      <td>5987.51</td>\n      <td>NaN</td>\n    </tr>\n    <tr>\n      <th>3</th>\n      <td>f503abbef02408955cd92d63528651696f846da9faa95b...</td>\n      <td>12/12/2017</td>\n      <td>27/2/2018</td>\n      <td>7/3/2018</td>\n      <td>Punggol E13</td>\n      <td>Punggol E13</td>\n      <td>Sumang Walk</td>\n      <td>punggol</td>\n      <td>north-east region</td>\n      <td>project name</td>\n      <td>...</td>\n      <td>201803</td>\n      <td>2018</td>\n      <td>3</td>\n      <td>7</td>\n      <td>Punggol E13</td>\n      <td>1</td>\n      <td>CDL Constellation Pte. Ltd. and TID Residentia...</td>\n      <td>509370000.0</td>\n      <td>6275.43</td>\n      <td>NaN</td>\n    </tr>\n    <tr>\n      <th>4</th>\n      <td>c278da3f1270e62fd626cb02ebbc60f36d81f51ae33e3a...</td>\n      <td>29/6/2016</td>\n      <td>23/8/2016</td>\n      <td>5/9/2016</td>\n      <td>Sengkang E20</td>\n      <td>Sengkang E20</td>\n      <td>Anchorvale Lane</td>\n      <td>sengkang</td>\n      <td>north-east region</td>\n      <td>project name</td>\n      <td>...</td>\n      <td>201609</td>\n      <td>2016</td>\n      <td>9</td>\n      <td>5</td>\n      <td>Sengkang E20</td>\n      <td>2</td>\n      <td>Wee Hur Development Pte Ltd</td>\n      <td>235000000.0</td>\n      <td>3727.56</td>\n      <td>NaN</td>\n    </tr>\n  </tbody>\n</table>\n<p>5 rows × 46 columns</p>\n</div>"
     },
     "execution_count": 5,
     "metadata": {},
     "output_type": "execute_result"
    }
   ],
   "source": [
    "gls = pd.read_csv(r\"G:\\REA\\Working files\\land-bidding\\land_sales_full_data\\ready for uploading\\gls_details_filled_full.csv\")\n",
    "# gls['price_psm_gfa'] = gls.tender_price/gls.gfa_sqm\n",
    "gls.head()"
   ],
   "metadata": {
    "collapsed": false
   }
  },
  {
   "cell_type": "code",
   "execution_count": 6,
   "outputs": [],
   "source": [
    "gls = gls.dropna(subset=['tenderer_name'], axis=0)\n",
    "gls.tenderer_name = gls.tenderer_name.apply(lambda x: re.sub('\\(? ?[Aa][Ss] ?[Tt][Rr][Uu][Ss][Tt][Ee][Ee].*?[Tt][Rr][Uu][Ss][Tt] ?\\)?', '', x))"
   ],
   "metadata": {
    "collapsed": false
   }
  },
  {
   "cell_type": "code",
   "execution_count": 7,
   "outputs": [
    {
     "data": {
      "text/plain": "                                           sg_gls_id date_launch date_close  \\\n0  8c101477584713a9310e02940aac6b059e37833ab6848d...   29/4/2015  23/6/2015   \n1  8c101477584713a9310e02940aac6b059e37833ab6848d...   29/4/2015  23/6/2015   \n2  f503abbef02408955cd92d63528651696f846da9faa95b...  12/12/2017  27/2/2018   \n3  f503abbef02408955cd92d63528651696f846da9faa95b...  12/12/2017  27/2/2018   \n4  c278da3f1270e62fd626cb02ebbc60f36d81f51ae33e3a...   29/6/2016  23/8/2016   \n\n  date_award     land_parcel land_parcel_std           street        zone  \\\n0  30/6/2015  Queenstown S9b  Queenstown S9b      Dundee Road  queenstown   \n1  30/6/2015  Queenstown S9b  Queenstown S9b      Dundee Road  queenstown   \n2   7/3/2018     Punggol E13     Punggol E13      Sumang Walk     punggol   \n3   7/3/2018     Punggol E13     Punggol E13      Sumang Walk     punggol   \n4   5/9/2016    Sengkang E20    Sengkang E20  Anchorvale Lane    sengkang   \n\n              region       join_by  ... year_award  month_award day_award  \\\n0     central region  project name  ...       2015            6        30   \n1     central region  project name  ...       2015            6        30   \n2  north-east region  project name  ...       2018            3         7   \n3  north-east region  project name  ...       2018            3         7   \n4  north-east region  project name  ...       2016            9         5   \n\n        merge_key  tenderer_rank  \\\n0  Queenstown S9b              1   \n1  Queenstown S9b              2   \n2     Punggol E13              2   \n3     Punggol E13              1   \n4    Sengkang E20              2   \n\n                                       tenderer_name  tender_price  \\\n0                                  HY Realty Pte Ltd   483178000.0   \n1                        Allgreen Properties Limited   445910000.0   \n2            Qingjian Realty (Residential) Pte. Ltd.   486000000.0   \n3  CDL Constellation Pte. Ltd. and TID Residentia...   509370000.0   \n4                        Wee Hur Development Pte Ltd   235000000.0   \n\n   price_psm_gfa source_file  \\\n0        9376.82         NaN   \n1        8653.57         NaN   \n2        5987.51         NaN   \n3        6275.43         NaN   \n4        3727.56         NaN   \n\n                                     separated_names  \n0                                HY Realty Pte. Ltd.  \n1                           Allgreen Properties Ltd.  \n2            Qingjian Realty (Residential) Pte. Ltd.  \n3  CDL Constellation Pte. Ltd. | TID Residential ...  \n4                      Wee Hur Development Pte. Ltd.  \n\n[5 rows x 47 columns]",
      "text/html": "<div>\n<style scoped>\n    .dataframe tbody tr th:only-of-type {\n        vertical-align: middle;\n    }\n\n    .dataframe tbody tr th {\n        vertical-align: top;\n    }\n\n    .dataframe thead th {\n        text-align: right;\n    }\n</style>\n<table border=\"1\" class=\"dataframe\">\n  <thead>\n    <tr style=\"text-align: right;\">\n      <th></th>\n      <th>sg_gls_id</th>\n      <th>date_launch</th>\n      <th>date_close</th>\n      <th>date_award</th>\n      <th>land_parcel</th>\n      <th>land_parcel_std</th>\n      <th>street</th>\n      <th>zone</th>\n      <th>region</th>\n      <th>join_by</th>\n      <th>...</th>\n      <th>year_award</th>\n      <th>month_award</th>\n      <th>day_award</th>\n      <th>merge_key</th>\n      <th>tenderer_rank</th>\n      <th>tenderer_name</th>\n      <th>tender_price</th>\n      <th>price_psm_gfa</th>\n      <th>source_file</th>\n      <th>separated_names</th>\n    </tr>\n  </thead>\n  <tbody>\n    <tr>\n      <th>0</th>\n      <td>8c101477584713a9310e02940aac6b059e37833ab6848d...</td>\n      <td>29/4/2015</td>\n      <td>23/6/2015</td>\n      <td>30/6/2015</td>\n      <td>Queenstown S9b</td>\n      <td>Queenstown S9b</td>\n      <td>Dundee Road</td>\n      <td>queenstown</td>\n      <td>central region</td>\n      <td>project name</td>\n      <td>...</td>\n      <td>2015</td>\n      <td>6</td>\n      <td>30</td>\n      <td>Queenstown S9b</td>\n      <td>1</td>\n      <td>HY Realty Pte Ltd</td>\n      <td>483178000.0</td>\n      <td>9376.82</td>\n      <td>NaN</td>\n      <td>HY Realty Pte. Ltd.</td>\n    </tr>\n    <tr>\n      <th>1</th>\n      <td>8c101477584713a9310e02940aac6b059e37833ab6848d...</td>\n      <td>29/4/2015</td>\n      <td>23/6/2015</td>\n      <td>30/6/2015</td>\n      <td>Queenstown S9b</td>\n      <td>Queenstown S9b</td>\n      <td>Dundee Road</td>\n      <td>queenstown</td>\n      <td>central region</td>\n      <td>project name</td>\n      <td>...</td>\n      <td>2015</td>\n      <td>6</td>\n      <td>30</td>\n      <td>Queenstown S9b</td>\n      <td>2</td>\n      <td>Allgreen Properties Limited</td>\n      <td>445910000.0</td>\n      <td>8653.57</td>\n      <td>NaN</td>\n      <td>Allgreen Properties Ltd.</td>\n    </tr>\n    <tr>\n      <th>2</th>\n      <td>f503abbef02408955cd92d63528651696f846da9faa95b...</td>\n      <td>12/12/2017</td>\n      <td>27/2/2018</td>\n      <td>7/3/2018</td>\n      <td>Punggol E13</td>\n      <td>Punggol E13</td>\n      <td>Sumang Walk</td>\n      <td>punggol</td>\n      <td>north-east region</td>\n      <td>project name</td>\n      <td>...</td>\n      <td>2018</td>\n      <td>3</td>\n      <td>7</td>\n      <td>Punggol E13</td>\n      <td>2</td>\n      <td>Qingjian Realty (Residential) Pte. Ltd.</td>\n      <td>486000000.0</td>\n      <td>5987.51</td>\n      <td>NaN</td>\n      <td>Qingjian Realty (Residential) Pte. Ltd.</td>\n    </tr>\n    <tr>\n      <th>3</th>\n      <td>f503abbef02408955cd92d63528651696f846da9faa95b...</td>\n      <td>12/12/2017</td>\n      <td>27/2/2018</td>\n      <td>7/3/2018</td>\n      <td>Punggol E13</td>\n      <td>Punggol E13</td>\n      <td>Sumang Walk</td>\n      <td>punggol</td>\n      <td>north-east region</td>\n      <td>project name</td>\n      <td>...</td>\n      <td>2018</td>\n      <td>3</td>\n      <td>7</td>\n      <td>Punggol E13</td>\n      <td>1</td>\n      <td>CDL Constellation Pte. Ltd. and TID Residentia...</td>\n      <td>509370000.0</td>\n      <td>6275.43</td>\n      <td>NaN</td>\n      <td>CDL Constellation Pte. Ltd. | TID Residential ...</td>\n    </tr>\n    <tr>\n      <th>4</th>\n      <td>c278da3f1270e62fd626cb02ebbc60f36d81f51ae33e3a...</td>\n      <td>29/6/2016</td>\n      <td>23/8/2016</td>\n      <td>5/9/2016</td>\n      <td>Sengkang E20</td>\n      <td>Sengkang E20</td>\n      <td>Anchorvale Lane</td>\n      <td>sengkang</td>\n      <td>north-east region</td>\n      <td>project name</td>\n      <td>...</td>\n      <td>2016</td>\n      <td>9</td>\n      <td>5</td>\n      <td>Sengkang E20</td>\n      <td>2</td>\n      <td>Wee Hur Development Pte Ltd</td>\n      <td>235000000.0</td>\n      <td>3727.56</td>\n      <td>NaN</td>\n      <td>Wee Hur Development Pte. Ltd.</td>\n    </tr>\n  </tbody>\n</table>\n<p>5 rows × 47 columns</p>\n</div>"
     },
     "execution_count": 7,
     "metadata": {},
     "output_type": "execute_result"
    }
   ],
   "source": [
    "# gls_top3 = pd.DataFrame(gls.tenderer_name.dropna())\n",
    "gls[\"separated_names\"] = gls.tenderer_name.apply(nameFormat)\n",
    "gls.head()"
   ],
   "metadata": {
    "collapsed": false
   }
  },
  {
   "cell_type": "code",
   "execution_count": 8,
   "outputs": [],
   "source": [
    "# gls['tenderer_rank'] = gls.tenderer_rank.apply(lambda x: int(re.findall('\\d+', x)[0]))"
   ],
   "metadata": {
    "collapsed": false
   }
  },
  {
   "cell_type": "code",
   "execution_count": 9,
   "outputs": [
    {
     "data": {
      "text/plain": "                                           sg_gls_id date_launch date_close  \\\n0  8c101477584713a9310e02940aac6b059e37833ab6848d...   29/4/2015  23/6/2015   \n1  8c101477584713a9310e02940aac6b059e37833ab6848d...   29/4/2015  23/6/2015   \n2  f503abbef02408955cd92d63528651696f846da9faa95b...  12/12/2017  27/2/2018   \n3  f503abbef02408955cd92d63528651696f846da9faa95b...  12/12/2017  27/2/2018   \n4  c278da3f1270e62fd626cb02ebbc60f36d81f51ae33e3a...   29/6/2016  23/8/2016   \n\n  date_award     land_parcel land_parcel_std           street        zone  \\\n0  30/6/2015  Queenstown S9b  Queenstown S9b      Dundee Road  queenstown   \n1  30/6/2015  Queenstown S9b  Queenstown S9b      Dundee Road  queenstown   \n2   7/3/2018     Punggol E13     Punggol E13      Sumang Walk     punggol   \n3   7/3/2018     Punggol E13     Punggol E13      Sumang Walk     punggol   \n4   5/9/2016    Sengkang E20    Sengkang E20  Anchorvale Lane    sengkang   \n\n              region       join_by  ... day_award       merge_key  \\\n0     central region  project name  ...        30  Queenstown S9b   \n1     central region  project name  ...        30  Queenstown S9b   \n2  north-east region  project name  ...         7     Punggol E13   \n3  north-east region  project name  ...         7     Punggol E13   \n4  north-east region  project name  ...         5    Sengkang E20   \n\n  tenderer_rank                                      tenderer_name  \\\n0             1                                  HY Realty Pte Ltd   \n1             2                        Allgreen Properties Limited   \n2             2            Qingjian Realty (Residential) Pte. Ltd.   \n3             1  CDL Constellation Pte. Ltd. and TID Residentia...   \n4             2                        Wee Hur Development Pte Ltd   \n\n   tender_price  price_psm_gfa  source_file  \\\n0   483178000.0        9376.82          NaN   \n1   445910000.0        8653.57          NaN   \n2   486000000.0        5987.51          NaN   \n3   509370000.0        6275.43          NaN   \n4   235000000.0        3727.56          NaN   \n\n                                     separated_names  \\\n0                                HY Realty Pte. Ltd.   \n1                           Allgreen Properties Ltd.   \n2            Qingjian Realty (Residential) Pte. Ltd.   \n3  CDL Constellation Pte. Ltd. | TID Residential ...   \n4                      Wee Hur Development Pte. Ltd.   \n\n                                   list_of_tenderers  num_tenderers_same_rank  \n0                              [HY Realty Pte. Ltd.]                        1  \n1                         [Allgreen Properties Ltd.]                        1  \n2          [Qingjian Realty (Residential) Pte. Ltd.]                        1  \n3  [CDL Constellation Pte. Ltd., TID Residential ...                        2  \n4                    [Wee Hur Development Pte. Ltd.]                        1  \n\n[5 rows x 49 columns]",
      "text/html": "<div>\n<style scoped>\n    .dataframe tbody tr th:only-of-type {\n        vertical-align: middle;\n    }\n\n    .dataframe tbody tr th {\n        vertical-align: top;\n    }\n\n    .dataframe thead th {\n        text-align: right;\n    }\n</style>\n<table border=\"1\" class=\"dataframe\">\n  <thead>\n    <tr style=\"text-align: right;\">\n      <th></th>\n      <th>sg_gls_id</th>\n      <th>date_launch</th>\n      <th>date_close</th>\n      <th>date_award</th>\n      <th>land_parcel</th>\n      <th>land_parcel_std</th>\n      <th>street</th>\n      <th>zone</th>\n      <th>region</th>\n      <th>join_by</th>\n      <th>...</th>\n      <th>day_award</th>\n      <th>merge_key</th>\n      <th>tenderer_rank</th>\n      <th>tenderer_name</th>\n      <th>tender_price</th>\n      <th>price_psm_gfa</th>\n      <th>source_file</th>\n      <th>separated_names</th>\n      <th>list_of_tenderers</th>\n      <th>num_tenderers_same_rank</th>\n    </tr>\n  </thead>\n  <tbody>\n    <tr>\n      <th>0</th>\n      <td>8c101477584713a9310e02940aac6b059e37833ab6848d...</td>\n      <td>29/4/2015</td>\n      <td>23/6/2015</td>\n      <td>30/6/2015</td>\n      <td>Queenstown S9b</td>\n      <td>Queenstown S9b</td>\n      <td>Dundee Road</td>\n      <td>queenstown</td>\n      <td>central region</td>\n      <td>project name</td>\n      <td>...</td>\n      <td>30</td>\n      <td>Queenstown S9b</td>\n      <td>1</td>\n      <td>HY Realty Pte Ltd</td>\n      <td>483178000.0</td>\n      <td>9376.82</td>\n      <td>NaN</td>\n      <td>HY Realty Pte. Ltd.</td>\n      <td>[HY Realty Pte. Ltd.]</td>\n      <td>1</td>\n    </tr>\n    <tr>\n      <th>1</th>\n      <td>8c101477584713a9310e02940aac6b059e37833ab6848d...</td>\n      <td>29/4/2015</td>\n      <td>23/6/2015</td>\n      <td>30/6/2015</td>\n      <td>Queenstown S9b</td>\n      <td>Queenstown S9b</td>\n      <td>Dundee Road</td>\n      <td>queenstown</td>\n      <td>central region</td>\n      <td>project name</td>\n      <td>...</td>\n      <td>30</td>\n      <td>Queenstown S9b</td>\n      <td>2</td>\n      <td>Allgreen Properties Limited</td>\n      <td>445910000.0</td>\n      <td>8653.57</td>\n      <td>NaN</td>\n      <td>Allgreen Properties Ltd.</td>\n      <td>[Allgreen Properties Ltd.]</td>\n      <td>1</td>\n    </tr>\n    <tr>\n      <th>2</th>\n      <td>f503abbef02408955cd92d63528651696f846da9faa95b...</td>\n      <td>12/12/2017</td>\n      <td>27/2/2018</td>\n      <td>7/3/2018</td>\n      <td>Punggol E13</td>\n      <td>Punggol E13</td>\n      <td>Sumang Walk</td>\n      <td>punggol</td>\n      <td>north-east region</td>\n      <td>project name</td>\n      <td>...</td>\n      <td>7</td>\n      <td>Punggol E13</td>\n      <td>2</td>\n      <td>Qingjian Realty (Residential) Pte. Ltd.</td>\n      <td>486000000.0</td>\n      <td>5987.51</td>\n      <td>NaN</td>\n      <td>Qingjian Realty (Residential) Pte. Ltd.</td>\n      <td>[Qingjian Realty (Residential) Pte. Ltd.]</td>\n      <td>1</td>\n    </tr>\n    <tr>\n      <th>3</th>\n      <td>f503abbef02408955cd92d63528651696f846da9faa95b...</td>\n      <td>12/12/2017</td>\n      <td>27/2/2018</td>\n      <td>7/3/2018</td>\n      <td>Punggol E13</td>\n      <td>Punggol E13</td>\n      <td>Sumang Walk</td>\n      <td>punggol</td>\n      <td>north-east region</td>\n      <td>project name</td>\n      <td>...</td>\n      <td>7</td>\n      <td>Punggol E13</td>\n      <td>1</td>\n      <td>CDL Constellation Pte. Ltd. and TID Residentia...</td>\n      <td>509370000.0</td>\n      <td>6275.43</td>\n      <td>NaN</td>\n      <td>CDL Constellation Pte. Ltd. | TID Residential ...</td>\n      <td>[CDL Constellation Pte. Ltd., TID Residential ...</td>\n      <td>2</td>\n    </tr>\n    <tr>\n      <th>4</th>\n      <td>c278da3f1270e62fd626cb02ebbc60f36d81f51ae33e3a...</td>\n      <td>29/6/2016</td>\n      <td>23/8/2016</td>\n      <td>5/9/2016</td>\n      <td>Sengkang E20</td>\n      <td>Sengkang E20</td>\n      <td>Anchorvale Lane</td>\n      <td>sengkang</td>\n      <td>north-east region</td>\n      <td>project name</td>\n      <td>...</td>\n      <td>5</td>\n      <td>Sengkang E20</td>\n      <td>2</td>\n      <td>Wee Hur Development Pte Ltd</td>\n      <td>235000000.0</td>\n      <td>3727.56</td>\n      <td>NaN</td>\n      <td>Wee Hur Development Pte. Ltd.</td>\n      <td>[Wee Hur Development Pte. Ltd.]</td>\n      <td>1</td>\n    </tr>\n  </tbody>\n</table>\n<p>5 rows × 49 columns</p>\n</div>"
     },
     "execution_count": 9,
     "metadata": {},
     "output_type": "execute_result"
    }
   ],
   "source": [
    "# gls_top3 = gls[gls.tenderer_rank<=3]\n",
    "gls[\"list_of_tenderers\"] = gls.separated_names.apply(lambda x: x.split(' | '))\n",
    "gls[\"num_tenderers_same_rank\"] = gls.list_of_tenderers.apply(lambda x: len(x))\n",
    "gls.head()"
   ],
   "metadata": {
    "collapsed": false
   }
  },
  {
   "cell_type": "code",
   "execution_count": 10,
   "outputs": [
    {
     "data": {
      "text/plain": "count    881.000000\nmean       1.379115\nstd        0.668594\nmin        1.000000\n25%        1.000000\n50%        1.000000\n75%        2.000000\nmax        4.000000\nName: num_tenderers_same_rank, dtype: float64"
     },
     "execution_count": 10,
     "metadata": {},
     "output_type": "execute_result"
    }
   ],
   "source": [
    "gls.num_tenderers_same_rank.describe()"
   ],
   "metadata": {
    "collapsed": false
   }
  },
  {
   "cell_type": "code",
   "execution_count": 11,
   "outputs": [
    {
     "data": {
      "text/plain": "                                           sg_gls_id date_launch date_close  \\\n0  8c101477584713a9310e02940aac6b059e37833ab6848d...   29/4/2015  23/6/2015   \n1  8c101477584713a9310e02940aac6b059e37833ab6848d...   29/4/2015  23/6/2015   \n2  f503abbef02408955cd92d63528651696f846da9faa95b...  12/12/2017  27/2/2018   \n3  f503abbef02408955cd92d63528651696f846da9faa95b...  12/12/2017  27/2/2018   \n4  c278da3f1270e62fd626cb02ebbc60f36d81f51ae33e3a...   29/6/2016  23/8/2016   \n\n  date_award     land_parcel land_parcel_std           street        zone  \\\n0  30/6/2015  Queenstown S9b  Queenstown S9b      Dundee Road  queenstown   \n1  30/6/2015  Queenstown S9b  Queenstown S9b      Dundee Road  queenstown   \n2   7/3/2018     Punggol E13     Punggol E13      Sumang Walk     punggol   \n3   7/3/2018     Punggol E13     Punggol E13      Sumang Walk     punggol   \n4   5/9/2016    Sengkang E20    Sengkang E20  Anchorvale Lane    sengkang   \n\n              region       join_by  ... price_psm_gfa  source_file  \\\n0     central region  project name  ...       9376.82          NaN   \n1     central region  project name  ...       8653.57          NaN   \n2  north-east region  project name  ...       5987.51          NaN   \n3  north-east region  project name  ...       6275.43          NaN   \n4  north-east region  project name  ...       3727.56          NaN   \n\n                                     separated_names  \\\n0                                HY Realty Pte. Ltd.   \n1                           Allgreen Properties Ltd.   \n2            Qingjian Realty (Residential) Pte. Ltd.   \n3  CDL Constellation Pte. Ltd. | TID Residential ...   \n4                      Wee Hur Development Pte. Ltd.   \n\n                                   list_of_tenderers  num_tenderers_same_rank  \\\n0                              [HY Realty Pte. Ltd.]                        1   \n1                         [Allgreen Properties Ltd.]                        1   \n2          [Qingjian Realty (Residential) Pte. Ltd.]                        1   \n3  [CDL Constellation Pte. Ltd., TID Residential ...                        2   \n4                    [Wee Hur Development Pte. Ltd.]                        1   \n\n                               tenderer_names_filled  \\\n0               [HY Realty Pte. Ltd., nan, nan, nan]   \n1          [Allgreen Properties Ltd., nan, nan, nan]   \n2  [Qingjian Realty (Residential) Pte. Ltd., nan,...   \n3  [CDL Constellation Pte. Ltd., TID Residential ...   \n4     [Wee Hur Development Pte. Ltd., nan, nan, nan]   \n\n                                tenderer_1                 tenderer_2  \\\n0                      HY Realty Pte. Ltd.                        NaN   \n1                 Allgreen Properties Ltd.                        NaN   \n2  Qingjian Realty (Residential) Pte. Ltd.                        NaN   \n3              CDL Constellation Pte. Ltd.  TID Residential Pte. Ltd.   \n4            Wee Hur Development Pte. Ltd.                        NaN   \n\n  tenderer_3  tenderer_4  \n0        NaN         NaN  \n1        NaN         NaN  \n2        NaN         NaN  \n3        NaN         NaN  \n4        NaN         NaN  \n\n[5 rows x 54 columns]",
      "text/html": "<div>\n<style scoped>\n    .dataframe tbody tr th:only-of-type {\n        vertical-align: middle;\n    }\n\n    .dataframe tbody tr th {\n        vertical-align: top;\n    }\n\n    .dataframe thead th {\n        text-align: right;\n    }\n</style>\n<table border=\"1\" class=\"dataframe\">\n  <thead>\n    <tr style=\"text-align: right;\">\n      <th></th>\n      <th>sg_gls_id</th>\n      <th>date_launch</th>\n      <th>date_close</th>\n      <th>date_award</th>\n      <th>land_parcel</th>\n      <th>land_parcel_std</th>\n      <th>street</th>\n      <th>zone</th>\n      <th>region</th>\n      <th>join_by</th>\n      <th>...</th>\n      <th>price_psm_gfa</th>\n      <th>source_file</th>\n      <th>separated_names</th>\n      <th>list_of_tenderers</th>\n      <th>num_tenderers_same_rank</th>\n      <th>tenderer_names_filled</th>\n      <th>tenderer_1</th>\n      <th>tenderer_2</th>\n      <th>tenderer_3</th>\n      <th>tenderer_4</th>\n    </tr>\n  </thead>\n  <tbody>\n    <tr>\n      <th>0</th>\n      <td>8c101477584713a9310e02940aac6b059e37833ab6848d...</td>\n      <td>29/4/2015</td>\n      <td>23/6/2015</td>\n      <td>30/6/2015</td>\n      <td>Queenstown S9b</td>\n      <td>Queenstown S9b</td>\n      <td>Dundee Road</td>\n      <td>queenstown</td>\n      <td>central region</td>\n      <td>project name</td>\n      <td>...</td>\n      <td>9376.82</td>\n      <td>NaN</td>\n      <td>HY Realty Pte. Ltd.</td>\n      <td>[HY Realty Pte. Ltd.]</td>\n      <td>1</td>\n      <td>[HY Realty Pte. Ltd., nan, nan, nan]</td>\n      <td>HY Realty Pte. Ltd.</td>\n      <td>NaN</td>\n      <td>NaN</td>\n      <td>NaN</td>\n    </tr>\n    <tr>\n      <th>1</th>\n      <td>8c101477584713a9310e02940aac6b059e37833ab6848d...</td>\n      <td>29/4/2015</td>\n      <td>23/6/2015</td>\n      <td>30/6/2015</td>\n      <td>Queenstown S9b</td>\n      <td>Queenstown S9b</td>\n      <td>Dundee Road</td>\n      <td>queenstown</td>\n      <td>central region</td>\n      <td>project name</td>\n      <td>...</td>\n      <td>8653.57</td>\n      <td>NaN</td>\n      <td>Allgreen Properties Ltd.</td>\n      <td>[Allgreen Properties Ltd.]</td>\n      <td>1</td>\n      <td>[Allgreen Properties Ltd., nan, nan, nan]</td>\n      <td>Allgreen Properties Ltd.</td>\n      <td>NaN</td>\n      <td>NaN</td>\n      <td>NaN</td>\n    </tr>\n    <tr>\n      <th>2</th>\n      <td>f503abbef02408955cd92d63528651696f846da9faa95b...</td>\n      <td>12/12/2017</td>\n      <td>27/2/2018</td>\n      <td>7/3/2018</td>\n      <td>Punggol E13</td>\n      <td>Punggol E13</td>\n      <td>Sumang Walk</td>\n      <td>punggol</td>\n      <td>north-east region</td>\n      <td>project name</td>\n      <td>...</td>\n      <td>5987.51</td>\n      <td>NaN</td>\n      <td>Qingjian Realty (Residential) Pte. Ltd.</td>\n      <td>[Qingjian Realty (Residential) Pte. Ltd.]</td>\n      <td>1</td>\n      <td>[Qingjian Realty (Residential) Pte. Ltd., nan,...</td>\n      <td>Qingjian Realty (Residential) Pte. Ltd.</td>\n      <td>NaN</td>\n      <td>NaN</td>\n      <td>NaN</td>\n    </tr>\n    <tr>\n      <th>3</th>\n      <td>f503abbef02408955cd92d63528651696f846da9faa95b...</td>\n      <td>12/12/2017</td>\n      <td>27/2/2018</td>\n      <td>7/3/2018</td>\n      <td>Punggol E13</td>\n      <td>Punggol E13</td>\n      <td>Sumang Walk</td>\n      <td>punggol</td>\n      <td>north-east region</td>\n      <td>project name</td>\n      <td>...</td>\n      <td>6275.43</td>\n      <td>NaN</td>\n      <td>CDL Constellation Pte. Ltd. | TID Residential ...</td>\n      <td>[CDL Constellation Pte. Ltd., TID Residential ...</td>\n      <td>2</td>\n      <td>[CDL Constellation Pte. Ltd., TID Residential ...</td>\n      <td>CDL Constellation Pte. Ltd.</td>\n      <td>TID Residential Pte. Ltd.</td>\n      <td>NaN</td>\n      <td>NaN</td>\n    </tr>\n    <tr>\n      <th>4</th>\n      <td>c278da3f1270e62fd626cb02ebbc60f36d81f51ae33e3a...</td>\n      <td>29/6/2016</td>\n      <td>23/8/2016</td>\n      <td>5/9/2016</td>\n      <td>Sengkang E20</td>\n      <td>Sengkang E20</td>\n      <td>Anchorvale Lane</td>\n      <td>sengkang</td>\n      <td>north-east region</td>\n      <td>project name</td>\n      <td>...</td>\n      <td>3727.56</td>\n      <td>NaN</td>\n      <td>Wee Hur Development Pte. Ltd.</td>\n      <td>[Wee Hur Development Pte. Ltd.]</td>\n      <td>1</td>\n      <td>[Wee Hur Development Pte. Ltd., nan, nan, nan]</td>\n      <td>Wee Hur Development Pte. Ltd.</td>\n      <td>NaN</td>\n      <td>NaN</td>\n      <td>NaN</td>\n    </tr>\n  </tbody>\n</table>\n<p>5 rows × 54 columns</p>\n</div>"
     },
     "execution_count": 11,
     "metadata": {},
     "output_type": "execute_result"
    }
   ],
   "source": [
    "# gls_top3['stripped_names'] = td_names.list_of_tenderers.apply(stripName)\n",
    "# create additional cols for multiple tenderers\n",
    "max_num_td = gls.num_tenderers_same_rank.max()\n",
    "gls['tenderer_names_filled'] = gls.list_of_tenderers.apply(lambda x: x + [np.nan] * (max_num_td - len(x)))\n",
    "for col in range(max_num_td):\n",
    "    gls[f\"tenderer_{col + 1}\"] = gls.tenderer_names_filled.apply(lambda x: x[col])\n",
    "gls.head()"
   ],
   "metadata": {
    "collapsed": false
   }
  },
  {
   "cell_type": "code",
   "execution_count": 34,
   "outputs": [],
   "source": [
    "name_dict = pd.read_csv(r'G:\\REA\\Working files\\land-bidding\\land_sales_full_data\\ready for uploading\\tenderer_name_dict_keywords.csv')\n",
    "# na_idx = name_dict[name_dict.unified_name.isna()].index\n",
    "# name_dict.iloc[na_idx, 2] = name_dict.iloc[na_idx, 0]\n",
    "# name_dict = name_dict.iloc[:, [0,2]]\n",
    "name_dict = name_dict[['key_word', 'unified_name']]\n",
    "name_dict_dic = dict(zip(list(name_dict.key_word.apply(lambda x: x.lower())), list(name_dict.unified_name)))"
   ],
   "metadata": {
    "collapsed": false
   }
  },
  {
   "cell_type": "code",
   "execution_count": 35,
   "outputs": [
    {
     "data": {
      "text/plain": "      land_parcel_std                                    separated_names  \\\n0      Queenstown S9b                                HY Realty Pte. Ltd.   \n1      Queenstown S9b                           Allgreen Properties Ltd.   \n2         Punggol E13            Qingjian Realty (Residential) Pte. Ltd.   \n3         Punggol E13  CDL Constellation Pte. Ltd. | TID Residential ...   \n4        Sengkang E20                      Wee Hur Development Pte. Ltd.   \n...               ...                                                ...   \n2753   Jurong West E1  Lum Chang Bldg Contractors Pte. Ltd. | L.C. De...   \n2798     Tampines E11  Maxdin Pte. Ltd. | BPK Development Pte. Ltd. |...   \n3037  Jurong West S3a  The Dynasty Corp. (S) Pte. Ltd. | SEADC Invest...   \n3221     Martin Place  Intrepid Investments Pte. Ltd. | Verwood Holdi...   \n3306      Dunman Road  Intrepid Investments Pte. Ltd. | CDL Constella...   \n\n      tenderer_rank  num_tenderers_same_rank  tender_price  price_psm_gfa  \\\n0                 1                        1  4.831780e+08        9376.82   \n1                 2                        1  4.459100e+08        8653.57   \n2                 2                        1  4.860000e+08        5987.51   \n3                 1                        2  5.093700e+08        6275.43   \n4                 2                        1  2.350000e+08        3727.56   \n...             ...                      ...           ...            ...   \n2753              1                        4  1.390000e+08        2363.95   \n2798              2                        4  2.307000e+08        3970.67   \n3037              1                        4  4.300000e+07           0.00   \n3221              2                        4  5.880000e+08       13177.36   \n3306              2                        4  1.067000e+09       12080.93   \n\n     tenderer_id                  tenderer_name  \n0     tenderer_1            HY Realty Pte. Ltd.  \n1     tenderer_1       Allgreen Properties Ltd.  \n2     tenderer_1      Qingjian Realty Pte. Ltd.  \n3     tenderer_1    CDL Constellation Pte. Ltd.  \n4     tenderer_1  Wee Hur Development Pte. Ltd.  \n...          ...                            ...  \n2753  tenderer_4             Comfort Group Ltd.  \n2798  tenderer_4           LMG Realty Pte. Ltd.  \n3037  tenderer_4         GEMT Trading Pte. Ltd.  \n3221  tenderer_4       Garden Estates Pte. Ltd.  \n3306  tenderer_4      TID Residential Pte. Ltd.  \n\n[1215 rows x 8 columns]",
      "text/html": "<div>\n<style scoped>\n    .dataframe tbody tr th:only-of-type {\n        vertical-align: middle;\n    }\n\n    .dataframe tbody tr th {\n        vertical-align: top;\n    }\n\n    .dataframe thead th {\n        text-align: right;\n    }\n</style>\n<table border=\"1\" class=\"dataframe\">\n  <thead>\n    <tr style=\"text-align: right;\">\n      <th></th>\n      <th>land_parcel_std</th>\n      <th>separated_names</th>\n      <th>tenderer_rank</th>\n      <th>num_tenderers_same_rank</th>\n      <th>tender_price</th>\n      <th>price_psm_gfa</th>\n      <th>tenderer_id</th>\n      <th>tenderer_name</th>\n    </tr>\n  </thead>\n  <tbody>\n    <tr>\n      <th>0</th>\n      <td>Queenstown S9b</td>\n      <td>HY Realty Pte. Ltd.</td>\n      <td>1</td>\n      <td>1</td>\n      <td>4.831780e+08</td>\n      <td>9376.82</td>\n      <td>tenderer_1</td>\n      <td>HY Realty Pte. Ltd.</td>\n    </tr>\n    <tr>\n      <th>1</th>\n      <td>Queenstown S9b</td>\n      <td>Allgreen Properties Ltd.</td>\n      <td>2</td>\n      <td>1</td>\n      <td>4.459100e+08</td>\n      <td>8653.57</td>\n      <td>tenderer_1</td>\n      <td>Allgreen Properties Ltd.</td>\n    </tr>\n    <tr>\n      <th>2</th>\n      <td>Punggol E13</td>\n      <td>Qingjian Realty (Residential) Pte. Ltd.</td>\n      <td>2</td>\n      <td>1</td>\n      <td>4.860000e+08</td>\n      <td>5987.51</td>\n      <td>tenderer_1</td>\n      <td>Qingjian Realty Pte. Ltd.</td>\n    </tr>\n    <tr>\n      <th>3</th>\n      <td>Punggol E13</td>\n      <td>CDL Constellation Pte. Ltd. | TID Residential ...</td>\n      <td>1</td>\n      <td>2</td>\n      <td>5.093700e+08</td>\n      <td>6275.43</td>\n      <td>tenderer_1</td>\n      <td>CDL Constellation Pte. Ltd.</td>\n    </tr>\n    <tr>\n      <th>4</th>\n      <td>Sengkang E20</td>\n      <td>Wee Hur Development Pte. Ltd.</td>\n      <td>2</td>\n      <td>1</td>\n      <td>2.350000e+08</td>\n      <td>3727.56</td>\n      <td>tenderer_1</td>\n      <td>Wee Hur Development Pte. Ltd.</td>\n    </tr>\n    <tr>\n      <th>...</th>\n      <td>...</td>\n      <td>...</td>\n      <td>...</td>\n      <td>...</td>\n      <td>...</td>\n      <td>...</td>\n      <td>...</td>\n      <td>...</td>\n    </tr>\n    <tr>\n      <th>2753</th>\n      <td>Jurong West E1</td>\n      <td>Lum Chang Bldg Contractors Pte. Ltd. | L.C. De...</td>\n      <td>1</td>\n      <td>4</td>\n      <td>1.390000e+08</td>\n      <td>2363.95</td>\n      <td>tenderer_4</td>\n      <td>Comfort Group Ltd.</td>\n    </tr>\n    <tr>\n      <th>2798</th>\n      <td>Tampines E11</td>\n      <td>Maxdin Pte. Ltd. | BPK Development Pte. Ltd. |...</td>\n      <td>2</td>\n      <td>4</td>\n      <td>2.307000e+08</td>\n      <td>3970.67</td>\n      <td>tenderer_4</td>\n      <td>LMG Realty Pte. Ltd.</td>\n    </tr>\n    <tr>\n      <th>3037</th>\n      <td>Jurong West S3a</td>\n      <td>The Dynasty Corp. (S) Pte. Ltd. | SEADC Invest...</td>\n      <td>1</td>\n      <td>4</td>\n      <td>4.300000e+07</td>\n      <td>0.00</td>\n      <td>tenderer_4</td>\n      <td>GEMT Trading Pte. Ltd.</td>\n    </tr>\n    <tr>\n      <th>3221</th>\n      <td>Martin Place</td>\n      <td>Intrepid Investments Pte. Ltd. | Verwood Holdi...</td>\n      <td>2</td>\n      <td>4</td>\n      <td>5.880000e+08</td>\n      <td>13177.36</td>\n      <td>tenderer_4</td>\n      <td>Garden Estates Pte. Ltd.</td>\n    </tr>\n    <tr>\n      <th>3306</th>\n      <td>Dunman Road</td>\n      <td>Intrepid Investments Pte. Ltd. | CDL Constella...</td>\n      <td>2</td>\n      <td>4</td>\n      <td>1.067000e+09</td>\n      <td>12080.93</td>\n      <td>tenderer_4</td>\n      <td>TID Residential Pte. Ltd.</td>\n    </tr>\n  </tbody>\n</table>\n<p>1215 rows × 8 columns</p>\n</div>"
     },
     "execution_count": 35,
     "metadata": {},
     "output_type": "execute_result"
    }
   ],
   "source": [
    "# unpivot table\n",
    "import re\n",
    "td_df = gls[['land_parcel_std', 'separated_names', 'tenderer_rank', 'num_tenderers_same_rank', 'tender_price', 'price_psm_gfa', 'tenderer_1', 'tenderer_2', 'tenderer_3', 'tenderer_4',]]\n",
    "td_df = td_df.melt(id_vars=['land_parcel_std', 'separated_names', 'tenderer_rank', 'num_tenderers_same_rank', 'tender_price', 'price_psm_gfa'], var_name='tenderer_id', value_name='tenderer_name').dropna(axis = 0, subset = ['tenderer_name'])\n",
    "td_df['tenderer_name'] = td_df.tenderer_name.apply(lambda x: re.sub('\\(.*?\\)', '', x)).apply(lambda x: re.sub(' +', ' ', x)).apply(lambda x: x.strip())\n",
    "td_df"
   ],
   "metadata": {
    "collapsed": false
   }
  },
  {
   "cell_type": "code",
   "execution_count": 36,
   "outputs": [
    {
     "data": {
      "text/plain": "'I. P. Property Fund Asia Ltd.'"
     },
     "execution_count": 36,
     "metadata": {},
     "output_type": "execute_result"
    }
   ],
   "source": [
    "name_by_keyword('I. P.', name_dict_dic)"
   ],
   "metadata": {
    "collapsed": false
   }
  },
  {
   "cell_type": "code",
   "execution_count": 46,
   "outputs": [],
   "source": [
    "td_df['unified_name'] = td_df.tenderer_name.apply(name_by_keyword, dictionary=name_dict_dic)\n",
    "td_df[td_df.unified_name==0].to_csv('name_no_keyword.csv', index=False)"
   ],
   "metadata": {
    "collapsed": false
   }
  },
  {
   "cell_type": "code",
   "execution_count": null,
   "outputs": [],
   "source": [
    "count_td = gls_uniname.groupby('unified_name').land_parcel.count()\n",
    "# count_td.sort_values(by='tenderer_id', ascending=False).head()\n",
    "count_td"
   ],
   "metadata": {
    "collapsed": false
   }
  },
  {
   "cell_type": "code",
   "execution_count": null,
   "outputs": [],
   "source": [
    "avg_td = gls_top3_uniname.groupby('unified_name')['tender_price', 'price_psm_gfa'].mean()\n",
    "avg_td = avg_td.transform({'tender_price': lambda x: '%.2f' %x, 'price_psm_gfa': lambda x: '%.2f' %x})\n",
    "avg_td"
   ],
   "metadata": {
    "collapsed": false
   }
  },
  {
   "cell_type": "code",
   "execution_count": null,
   "outputs": [],
   "source": [
    "td_count_price = pd.merge(count_td, avg_td, how='left', on='unified_name')"
   ],
   "metadata": {
    "collapsed": false
   }
  },
  {
   "cell_type": "code",
   "execution_count": null,
   "outputs": [],
   "source": [
    "rank1_only = gls_top3_uniname[gls_top3_uniname.tenderer_rank==1]\n",
    "rank1_count = rank1_only.groupby('unified_name').land_parcel.count().rename('num_of_top1')\n",
    "rank1_count"
   ],
   "metadata": {
    "collapsed": false
   }
  },
  {
   "cell_type": "code",
   "execution_count": null,
   "outputs": [],
   "source": [
    "td_overall = pd.merge(td_count_price, rank1_count, how='left', on='unified_name')\n",
    "td_overall['top1%'] = td_overall.num_of_top1 / td_overall.land_parcel\n",
    "td_overall['top1%'] = td_overall['top1%'].transform(lambda x: '%.1f' %(x*100))\n",
    "td_overall.to_csv(\"tenderer_name_groupby.csv\")"
   ],
   "metadata": {
    "collapsed": false
   }
  },
  {
   "cell_type": "markdown",
   "source": [],
   "metadata": {
    "collapsed": false
   }
  },
  {
   "cell_type": "code",
   "execution_count": null,
   "outputs": [],
   "source": [
    "# funcs to calculate matching score of two words: complete match, return 1\n",
    "def match_score(dictionary: str, lookup_value: str):\n",
    "    if lookup_value:\n",
    "        a = list(\"\".join(dictionary.split(\" \")))\n",
    "        b = list(\"\".join(lookup_value.split(\" \")))\n",
    "        score_a = 0\n",
    "        score_b = 0\n",
    "        penalty_a = 0\n",
    "        penalty_b = 0\n",
    "        total_len_a = len(a)\n",
    "        total_len_b = len(b)\n",
    "        if total_len_a * total_len_b > 0:\n",
    "            for char in a:\n",
    "                if char in b:\n",
    "                    score_a += 1\n",
    "                else:\n",
    "                    penalty_a += 1\n",
    "            for char in b:\n",
    "                if char in a:\n",
    "                    score_b += 1\n",
    "                else:\n",
    "                    penalty_b += 1\n",
    "            return (score_a / total_len_a) * (score_b / total_len_b) - (penalty_a / total_len_a) * (penalty_b / total_len_b)\n",
    "        else:\n",
    "            return np.nan\n",
    "\n",
    "    else:\n",
    "        return np.nan\n",
    "\n",
    "# funcs to calculate order score of two words: same order, return 0\n",
    "def order_score(dictionary: str, lookup_value: str):\n",
    "    char_list_dict = list(dictionary)\n",
    "    charset_dict = list(set(char_list_dict))\n",
    "    order_dict_a = dict()\n",
    "    for char in charset_dict:\n",
    "        order_dict_a[char] = char_list_dict.index(char)\n",
    "\n",
    "    char_list_value = list(lookup_value)\n",
    "    charset_value = list(set(char_list_value))\n",
    "    order_dict_b = dict()\n",
    "    for char in charset_value:\n",
    "        order_dict_b[char] = char_list_value.index(char)\n",
    "\n",
    "    # get the index of first char of dict in value dict\n",
    "    first_char = dictionary[0]\n",
    "\n",
    "    try:\n",
    "        first_char_idx = order_dict_b[first_char]\n",
    "        # print(first_char_idx)\n",
    "        # recalculate index for value dict\n",
    "        for char in order_dict_b.keys():\n",
    "            order_dict_b[char] -= first_char_idx\n",
    "\n",
    "    except KeyError:\n",
    "        pass\n",
    "\n",
    "    char_order_dict = [order_dict_a.get(key) for key in char_list_dict]\n",
    "    char_order_dict_in_value = [order_dict_b.get(key) for key in char_list_dict]\n",
    "\n",
    "    # calculate variation score\n",
    "    sum_ = 0\n",
    "    len_ = 0\n",
    "    for k in range(len(char_order_dict)):\n",
    "        if char_order_dict_in_value[k] is None:\n",
    "            sum_ += 1\n",
    "        else:\n",
    "            sum_ += (char_order_dict[k] - char_order_dict_in_value[k]) ** 2\n",
    "        len_ += 1\n",
    "\n",
    "    try:\n",
    "        variation = (sum_ / len_) ** 0.5\n",
    "    except ZeroDivisionError:\n",
    "        variation = np.nan\n",
    "\n",
    "    return variation\n",
    "\n",
    "def unpack_poly1d(poly1d):\n",
    "    return list(poly1d.coef)\n",
    "\n",
    "# decay func to calculate weight of words in different place: front words have higher weight\n",
    "def decayFunc(start_x, start_y, end_x, end_y):\n",
    "    from numpy import polyfit, poly1d\n",
    "    df = pd.DataFrame({'x': [start_x, end_x], 'y': [start_y, end_y]})\n",
    "    fit = polyfit(df.x, df.y, 3)\n",
    "    equation = poly1d(fit)\n",
    "\n",
    "    # import matplotlib.pyplot as plt\n",
    "\n",
    "    # xmesh = np.linspace(min(df['x']), max(df['x']), 100)\n",
    "    # plt.plot(df['x'], df['y'], 'bo', label='data')\n",
    "    # plt.plot(xmesh, equation(xmesh), '-b', label='fit')\n",
    "    # plt.legend(fontsize=20)\n",
    "    # plt.xlabel('x', fontsize=20)\n",
    "    # plt.ylabel('y', fontsize=20)\n",
    "    # plt.show()\n",
    "\n",
    "    return unpack_poly1d(equation)\n",
    "\n",
    "# func to generate weight list\n",
    "def weightList(coef: List[float], n_weight: List):\n",
    "    n_var = len(coef) - 1\n",
    "    w_list = []\n",
    "\n",
    "    for x in n_weight:\n",
    "        sum = 0\n",
    "        for i in range(len(coef)):\n",
    "            sum += coef[::-1][i] * x ** i\n",
    "        w_list.append(sum)\n",
    "\n",
    "    return w_list\n",
    "\n",
    "def get_max_min_len(nameA: str, nameB: str)-> int:\n",
    "    Alist = nameA.split(' ')\n",
    "    Blist = nameB.split(' ')\n",
    "    return max(len(Alist), len(Blist)), min(len(Alist), len(Blist))\n",
    "\n",
    "# func to calculate similarity\n",
    "def similarity(nameA: str, nameB: str, w_h = 0.9, w_l = 0.1)-> float:\n",
    "    min_len = get_max_min_len(nameA, nameB)[1]\n",
    "    max_len = get_max_min_len(nameA, nameB)[0]\n",
    "    w_list1 = weightList(decayFunc(1, w_h, min_len, w_l), list(range(1, min_len+1)))\n",
    "    w_list2 = weightList(decayFunc(1, w_h, max_len, w_l), list(range(1, max_len+1)))\n",
    "\n",
    "    Alist_0 = nameA.split(' ')\n",
    "    Blist_0 = nameB.split(' ')\n",
    "\n",
    "    # Alist, Blist = Alist_0[:same_len], Blist_0[:same_len]\n",
    "    # if len(w_list) < same_len:\n",
    "    #     w_list += [w_list[-1]]*(same_len-len(w_list))\n",
    "    # w_list = w_list[:same_len]\n",
    "    if len(Alist_0) != min_len:\n",
    "        Alist_0, Blist_0 = Blist_0, Alist_0\n",
    "\n",
    "    score_a = 0\n",
    "    score_b = 0\n",
    "    for i in range(min_len):\n",
    "        if Alist_0[i] in Blist_0:\n",
    "            score_a += 1*w_list1[i]\n",
    "\n",
    "    for j in range(max_len):\n",
    "        if Blist_0[j] in Alist_0:\n",
    "            score_b += 1*w_list2[j]\n",
    "\n",
    "    incl_a = score_a/len(Alist_0)\n",
    "    incl_b = score_b/len(Blist_0)\n",
    "\n",
    "    return incl_a + incl_b\n",
    "\n",
    "# func to calculate distance between two words\n",
    "def distance(nameA: str, nameB: str, w_h = 0.9, w_l = 0.1)-> float:\n",
    "    same_len = get_max_min_len(nameA, nameB)[1]\n",
    "    weight_n = list(range(1, same_len+1))\n",
    "    w_list = weightList(decayFunc(1, w_h, same_len, w_l), weight_n)\n",
    "\n",
    "    Alist_0 = nameA.split(' ')\n",
    "    Blist_0 = nameB.split(' ')\n",
    "\n",
    "    Alist, Blist = Alist_0[:same_len], Blist_0[:same_len]\n",
    "    if len(w_list) < same_len:\n",
    "        w_list += [w_list[-1]]*(same_len-len(w_list))\n",
    "    w_list = w_list[:same_len]\n",
    "\n",
    "    euc_d = [(((1-match_score(Alist[i], Blist[i]))**2 + order_score(Alist[i], Blist[i])**2)**0.5) for i in range(same_len)]\n",
    "    df = pd.DataFrame({'euc_index': euc_d, 'weight': w_list})\n",
    "    distance = df.iloc[:, 0].dot(df.weight)\n",
    "\n",
    "    len_mean = (len(Alist_0) + len(Blist_0)) / 2\n",
    "    len_var = (((len(Alist_0)-len_mean)**2 + (len(Blist_0)-len_mean)**2)/2) ** 0.5\n",
    "\n",
    "    return distance + len_var\n",
    "\n",
    "# func to combine similarity and distance to get a comprehensive score\n",
    "def overallSim(nameA: str, nameB: str, w_h = 0.9, w_l = 0.1):\n",
    "    sim = similarity(nameA, nameB, w_h, w_l)\n",
    "    dis = distance(nameA, nameB, w_h, w_l)\n",
    "    return sim - dis*0.1\n"
   ],
   "metadata": {
    "collapsed": false
   }
  },
  {
   "cell_type": "code",
   "execution_count": null,
   "outputs": [],
   "source": [
    "companyA = 'CDL Properties'\n",
    "companyB = 'CDL Real Estate'\n",
    "companyC = 'Hon Sui Sen Properties What what'\n",
    "companyD = 'Hon Heung Investments'\n",
    "companyE = 'Hon Tian Sen Properties'\n",
    "companyF = 'Hon Sui Sen'\n",
    "\n",
    "overallSim(companyA, companyB)\n"
   ],
   "metadata": {
    "collapsed": false
   }
  },
  {
   "cell_type": "code",
   "execution_count": null,
   "outputs": [],
   "source": [
    "td_minor = count_td[count_td.successful_tenderer_id < 10]\n",
    "unique_name = pd.Series(td_minor.successful_tenderer_name.unique())\n",
    "unique_name"
   ],
   "metadata": {
    "collapsed": false
   }
  },
  {
   "cell_type": "code",
   "execution_count": null,
   "outputs": [],
   "source": [
    "# create a dict to find full name for stripped names\n",
    "stripped = unique_name.apply(lambda x: stripName(x)[0])"
   ],
   "metadata": {
    "collapsed": false
   }
  },
  {
   "cell_type": "code",
   "execution_count": null,
   "outputs": [],
   "source": [
    "def find_most_likely_name(name, ref: List[str]):\n",
    "    name_dict = {}\n",
    "    for item in ref:\n",
    "        if item != name:\n",
    "            name_dict[item] = overallSim(name, item)\n",
    "    return max(name_dict, key=name_dict.get), max(name_dict.values())\n",
    "\n",
    "# td_minor['most_likely_name'] = td_minor.reset_index().successful_tenderer_name.apply(lambda x: find_most_likely_name(x, ref=unique_name))\n",
    "likely_names = stripped.apply(lambda x: find_most_likely_name(x, ref=stripped))"
   ],
   "metadata": {
    "collapsed": false
   }
  },
  {
   "cell_type": "code",
   "execution_count": null,
   "outputs": [],
   "source": [
    "name_dict = pd.DataFrame({\"names\": unique_name, \"likely_names\": likely_names.apply(lambda x: x[0]), \"likelihood\": likely_names.apply(lambda x: x[1])})\n",
    "name_dict.to_csv(\"tenderer_name_dict.csv\", index=False)"
   ],
   "metadata": {
    "collapsed": false
   }
  },
  {
   "cell_type": "code",
   "execution_count": null,
   "outputs": [],
   "source": [
    "td_minor = td_minor.reset_index()\n",
    "test.successful_tenderer_name.apply(lambda x: find_most_likely_name(x, unique_name)[0])"
   ],
   "metadata": {
    "collapsed": false
   }
  },
  {
   "cell_type": "markdown",
   "source": [
    "# Missing parcels in master table"
   ],
   "metadata": {
    "collapsed": false
   }
  },
  {
   "cell_type": "code",
   "execution_count": 11,
   "outputs": [],
   "source": [
    "missing = pd.read_csv(r'G:\\REA\\Working files\\land-bidding\\land_sales_full_data\\missing_parcels.csv')"
   ],
   "metadata": {
    "collapsed": false
   }
  },
  {
   "cell_type": "code",
   "execution_count": 14,
   "outputs": [],
   "source": [
    "import re\n",
    "missing['land_parcel'] = missing.land_parcel.apply(lambda x: re.sub('/', ' + ', x))\n",
    "miss_list = list(missing.land_parcel)"
   ],
   "metadata": {
    "collapsed": false
   }
  },
  {
   "cell_type": "code",
   "execution_count": 20,
   "outputs": [
    {
     "data": {
      "text/plain": "                      missing_parcel  scraped\n0                     Lengkong Empat        1\n1                     Tuas Bay Drive        1\n2    Raffles Quay + Marina Boulevard        0\n3                  Mount Sinai Drive        0\n4     Joo Chiat Place + Everitt Road        0\n..                               ...      ...\n145            Bukit Batok Street 23        1\n146             Bedok South Avenue 3        1\n147                     Boon Lay Way        1\n148                  Soon Lee Street        1\n149    Merchant Road + Magazine Road        0\n\n[150 rows x 2 columns]",
      "text/html": "<div>\n<style scoped>\n    .dataframe tbody tr th:only-of-type {\n        vertical-align: middle;\n    }\n\n    .dataframe tbody tr th {\n        vertical-align: top;\n    }\n\n    .dataframe thead th {\n        text-align: right;\n    }\n</style>\n<table border=\"1\" class=\"dataframe\">\n  <thead>\n    <tr style=\"text-align: right;\">\n      <th></th>\n      <th>missing_parcel</th>\n      <th>scraped</th>\n    </tr>\n  </thead>\n  <tbody>\n    <tr>\n      <th>0</th>\n      <td>Lengkong Empat</td>\n      <td>1</td>\n    </tr>\n    <tr>\n      <th>1</th>\n      <td>Tuas Bay Drive</td>\n      <td>1</td>\n    </tr>\n    <tr>\n      <th>2</th>\n      <td>Raffles Quay + Marina Boulevard</td>\n      <td>0</td>\n    </tr>\n    <tr>\n      <th>3</th>\n      <td>Mount Sinai Drive</td>\n      <td>0</td>\n    </tr>\n    <tr>\n      <th>4</th>\n      <td>Joo Chiat Place + Everitt Road</td>\n      <td>0</td>\n    </tr>\n    <tr>\n      <th>...</th>\n      <td>...</td>\n      <td>...</td>\n    </tr>\n    <tr>\n      <th>145</th>\n      <td>Bukit Batok Street 23</td>\n      <td>1</td>\n    </tr>\n    <tr>\n      <th>146</th>\n      <td>Bedok South Avenue 3</td>\n      <td>1</td>\n    </tr>\n    <tr>\n      <th>147</th>\n      <td>Boon Lay Way</td>\n      <td>1</td>\n    </tr>\n    <tr>\n      <th>148</th>\n      <td>Soon Lee Street</td>\n      <td>1</td>\n    </tr>\n    <tr>\n      <th>149</th>\n      <td>Merchant Road + Magazine Road</td>\n      <td>0</td>\n    </tr>\n  </tbody>\n</table>\n<p>150 rows × 2 columns</p>\n</div>"
     },
     "execution_count": 20,
     "metadata": {},
     "output_type": "execute_result"
    }
   ],
   "source": [
    "import os\n",
    "all_scraped = os.listdir(r'G:\\REA\\Working files\\land-bidding\\Table extraction\\tenderer_details_ura\\temp')\n",
    "status = [0]*len(miss_list)\n",
    "for i in range(len(miss_list)):\n",
    "    for item in all_scraped:\n",
    "        if miss_list[i] in item:\n",
    "            status[i] = 1\n",
    "pd.DataFrame({'missing_parcel': miss_list, 'scraped': status})"
   ],
   "metadata": {
    "collapsed": false
   }
  },
  {
   "cell_type": "code",
   "execution_count": 27,
   "outputs": [],
   "source": [
    "gls.index = gls.sg_gls_id"
   ],
   "metadata": {
    "collapsed": false
   }
  },
  {
   "cell_type": "code",
   "execution_count": 5,
   "outputs": [
    {
     "data": {
      "text/plain": "datetime.timedelta(days=204)"
     },
     "execution_count": 5,
     "metadata": {},
     "output_type": "execute_result"
    }
   ],
   "source": [
    "from datetime import date\n",
    "from dateutil.relativedelta import relativedelta\n",
    "# record = gls.loc['1151a728199876797747429b92440bcdb05233bed522078cddb609700a0ea939']\n",
    "date = date(2022, 10, 19) - date(2022, 3, 29)\n",
    "date"
   ],
   "metadata": {
    "collapsed": false
   }
  }
 ],
 "metadata": {
  "kernelspec": {
   "display_name": "Python 3.8.8",
   "language": "python",
   "name": "python3"
  },
  "language_info": {
   "codemirror_mode": {
    "name": "ipython",
    "version": 3
   },
   "file_extension": ".py",
   "mimetype": "text/x-python",
   "name": "python",
   "nbconvert_exporter": "python",
   "pygments_lexer": "ipython3",
   "version": "3.8.8"
  },
  "orig_nbformat": 4,
  "vscode": {
   "interpreter": {
    "hash": "f8b40d688a12481f01eadf7380c47edd8a49484a47dba3db091451640e880c68"
   }
  }
 },
 "nbformat": 4,
 "nbformat_minor": 2
}
