{
 "cells": [
  {
   "cell_type": "markdown",
   "metadata": {},
   "source": [
    "# Insights from tenderer names"
   ]
  },
  {
   "cell_type": "code",
   "execution_count": 1,
   "metadata": {},
   "outputs": [],
   "source": [
    "import pandas as pd\n",
    "import numpy as np\n",
    "import re\n",
    "from typing import List\n",
    "# pd.set_option('display.float_format', lambda x: '%.0f' % x)\n",
    "pd.reset_option('display.float_format')"
   ]
  },
  {
   "cell_type": "code",
   "execution_count": 2,
   "metadata": {},
   "outputs": [],
   "source": [
    "def nameFormat(companyName: str)-> str:\n",
    "\n",
    "    import re\n",
    "    pte_suffix = ['[Pp]rivate', '[Pp][Tt][Ee]']\n",
    "    ltd_suffix = ['[Ll]imited', '[Ll]imit', '[Ll][Tt][Dd]']\n",
    "\n",
    "    try:\n",
    "        # remove line breaks and slashes\n",
    "        companyName = companyName.strip()\n",
    "        companyName = re.sub(r' +', r' ', companyName)\n",
    "        # companyName = re.sub(r'\\\\+', r'\\\\', companyName)\n",
    "        companyName = re.sub(r'\\\\+n?', '', companyName)\n",
    "        companyName = re.sub(r'\\n', r'', companyName)\n",
    "\n",
    "        # replace suffix with identical format\n",
    "        for suffix in pte_suffix:\n",
    "            pattern = f'\\(?{suffix}\\.?,?\\)?'\n",
    "            companyName = re.sub(pattern, 'Pte.', companyName)\n",
    "\n",
    "        for suffix in ltd_suffix:\n",
    "            pattern = f'\\(?{suffix}\\.?\\)?'\n",
    "            companyName = re.sub(pattern, 'Ltd.', companyName)\n",
    "\n",
    "        companyName = re.sub('\\(?[Pp][Ll][.]?\\)?[\\W]?$', 'Pte. Ltd.', companyName)\n",
    "        companyName = re.sub('\\(?[Pp][Ll][ ,./]\\)?', 'Pte. Ltd.,', companyName)\n",
    "        companyName = re.sub('\\(?[Ii][Nn][Cc][.]?\\)?[\\W]?$', 'Inc.', companyName)\n",
    "        companyName = re.sub('\\(?[Ii]ncorporate[d]?\\)?', 'Inc.', companyName)\n",
    "        companyName = re.sub('\\(?[Ii][Nn][Cc][.]? +\\)?', 'Inc. ', companyName)\n",
    "        companyName = re.sub('\\(?[Jj][oint]*?[ -/&]?[Vv]e?n?t?u?r?e?[.]?\\)?', 'J.V.', companyName)\n",
    "        companyName = re.sub('\\(?[Cc][Oo][Rr][Pp][oration]*\\)?', 'Corp.', companyName)\n",
    "\n",
    "        # identify separators and split multiple company names\n",
    "        sep_id = ['[Ll][Tt][Dd]', '[Ii][Nn][Cc]', '[Cc][Oo][Rr][Pp]', '[Gg][Mm][Bb][Hh]', '[Jj].?[Vv].?', '[Ll][Ll][Cc]', '[Pp][Ll][Cc]', '[Ll][Ll][Pp]', '[Gg][Rr][Oo][Uu][Pp]']\n",
    "        repl = ['Ltd', 'Inc', 'Corp', 'Gmbh', 'J.V', 'LLC', 'Plc', 'LLP', 'Group']\n",
    "        repl_dict = dict(zip(sep_id, repl))\n",
    "        for suffix in repl_dict.keys():\n",
    "            sep_pattern_and = f'{suffix}[.]?[ ,;][\\W]*?[Aa]nd? +'\n",
    "            # sep_pattern_comma = 'ltd[.]?[ ]*[,;&][\\W]?[,;]?[ ]?'\n",
    "            sep_pattern_comma_ampersand = f'{suffix}[.]?[ ]*[,;&/][\\W]?[ ]?'\n",
    "            suffix_repl = repl_dict[suffix]\n",
    "            companyName = re.sub(sep_pattern_and, f'{suffix_repl}. | ', companyName)\n",
    "            companyName = re.sub(sep_pattern_comma_ampersand, f'{suffix_repl}. | ', companyName)\n",
    "\n",
    "    except AttributeError:\n",
    "        pass\n",
    "\n",
    "    return companyName\n"
   ]
  },
  {
   "cell_type": "code",
   "execution_count": 3,
   "metadata": {},
   "outputs": [
    {
     "data": {
      "text/plain": "['abc', 'ccc', 'cbc', 'ddd', 'abc', nan, 7]"
     },
     "execution_count": 3,
     "metadata": {},
     "output_type": "execute_result"
    }
   ],
   "source": [
    "def stripName(companyName: List[str]):\n",
    "    strip_pattern = [f' +{string}[.]?$' for string in ['[Ll][Tt][Dd]', '[Pp][Tt][Ee]', '[Pp][Tt][Ee][.]? +[Ll][Tt][Dd]', '[Ii][Nn][Cc]', '[Cc][Oo][Rr][Pp]', '[Gg][Mm][Bb][Hh]', '[Jj].?[Vv]', '[Ll][Ll][Cc]', '[Pp][Ll][Cc]', '[Ll][Ll][Pp]', '[Cc][Oo][.]?[,]? +[Pp][Tt][Ee][.]?[,]? +[Ll][Tt][Dd]', '[Cc][Oo][.]?[,]? +[Ll][Tt][Dd]', '[Cc][Oo][Rr][Pp][.]?[,]? +[Pp][Tt][Ee][.]?[,]? +[Ll][Tt][Dd]']]\n",
    "    pattern = '|'.join(strip_pattern)\n",
    "    companyName = [companyName] if isinstance(companyName, str) else companyName\n",
    "    stripped_name = []\n",
    "    for name in companyName:\n",
    "        try:\n",
    "            stripped_name.append(re.sub(pattern, '', name))\n",
    "        except AttributeError and TypeError:\n",
    "            stripped_name.append(name)\n",
    "    return stripped_name\n",
    "\n",
    "\n",
    "texts = ['abc Pte. Ltd.', 'ccc inc', 'cbc gMbh', 'ddd J.V', 'abc Co. Pte. Ltd', np.nan, 7]\n",
    "stripName(texts)"
   ]
  },
  {
   "cell_type": "code",
   "execution_count": 4,
   "outputs": [
    {
     "data": {
      "text/plain": "'REA Pte. Ltd. | SOreal LLC. | Cushman & Wakefield, Inc. | P&G Plc. | JLL and Lasalle, consultant, IP Inc. | CDL intl Pte. Ltd. | Capitaland and hdb J.V. | cc Group. | VW GMbH'"
     },
     "execution_count": 4,
     "metadata": {},
     "output_type": "execute_result"
    }
   ],
   "source": [
    "# test\n",
    "company = 'REA pte., LTD, SOreal LLC and Cushman & Wakefield, Incorporated/ P&G PlC & JLL and Lasalle, consultant, IP inc. ; CDL intl pte., ltd.;,Capitaland and hdb joint-venture and cc group,and VW GMbH'\n",
    "nameFormat(company)"
   ],
   "metadata": {
    "collapsed": false
   }
  },
  {
   "cell_type": "code",
   "execution_count": 5,
   "outputs": [
    {
     "data": {
      "text/plain": "                                           sg_gls_id date_launch date_close  \\\n0  8c101477584713a9310e02940aac6b059e37833ab6848d...   29/4/2015  23/6/2015   \n1  8c101477584713a9310e02940aac6b059e37833ab6848d...   29/4/2015  23/6/2015   \n2  8c101477584713a9310e02940aac6b059e37833ab6848d...   29/4/2015  23/6/2015   \n3  8c101477584713a9310e02940aac6b059e37833ab6848d...   29/4/2015  23/6/2015   \n4  8c101477584713a9310e02940aac6b059e37833ab6848d...   29/4/2015  23/6/2015   \n\n  date_award     land_parcel       street        zone          region  \\\n0  30/6/2015  Queenstown S9b  Dundee Road  queenstown  central region   \n1  30/6/2015  Queenstown S9b  Dundee Road  queenstown  central region   \n2  30/6/2015  Queenstown S9b  Dundee Road  queenstown  central region   \n3  30/6/2015  Queenstown S9b  Dundee Road  queenstown  central region   \n4  30/6/2015  Queenstown S9b  Dundee Road  queenstown  central region   \n\n        join_by error_check  ...  day_close award_month_index year_award  \\\n0  project name           0  ...         23            201506       2015   \n1  project name           0  ...         23            201506       2015   \n2  project name           0  ...         23            201506       2015   \n3  project name           0  ...         23            201506       2015   \n4  project name           0  ...         23            201506       2015   \n\n   month_award  day_award  tenderer_rank  \\\n0            6         30              1   \n1            6         30              2   \n2            6         30              3   \n3            6         30              4   \n4            6         30              5   \n\n                                       tenderer_name tender_price  \\\n0                                  HY Realty Pte Ltd  483178000.0   \n1                        Allgreen Properties Limited  445910000.0   \n2  Intrepid Investments Pte Ltd, Verwood \\nHoldin...  432774525.0   \n3  FCL Tampines Court Pte. Ltd. and KH Capital \\n...  421500000.0   \n4  UOL Venture Investments Pte. Ltd., Singland \\n...  417280000.0   \n\n   tender_price_text  price_psm_gfa  \n0     483,178,000.00    9376.836955  \n1     445,910,000.00    8653.592189  \n2     432,774,525.00    8398.677422  \n3     421,500,000.00    8179.877346  \n4     417,280,000.00    8097.981540  \n\n[5 rows x 44 columns]",
      "text/html": "<div>\n<style scoped>\n    .dataframe tbody tr th:only-of-type {\n        vertical-align: middle;\n    }\n\n    .dataframe tbody tr th {\n        vertical-align: top;\n    }\n\n    .dataframe thead th {\n        text-align: right;\n    }\n</style>\n<table border=\"1\" class=\"dataframe\">\n  <thead>\n    <tr style=\"text-align: right;\">\n      <th></th>\n      <th>sg_gls_id</th>\n      <th>date_launch</th>\n      <th>date_close</th>\n      <th>date_award</th>\n      <th>land_parcel</th>\n      <th>street</th>\n      <th>zone</th>\n      <th>region</th>\n      <th>join_by</th>\n      <th>error_check</th>\n      <th>...</th>\n      <th>day_close</th>\n      <th>award_month_index</th>\n      <th>year_award</th>\n      <th>month_award</th>\n      <th>day_award</th>\n      <th>tenderer_rank</th>\n      <th>tenderer_name</th>\n      <th>tender_price</th>\n      <th>tender_price_text</th>\n      <th>price_psm_gfa</th>\n    </tr>\n  </thead>\n  <tbody>\n    <tr>\n      <th>0</th>\n      <td>8c101477584713a9310e02940aac6b059e37833ab6848d...</td>\n      <td>29/4/2015</td>\n      <td>23/6/2015</td>\n      <td>30/6/2015</td>\n      <td>Queenstown S9b</td>\n      <td>Dundee Road</td>\n      <td>queenstown</td>\n      <td>central region</td>\n      <td>project name</td>\n      <td>0</td>\n      <td>...</td>\n      <td>23</td>\n      <td>201506</td>\n      <td>2015</td>\n      <td>6</td>\n      <td>30</td>\n      <td>1</td>\n      <td>HY Realty Pte Ltd</td>\n      <td>483178000.0</td>\n      <td>483,178,000.00</td>\n      <td>9376.836955</td>\n    </tr>\n    <tr>\n      <th>1</th>\n      <td>8c101477584713a9310e02940aac6b059e37833ab6848d...</td>\n      <td>29/4/2015</td>\n      <td>23/6/2015</td>\n      <td>30/6/2015</td>\n      <td>Queenstown S9b</td>\n      <td>Dundee Road</td>\n      <td>queenstown</td>\n      <td>central region</td>\n      <td>project name</td>\n      <td>0</td>\n      <td>...</td>\n      <td>23</td>\n      <td>201506</td>\n      <td>2015</td>\n      <td>6</td>\n      <td>30</td>\n      <td>2</td>\n      <td>Allgreen Properties Limited</td>\n      <td>445910000.0</td>\n      <td>445,910,000.00</td>\n      <td>8653.592189</td>\n    </tr>\n    <tr>\n      <th>2</th>\n      <td>8c101477584713a9310e02940aac6b059e37833ab6848d...</td>\n      <td>29/4/2015</td>\n      <td>23/6/2015</td>\n      <td>30/6/2015</td>\n      <td>Queenstown S9b</td>\n      <td>Dundee Road</td>\n      <td>queenstown</td>\n      <td>central region</td>\n      <td>project name</td>\n      <td>0</td>\n      <td>...</td>\n      <td>23</td>\n      <td>201506</td>\n      <td>2015</td>\n      <td>6</td>\n      <td>30</td>\n      <td>3</td>\n      <td>Intrepid Investments Pte Ltd, Verwood \\nHoldin...</td>\n      <td>432774525.0</td>\n      <td>432,774,525.00</td>\n      <td>8398.677422</td>\n    </tr>\n    <tr>\n      <th>3</th>\n      <td>8c101477584713a9310e02940aac6b059e37833ab6848d...</td>\n      <td>29/4/2015</td>\n      <td>23/6/2015</td>\n      <td>30/6/2015</td>\n      <td>Queenstown S9b</td>\n      <td>Dundee Road</td>\n      <td>queenstown</td>\n      <td>central region</td>\n      <td>project name</td>\n      <td>0</td>\n      <td>...</td>\n      <td>23</td>\n      <td>201506</td>\n      <td>2015</td>\n      <td>6</td>\n      <td>30</td>\n      <td>4</td>\n      <td>FCL Tampines Court Pte. Ltd. and KH Capital \\n...</td>\n      <td>421500000.0</td>\n      <td>421,500,000.00</td>\n      <td>8179.877346</td>\n    </tr>\n    <tr>\n      <th>4</th>\n      <td>8c101477584713a9310e02940aac6b059e37833ab6848d...</td>\n      <td>29/4/2015</td>\n      <td>23/6/2015</td>\n      <td>30/6/2015</td>\n      <td>Queenstown S9b</td>\n      <td>Dundee Road</td>\n      <td>queenstown</td>\n      <td>central region</td>\n      <td>project name</td>\n      <td>0</td>\n      <td>...</td>\n      <td>23</td>\n      <td>201506</td>\n      <td>2015</td>\n      <td>6</td>\n      <td>30</td>\n      <td>5</td>\n      <td>UOL Venture Investments Pte. Ltd., Singland \\n...</td>\n      <td>417280000.0</td>\n      <td>417,280,000.00</td>\n      <td>8097.981540</td>\n    </tr>\n  </tbody>\n</table>\n<p>5 rows × 44 columns</p>\n</div>"
     },
     "execution_count": 5,
     "metadata": {},
     "output_type": "execute_result"
    }
   ],
   "source": [
    "gls = pd.read_csv(r\"G:\\REA\\Working files\\land-bidding\\land_sales_full_data\\ready for uploading\\gls_hdb_details_filled.csv\")\n",
    "gls['price_psm_gfa'] = gls.tender_price/gls.gfa_sqm\n",
    "gls.head()"
   ],
   "metadata": {
    "collapsed": false
   }
  },
  {
   "cell_type": "code",
   "execution_count": 6,
   "outputs": [
    {
     "data": {
      "text/plain": "                                           sg_gls_id date_launch date_close  \\\n0  8c101477584713a9310e02940aac6b059e37833ab6848d...   29/4/2015  23/6/2015   \n1  8c101477584713a9310e02940aac6b059e37833ab6848d...   29/4/2015  23/6/2015   \n2  8c101477584713a9310e02940aac6b059e37833ab6848d...   29/4/2015  23/6/2015   \n3  8c101477584713a9310e02940aac6b059e37833ab6848d...   29/4/2015  23/6/2015   \n4  8c101477584713a9310e02940aac6b059e37833ab6848d...   29/4/2015  23/6/2015   \n\n  date_award     land_parcel       street        zone          region  \\\n0  30/6/2015  Queenstown S9b  Dundee Road  queenstown  central region   \n1  30/6/2015  Queenstown S9b  Dundee Road  queenstown  central region   \n2  30/6/2015  Queenstown S9b  Dundee Road  queenstown  central region   \n3  30/6/2015  Queenstown S9b  Dundee Road  queenstown  central region   \n4  30/6/2015  Queenstown S9b  Dundee Road  queenstown  central region   \n\n        join_by error_check  ...  award_month_index year_award month_award  \\\n0  project name           0  ...             201506       2015           6   \n1  project name           0  ...             201506       2015           6   \n2  project name           0  ...             201506       2015           6   \n3  project name           0  ...             201506       2015           6   \n4  project name           0  ...             201506       2015           6   \n\n   day_award  tenderer_rank  \\\n0         30              1   \n1         30              2   \n2         30              3   \n3         30              4   \n4         30              5   \n\n                                       tenderer_name  tender_price  \\\n0                                  HY Realty Pte Ltd   483178000.0   \n1                        Allgreen Properties Limited   445910000.0   \n2  Intrepid Investments Pte Ltd, Verwood \\nHoldin...   432774525.0   \n3  FCL Tampines Court Pte. Ltd. and KH Capital \\n...   421500000.0   \n4  UOL Venture Investments Pte. Ltd., Singland \\n...   417280000.0   \n\n  tender_price_text  price_psm_gfa  \\\n0    483,178,000.00    9376.836955   \n1    445,910,000.00    8653.592189   \n2    432,774,525.00    8398.677422   \n3    421,500,000.00    8179.877346   \n4    417,280,000.00    8097.981540   \n\n                                     separated_names  \n0                                HY Realty Pte. Ltd.  \n1                           Allgreen Properties Ltd.  \n2  Intrepid Investments Pte. Ltd. | Verwood Holdi...  \n3  FCL Tampines Court Pte. Ltd. | KH Capital Pte....  \n4  UOL Venture Investments Pte. Ltd. | Singland H...  \n\n[5 rows x 45 columns]",
      "text/html": "<div>\n<style scoped>\n    .dataframe tbody tr th:only-of-type {\n        vertical-align: middle;\n    }\n\n    .dataframe tbody tr th {\n        vertical-align: top;\n    }\n\n    .dataframe thead th {\n        text-align: right;\n    }\n</style>\n<table border=\"1\" class=\"dataframe\">\n  <thead>\n    <tr style=\"text-align: right;\">\n      <th></th>\n      <th>sg_gls_id</th>\n      <th>date_launch</th>\n      <th>date_close</th>\n      <th>date_award</th>\n      <th>land_parcel</th>\n      <th>street</th>\n      <th>zone</th>\n      <th>region</th>\n      <th>join_by</th>\n      <th>error_check</th>\n      <th>...</th>\n      <th>award_month_index</th>\n      <th>year_award</th>\n      <th>month_award</th>\n      <th>day_award</th>\n      <th>tenderer_rank</th>\n      <th>tenderer_name</th>\n      <th>tender_price</th>\n      <th>tender_price_text</th>\n      <th>price_psm_gfa</th>\n      <th>separated_names</th>\n    </tr>\n  </thead>\n  <tbody>\n    <tr>\n      <th>0</th>\n      <td>8c101477584713a9310e02940aac6b059e37833ab6848d...</td>\n      <td>29/4/2015</td>\n      <td>23/6/2015</td>\n      <td>30/6/2015</td>\n      <td>Queenstown S9b</td>\n      <td>Dundee Road</td>\n      <td>queenstown</td>\n      <td>central region</td>\n      <td>project name</td>\n      <td>0</td>\n      <td>...</td>\n      <td>201506</td>\n      <td>2015</td>\n      <td>6</td>\n      <td>30</td>\n      <td>1</td>\n      <td>HY Realty Pte Ltd</td>\n      <td>483178000.0</td>\n      <td>483,178,000.00</td>\n      <td>9376.836955</td>\n      <td>HY Realty Pte. Ltd.</td>\n    </tr>\n    <tr>\n      <th>1</th>\n      <td>8c101477584713a9310e02940aac6b059e37833ab6848d...</td>\n      <td>29/4/2015</td>\n      <td>23/6/2015</td>\n      <td>30/6/2015</td>\n      <td>Queenstown S9b</td>\n      <td>Dundee Road</td>\n      <td>queenstown</td>\n      <td>central region</td>\n      <td>project name</td>\n      <td>0</td>\n      <td>...</td>\n      <td>201506</td>\n      <td>2015</td>\n      <td>6</td>\n      <td>30</td>\n      <td>2</td>\n      <td>Allgreen Properties Limited</td>\n      <td>445910000.0</td>\n      <td>445,910,000.00</td>\n      <td>8653.592189</td>\n      <td>Allgreen Properties Ltd.</td>\n    </tr>\n    <tr>\n      <th>2</th>\n      <td>8c101477584713a9310e02940aac6b059e37833ab6848d...</td>\n      <td>29/4/2015</td>\n      <td>23/6/2015</td>\n      <td>30/6/2015</td>\n      <td>Queenstown S9b</td>\n      <td>Dundee Road</td>\n      <td>queenstown</td>\n      <td>central region</td>\n      <td>project name</td>\n      <td>0</td>\n      <td>...</td>\n      <td>201506</td>\n      <td>2015</td>\n      <td>6</td>\n      <td>30</td>\n      <td>3</td>\n      <td>Intrepid Investments Pte Ltd, Verwood \\nHoldin...</td>\n      <td>432774525.0</td>\n      <td>432,774,525.00</td>\n      <td>8398.677422</td>\n      <td>Intrepid Investments Pte. Ltd. | Verwood Holdi...</td>\n    </tr>\n    <tr>\n      <th>3</th>\n      <td>8c101477584713a9310e02940aac6b059e37833ab6848d...</td>\n      <td>29/4/2015</td>\n      <td>23/6/2015</td>\n      <td>30/6/2015</td>\n      <td>Queenstown S9b</td>\n      <td>Dundee Road</td>\n      <td>queenstown</td>\n      <td>central region</td>\n      <td>project name</td>\n      <td>0</td>\n      <td>...</td>\n      <td>201506</td>\n      <td>2015</td>\n      <td>6</td>\n      <td>30</td>\n      <td>4</td>\n      <td>FCL Tampines Court Pte. Ltd. and KH Capital \\n...</td>\n      <td>421500000.0</td>\n      <td>421,500,000.00</td>\n      <td>8179.877346</td>\n      <td>FCL Tampines Court Pte. Ltd. | KH Capital Pte....</td>\n    </tr>\n    <tr>\n      <th>4</th>\n      <td>8c101477584713a9310e02940aac6b059e37833ab6848d...</td>\n      <td>29/4/2015</td>\n      <td>23/6/2015</td>\n      <td>30/6/2015</td>\n      <td>Queenstown S9b</td>\n      <td>Dundee Road</td>\n      <td>queenstown</td>\n      <td>central region</td>\n      <td>project name</td>\n      <td>0</td>\n      <td>...</td>\n      <td>201506</td>\n      <td>2015</td>\n      <td>6</td>\n      <td>30</td>\n      <td>5</td>\n      <td>UOL Venture Investments Pte. Ltd., Singland \\n...</td>\n      <td>417280000.0</td>\n      <td>417,280,000.00</td>\n      <td>8097.981540</td>\n      <td>UOL Venture Investments Pte. Ltd. | Singland H...</td>\n    </tr>\n  </tbody>\n</table>\n<p>5 rows × 45 columns</p>\n</div>"
     },
     "execution_count": 6,
     "metadata": {},
     "output_type": "execute_result"
    }
   ],
   "source": [
    "gls = gls.dropna(subset=['tenderer_name'], axis=0)\n",
    "# gls_top3 = pd.DataFrame(gls.tenderer_name.dropna())\n",
    "gls[\"separated_names\"] = gls.tenderer_name.apply(nameFormat)\n",
    "gls.head()"
   ],
   "metadata": {
    "collapsed": false
   }
  },
  {
   "cell_type": "code",
   "execution_count": 7,
   "outputs": [],
   "source": [
    "gls['tenderer_rank'] = gls.tenderer_rank.apply(lambda x: int(re.findall('\\d+', x)[0]))\n"
   ],
   "metadata": {
    "collapsed": false
   }
  },
  {
   "cell_type": "code",
   "execution_count": 8,
   "outputs": [
    {
     "name": "stderr",
     "output_type": "stream",
     "text": [
      "C:\\Users\\13051\\AppData\\Local\\Temp\\ipykernel_14544\\1785366403.py:2: SettingWithCopyWarning: \n",
      "A value is trying to be set on a copy of a slice from a DataFrame.\n",
      "Try using .loc[row_indexer,col_indexer] = value instead\n",
      "\n",
      "See the caveats in the documentation: https://pandas.pydata.org/pandas-docs/stable/user_guide/indexing.html#returning-a-view-versus-a-copy\n",
      "  gls_top3[\"list_of_tenderers\"] = gls_top3.separated_names.apply(lambda x: x.split(' | '))\n",
      "C:\\Users\\13051\\AppData\\Local\\Temp\\ipykernel_14544\\1785366403.py:3: SettingWithCopyWarning: \n",
      "A value is trying to be set on a copy of a slice from a DataFrame.\n",
      "Try using .loc[row_indexer,col_indexer] = value instead\n",
      "\n",
      "See the caveats in the documentation: https://pandas.pydata.org/pandas-docs/stable/user_guide/indexing.html#returning-a-view-versus-a-copy\n",
      "  gls_top3[\"num_tenderers_same_rank\"] = gls_top3.list_of_tenderers.apply(lambda x: len(x))\n"
     ]
    },
    {
     "data": {
      "text/plain": "                                              sg_gls_id date_launch  \\\n0     8c101477584713a9310e02940aac6b059e37833ab6848d...   29/4/2015   \n1     8c101477584713a9310e02940aac6b059e37833ab6848d...   29/4/2015   \n2     8c101477584713a9310e02940aac6b059e37833ab6848d...   29/4/2015   \n9     f2e43515a8e783bc2314727cb58587c8ee761ab7a4a016...   29/4/2015   \n10    f2e43515a8e783bc2314727cb58587c8ee761ab7a4a016...   29/4/2015   \n...                                                 ...         ...   \n2345  99b11f1948b4fc3e79bba927f654f433a5a55d2dff7c1e...   28/7/1995   \n2346  99b11f1948b4fc3e79bba927f654f433a5a55d2dff7c1e...   28/7/1995   \n2351  7f55fed1fc42dd52d24742b2c93ed9b9d36bc65deeedbb...   25/2/1994   \n2352  7f55fed1fc42dd52d24742b2c93ed9b9d36bc65deeedbb...   25/2/1994   \n2353  7f55fed1fc42dd52d24742b2c93ed9b9d36bc65deeedbb...   25/2/1994   \n\n     date_close  date_award     land_parcel  \\\n0     23/6/2015   30/6/2015  Queenstown S9b   \n1     23/6/2015   30/6/2015  Queenstown S9b   \n2     23/6/2015   30/6/2015  Queenstown S9b   \n9     18/6/2015   23/6/2015    Toa Payoh S4   \n10    18/6/2015   23/6/2015    Toa Payoh S4   \n...         ...         ...             ...   \n2345  28/9/1995  30/11/1995    Hougang N9NC   \n2346  28/9/1995  30/11/1995    Hougang N9NC   \n2351  28/4/1994   19/8/1994    Hougang N5NC   \n2352  28/4/1994   19/8/1994    Hougang N5NC   \n2353  28/4/1994   19/8/1994    Hougang N5NC   \n\n                                     street        zone             region  \\\n0                               Dundee Road  queenstown     central region   \n1                               Dundee Road  queenstown     central region   \n2                               Dundee Road  queenstown     central region   \n9     Lorong 6 Toa Payoh/Lorong 4 Toa Payoh   toa payoh     central region   \n10    Lorong 6 Toa Payoh/Lorong 4 Toa Payoh   toa payoh     central region   \n...                                     ...         ...                ...   \n2345                       Hougang Avenue 9     hougang  north-east region   \n2346                       Hougang Avenue 9     hougang  north-east region   \n2351           Hougang St 51/Buangkok Green     hougang  north-east region   \n2352           Hougang St 51/Buangkok Green     hougang  north-east region   \n2353           Hougang St 51/Buangkok Green     hougang  north-east region   \n\n           join_by error_check  ...  month_award day_award tenderer_rank  \\\n0     project name           0  ...            6        30             1   \n1     project name           0  ...            6        30             2   \n2     project name           0  ...            6        30             3   \n9     project name           0  ...            6        23             1   \n10    project name           0  ...            6        23             2   \n...            ...         ...  ...          ...       ...           ...   \n2345   street name           0  ...           11        30             2   \n2346   street name           0  ...           11        30             3   \n2351  project name           0  ...            8        19             1   \n2352  project name           0  ...            8        19             2   \n2353  project name           0  ...            8        19             3   \n\n                                          tenderer_name  tender_price  \\\n0                                     HY Realty Pte Ltd   483178000.0   \n1                           Allgreen Properties Limited   445910000.0   \n2     Intrepid Investments Pte Ltd, Verwood \\nHoldin...   432774525.0   \n9     Evia Real Estate (7) Pte Ltd, Maxdin Pte Ltd \\...   345860000.0   \n10                                Sing Holdings Limited   342100000.0   \n...                                                 ...           ...   \n2345                              Ruby Holdings Pte Ltd    61135000.0   \n2346  Gutherie GTS Ltd, Tang Eng Pte Ltd, Bellora \\n...    55000000.0   \n2351                          Hiap Hoe Holdings Pte ltd    38800000.0   \n2352               Far East Organization Centre Pte Ltd    34390000.0   \n2353  United Industrial Corporation \\nLtd/Shenton Ho...    26888000.0   \n\n      tender_price_text  price_psm_gfa  \\\n0        483,178,000.00    9376.836955   \n1        445,910,000.00    8653.592189   \n2        432,774,525.00    8398.677422   \n9        345,860,000.00    8130.020145   \n10       342,100,000.00    8041.635031   \n...                 ...            ...   \n2345      61,135,000.00    3286.827957   \n2346      55,000,000.00    2956.989247   \n2351      38,800,000.00    1949.748744   \n2352      34,390,000.00    1728.140704   \n2353      26,888,000.00    1351.155779   \n\n                                        separated_names  \\\n0                                   HY Realty Pte. Ltd.   \n1                              Allgreen Properties Ltd.   \n2     Intrepid Investments Pte. Ltd. | Verwood Holdi...   \n9     Evia Real Estate (7) Pte. Ltd. | Maxdin Pte. L...   \n10                                   Sing Holdings Ltd.   \n...                                                 ...   \n2345                            Ruby Holdings Pte. Ltd.   \n2346  Gutherie GTS Ltd. | Tang Eng Pte. Ltd. | Bello...   \n2351                        Hiap Hoe Holdings Pte. Ltd.   \n2352             Far East Organization Centre Pte. Ltd.   \n2353  United Industrial Corp. Ltd. | Shenton Holding...   \n\n                                      list_of_tenderers  \\\n0                                 [HY Realty Pte. Ltd.]   \n1                            [Allgreen Properties Ltd.]   \n2     [Intrepid Investments Pte. Ltd., Verwood Holdi...   \n9     [Evia Real Estate (7) Pte. Ltd., Maxdin Pte. L...   \n10                                 [Sing Holdings Ltd.]   \n...                                                 ...   \n2345                          [Ruby Holdings Pte. Ltd.]   \n2346  [Gutherie GTS Ltd., Tang Eng Pte. Ltd., Bellor...   \n2351                      [Hiap Hoe Holdings Pte. Ltd.]   \n2352           [Far East Organization Centre Pte. Ltd.]   \n2353  [United Industrial Corp. Ltd., Shenton Holding...   \n\n      num_tenderers_same_rank  \n0                           1  \n1                           1  \n2                           3  \n9                           3  \n10                          1  \n...                       ...  \n2345                        1  \n2346                        7  \n2351                        1  \n2352                        1  \n2353                        2  \n\n[985 rows x 47 columns]",
      "text/html": "<div>\n<style scoped>\n    .dataframe tbody tr th:only-of-type {\n        vertical-align: middle;\n    }\n\n    .dataframe tbody tr th {\n        vertical-align: top;\n    }\n\n    .dataframe thead th {\n        text-align: right;\n    }\n</style>\n<table border=\"1\" class=\"dataframe\">\n  <thead>\n    <tr style=\"text-align: right;\">\n      <th></th>\n      <th>sg_gls_id</th>\n      <th>date_launch</th>\n      <th>date_close</th>\n      <th>date_award</th>\n      <th>land_parcel</th>\n      <th>street</th>\n      <th>zone</th>\n      <th>region</th>\n      <th>join_by</th>\n      <th>error_check</th>\n      <th>...</th>\n      <th>month_award</th>\n      <th>day_award</th>\n      <th>tenderer_rank</th>\n      <th>tenderer_name</th>\n      <th>tender_price</th>\n      <th>tender_price_text</th>\n      <th>price_psm_gfa</th>\n      <th>separated_names</th>\n      <th>list_of_tenderers</th>\n      <th>num_tenderers_same_rank</th>\n    </tr>\n  </thead>\n  <tbody>\n    <tr>\n      <th>0</th>\n      <td>8c101477584713a9310e02940aac6b059e37833ab6848d...</td>\n      <td>29/4/2015</td>\n      <td>23/6/2015</td>\n      <td>30/6/2015</td>\n      <td>Queenstown S9b</td>\n      <td>Dundee Road</td>\n      <td>queenstown</td>\n      <td>central region</td>\n      <td>project name</td>\n      <td>0</td>\n      <td>...</td>\n      <td>6</td>\n      <td>30</td>\n      <td>1</td>\n      <td>HY Realty Pte Ltd</td>\n      <td>483178000.0</td>\n      <td>483,178,000.00</td>\n      <td>9376.836955</td>\n      <td>HY Realty Pte. Ltd.</td>\n      <td>[HY Realty Pte. Ltd.]</td>\n      <td>1</td>\n    </tr>\n    <tr>\n      <th>1</th>\n      <td>8c101477584713a9310e02940aac6b059e37833ab6848d...</td>\n      <td>29/4/2015</td>\n      <td>23/6/2015</td>\n      <td>30/6/2015</td>\n      <td>Queenstown S9b</td>\n      <td>Dundee Road</td>\n      <td>queenstown</td>\n      <td>central region</td>\n      <td>project name</td>\n      <td>0</td>\n      <td>...</td>\n      <td>6</td>\n      <td>30</td>\n      <td>2</td>\n      <td>Allgreen Properties Limited</td>\n      <td>445910000.0</td>\n      <td>445,910,000.00</td>\n      <td>8653.592189</td>\n      <td>Allgreen Properties Ltd.</td>\n      <td>[Allgreen Properties Ltd.]</td>\n      <td>1</td>\n    </tr>\n    <tr>\n      <th>2</th>\n      <td>8c101477584713a9310e02940aac6b059e37833ab6848d...</td>\n      <td>29/4/2015</td>\n      <td>23/6/2015</td>\n      <td>30/6/2015</td>\n      <td>Queenstown S9b</td>\n      <td>Dundee Road</td>\n      <td>queenstown</td>\n      <td>central region</td>\n      <td>project name</td>\n      <td>0</td>\n      <td>...</td>\n      <td>6</td>\n      <td>30</td>\n      <td>3</td>\n      <td>Intrepid Investments Pte Ltd, Verwood \\nHoldin...</td>\n      <td>432774525.0</td>\n      <td>432,774,525.00</td>\n      <td>8398.677422</td>\n      <td>Intrepid Investments Pte. Ltd. | Verwood Holdi...</td>\n      <td>[Intrepid Investments Pte. Ltd., Verwood Holdi...</td>\n      <td>3</td>\n    </tr>\n    <tr>\n      <th>9</th>\n      <td>f2e43515a8e783bc2314727cb58587c8ee761ab7a4a016...</td>\n      <td>29/4/2015</td>\n      <td>18/6/2015</td>\n      <td>23/6/2015</td>\n      <td>Toa Payoh S4</td>\n      <td>Lorong 6 Toa Payoh/Lorong 4 Toa Payoh</td>\n      <td>toa payoh</td>\n      <td>central region</td>\n      <td>project name</td>\n      <td>0</td>\n      <td>...</td>\n      <td>6</td>\n      <td>23</td>\n      <td>1</td>\n      <td>Evia Real Estate (7) Pte Ltd, Maxdin Pte Ltd \\...</td>\n      <td>345860000.0</td>\n      <td>345,860,000.00</td>\n      <td>8130.020145</td>\n      <td>Evia Real Estate (7) Pte. Ltd. | Maxdin Pte. L...</td>\n      <td>[Evia Real Estate (7) Pte. Ltd., Maxdin Pte. L...</td>\n      <td>3</td>\n    </tr>\n    <tr>\n      <th>10</th>\n      <td>f2e43515a8e783bc2314727cb58587c8ee761ab7a4a016...</td>\n      <td>29/4/2015</td>\n      <td>18/6/2015</td>\n      <td>23/6/2015</td>\n      <td>Toa Payoh S4</td>\n      <td>Lorong 6 Toa Payoh/Lorong 4 Toa Payoh</td>\n      <td>toa payoh</td>\n      <td>central region</td>\n      <td>project name</td>\n      <td>0</td>\n      <td>...</td>\n      <td>6</td>\n      <td>23</td>\n      <td>2</td>\n      <td>Sing Holdings Limited</td>\n      <td>342100000.0</td>\n      <td>342,100,000.00</td>\n      <td>8041.635031</td>\n      <td>Sing Holdings Ltd.</td>\n      <td>[Sing Holdings Ltd.]</td>\n      <td>1</td>\n    </tr>\n    <tr>\n      <th>...</th>\n      <td>...</td>\n      <td>...</td>\n      <td>...</td>\n      <td>...</td>\n      <td>...</td>\n      <td>...</td>\n      <td>...</td>\n      <td>...</td>\n      <td>...</td>\n      <td>...</td>\n      <td>...</td>\n      <td>...</td>\n      <td>...</td>\n      <td>...</td>\n      <td>...</td>\n      <td>...</td>\n      <td>...</td>\n      <td>...</td>\n      <td>...</td>\n      <td>...</td>\n      <td>...</td>\n    </tr>\n    <tr>\n      <th>2345</th>\n      <td>99b11f1948b4fc3e79bba927f654f433a5a55d2dff7c1e...</td>\n      <td>28/7/1995</td>\n      <td>28/9/1995</td>\n      <td>30/11/1995</td>\n      <td>Hougang N9NC</td>\n      <td>Hougang Avenue 9</td>\n      <td>hougang</td>\n      <td>north-east region</td>\n      <td>street name</td>\n      <td>0</td>\n      <td>...</td>\n      <td>11</td>\n      <td>30</td>\n      <td>2</td>\n      <td>Ruby Holdings Pte Ltd</td>\n      <td>61135000.0</td>\n      <td>61,135,000.00</td>\n      <td>3286.827957</td>\n      <td>Ruby Holdings Pte. Ltd.</td>\n      <td>[Ruby Holdings Pte. Ltd.]</td>\n      <td>1</td>\n    </tr>\n    <tr>\n      <th>2346</th>\n      <td>99b11f1948b4fc3e79bba927f654f433a5a55d2dff7c1e...</td>\n      <td>28/7/1995</td>\n      <td>28/9/1995</td>\n      <td>30/11/1995</td>\n      <td>Hougang N9NC</td>\n      <td>Hougang Avenue 9</td>\n      <td>hougang</td>\n      <td>north-east region</td>\n      <td>street name</td>\n      <td>0</td>\n      <td>...</td>\n      <td>11</td>\n      <td>30</td>\n      <td>3</td>\n      <td>Gutherie GTS Ltd, Tang Eng Pte Ltd, Bellora \\n...</td>\n      <td>55000000.0</td>\n      <td>55,000,000.00</td>\n      <td>2956.989247</td>\n      <td>Gutherie GTS Ltd. | Tang Eng Pte. Ltd. | Bello...</td>\n      <td>[Gutherie GTS Ltd., Tang Eng Pte. Ltd., Bellor...</td>\n      <td>7</td>\n    </tr>\n    <tr>\n      <th>2351</th>\n      <td>7f55fed1fc42dd52d24742b2c93ed9b9d36bc65deeedbb...</td>\n      <td>25/2/1994</td>\n      <td>28/4/1994</td>\n      <td>19/8/1994</td>\n      <td>Hougang N5NC</td>\n      <td>Hougang St 51/Buangkok Green</td>\n      <td>hougang</td>\n      <td>north-east region</td>\n      <td>project name</td>\n      <td>0</td>\n      <td>...</td>\n      <td>8</td>\n      <td>19</td>\n      <td>1</td>\n      <td>Hiap Hoe Holdings Pte ltd</td>\n      <td>38800000.0</td>\n      <td>38,800,000.00</td>\n      <td>1949.748744</td>\n      <td>Hiap Hoe Holdings Pte. Ltd.</td>\n      <td>[Hiap Hoe Holdings Pte. Ltd.]</td>\n      <td>1</td>\n    </tr>\n    <tr>\n      <th>2352</th>\n      <td>7f55fed1fc42dd52d24742b2c93ed9b9d36bc65deeedbb...</td>\n      <td>25/2/1994</td>\n      <td>28/4/1994</td>\n      <td>19/8/1994</td>\n      <td>Hougang N5NC</td>\n      <td>Hougang St 51/Buangkok Green</td>\n      <td>hougang</td>\n      <td>north-east region</td>\n      <td>project name</td>\n      <td>0</td>\n      <td>...</td>\n      <td>8</td>\n      <td>19</td>\n      <td>2</td>\n      <td>Far East Organization Centre Pte Ltd</td>\n      <td>34390000.0</td>\n      <td>34,390,000.00</td>\n      <td>1728.140704</td>\n      <td>Far East Organization Centre Pte. Ltd.</td>\n      <td>[Far East Organization Centre Pte. Ltd.]</td>\n      <td>1</td>\n    </tr>\n    <tr>\n      <th>2353</th>\n      <td>7f55fed1fc42dd52d24742b2c93ed9b9d36bc65deeedbb...</td>\n      <td>25/2/1994</td>\n      <td>28/4/1994</td>\n      <td>19/8/1994</td>\n      <td>Hougang N5NC</td>\n      <td>Hougang St 51/Buangkok Green</td>\n      <td>hougang</td>\n      <td>north-east region</td>\n      <td>project name</td>\n      <td>0</td>\n      <td>...</td>\n      <td>8</td>\n      <td>19</td>\n      <td>3</td>\n      <td>United Industrial Corporation \\nLtd/Shenton Ho...</td>\n      <td>26888000.0</td>\n      <td>26,888,000.00</td>\n      <td>1351.155779</td>\n      <td>United Industrial Corp. Ltd. | Shenton Holding...</td>\n      <td>[United Industrial Corp. Ltd., Shenton Holding...</td>\n      <td>2</td>\n    </tr>\n  </tbody>\n</table>\n<p>985 rows × 47 columns</p>\n</div>"
     },
     "execution_count": 8,
     "metadata": {},
     "output_type": "execute_result"
    }
   ],
   "source": [
    "gls_top3 = gls[gls.tenderer_rank<=3]\n",
    "gls_top3[\"list_of_tenderers\"] = gls_top3.separated_names.apply(lambda x: x.split(' | '))\n",
    "gls_top3[\"num_tenderers_same_rank\"] = gls_top3.list_of_tenderers.apply(lambda x: len(x))\n",
    "gls_top3"
   ],
   "metadata": {
    "collapsed": false
   }
  },
  {
   "cell_type": "code",
   "execution_count": 9,
   "outputs": [
    {
     "data": {
      "text/plain": "count    985.000000\nmean       1.467005\nstd        0.696374\nmin        1.000000\n25%        1.000000\n50%        1.000000\n75%        2.000000\nmax        7.000000\nName: num_tenderers_same_rank, dtype: float64"
     },
     "execution_count": 9,
     "metadata": {},
     "output_type": "execute_result"
    }
   ],
   "source": [
    "gls_top3.num_tenderers_same_rank.describe()"
   ],
   "metadata": {
    "collapsed": false
   }
  },
  {
   "cell_type": "code",
   "execution_count": 10,
   "metadata": {},
   "outputs": [
    {
     "name": "stderr",
     "output_type": "stream",
     "text": [
      "C:\\Users\\13051\\AppData\\Local\\Temp\\ipykernel_14544\\582632959.py:4: SettingWithCopyWarning: \n",
      "A value is trying to be set on a copy of a slice from a DataFrame.\n",
      "Try using .loc[row_indexer,col_indexer] = value instead\n",
      "\n",
      "See the caveats in the documentation: https://pandas.pydata.org/pandas-docs/stable/user_guide/indexing.html#returning-a-view-versus-a-copy\n",
      "  gls_top3['tenderer_names_filled'] = gls_top3.list_of_tenderers.apply(lambda x: x + [np.nan] * (max_num_td - len(x)))\n",
      "C:\\Users\\13051\\AppData\\Local\\Temp\\ipykernel_14544\\582632959.py:6: SettingWithCopyWarning: \n",
      "A value is trying to be set on a copy of a slice from a DataFrame.\n",
      "Try using .loc[row_indexer,col_indexer] = value instead\n",
      "\n",
      "See the caveats in the documentation: https://pandas.pydata.org/pandas-docs/stable/user_guide/indexing.html#returning-a-view-versus-a-copy\n",
      "  gls_top3[f\"tenderer_{col + 1}\"] = gls_top3.tenderer_names_filled.apply(lambda x: x[col])\n"
     ]
    },
    {
     "data": {
      "text/plain": "                                            sg_gls_id date_launch date_close  \\\n0   8c101477584713a9310e02940aac6b059e37833ab6848d...   29/4/2015  23/6/2015   \n1   8c101477584713a9310e02940aac6b059e37833ab6848d...   29/4/2015  23/6/2015   \n2   8c101477584713a9310e02940aac6b059e37833ab6848d...   29/4/2015  23/6/2015   \n9   f2e43515a8e783bc2314727cb58587c8ee761ab7a4a016...   29/4/2015  18/6/2015   \n10  f2e43515a8e783bc2314727cb58587c8ee761ab7a4a016...   29/4/2015  18/6/2015   \n\n   date_award     land_parcel                                 street  \\\n0   30/6/2015  Queenstown S9b                            Dundee Road   \n1   30/6/2015  Queenstown S9b                            Dundee Road   \n2   30/6/2015  Queenstown S9b                            Dundee Road   \n9   23/6/2015    Toa Payoh S4  Lorong 6 Toa Payoh/Lorong 4 Toa Payoh   \n10  23/6/2015    Toa Payoh S4  Lorong 6 Toa Payoh/Lorong 4 Toa Payoh   \n\n          zone          region       join_by error_check  ...  \\\n0   queenstown  central region  project name           0  ...   \n1   queenstown  central region  project name           0  ...   \n2   queenstown  central region  project name           0  ...   \n9    toa payoh  central region  project name           0  ...   \n10   toa payoh  central region  project name           0  ...   \n\n                                    list_of_tenderers num_tenderers_same_rank  \\\n0                               [HY Realty Pte. Ltd.]                       1   \n1                          [Allgreen Properties Ltd.]                       1   \n2   [Intrepid Investments Pte. Ltd., Verwood Holdi...                       3   \n9   [Evia Real Estate (7) Pte. Ltd., Maxdin Pte. L...                       3   \n10                               [Sing Holdings Ltd.]                       1   \n\n                                tenderer_names_filled  \\\n0   [HY Realty Pte. Ltd., nan, nan, nan, nan, nan,...   \n1   [Allgreen Properties Ltd., nan, nan, nan, nan,...   \n2   [Intrepid Investments Pte. Ltd., Verwood Holdi...   \n9   [Evia Real Estate (7) Pte. Ltd., Maxdin Pte. L...   \n10  [Sing Holdings Ltd., nan, nan, nan, nan, nan, ...   \n\n                        tenderer_1                  tenderer_2  \\\n0              HY Realty Pte. Ltd.                         NaN   \n1         Allgreen Properties Ltd.                         NaN   \n2   Intrepid Investments Pte. Ltd.  Verwood Holdings Pte. Ltd.   \n9   Evia Real Estate (7) Pte. Ltd.            Maxdin Pte. Ltd.   \n10              Sing Holdings Ltd.                         NaN   \n\n               tenderer_3  tenderer_4 tenderer_5  tenderer_6  tenderer_7  \n0                     NaN         NaN        NaN         NaN         NaN  \n1                     NaN         NaN        NaN         NaN         NaN  \n2   Hong Realty Pte. Ltd.         NaN        NaN         NaN         NaN  \n9           Gamuda Berhad         NaN        NaN         NaN         NaN  \n10                    NaN         NaN        NaN         NaN         NaN  \n\n[5 rows x 55 columns]",
      "text/html": "<div>\n<style scoped>\n    .dataframe tbody tr th:only-of-type {\n        vertical-align: middle;\n    }\n\n    .dataframe tbody tr th {\n        vertical-align: top;\n    }\n\n    .dataframe thead th {\n        text-align: right;\n    }\n</style>\n<table border=\"1\" class=\"dataframe\">\n  <thead>\n    <tr style=\"text-align: right;\">\n      <th></th>\n      <th>sg_gls_id</th>\n      <th>date_launch</th>\n      <th>date_close</th>\n      <th>date_award</th>\n      <th>land_parcel</th>\n      <th>street</th>\n      <th>zone</th>\n      <th>region</th>\n      <th>join_by</th>\n      <th>error_check</th>\n      <th>...</th>\n      <th>list_of_tenderers</th>\n      <th>num_tenderers_same_rank</th>\n      <th>tenderer_names_filled</th>\n      <th>tenderer_1</th>\n      <th>tenderer_2</th>\n      <th>tenderer_3</th>\n      <th>tenderer_4</th>\n      <th>tenderer_5</th>\n      <th>tenderer_6</th>\n      <th>tenderer_7</th>\n    </tr>\n  </thead>\n  <tbody>\n    <tr>\n      <th>0</th>\n      <td>8c101477584713a9310e02940aac6b059e37833ab6848d...</td>\n      <td>29/4/2015</td>\n      <td>23/6/2015</td>\n      <td>30/6/2015</td>\n      <td>Queenstown S9b</td>\n      <td>Dundee Road</td>\n      <td>queenstown</td>\n      <td>central region</td>\n      <td>project name</td>\n      <td>0</td>\n      <td>...</td>\n      <td>[HY Realty Pte. Ltd.]</td>\n      <td>1</td>\n      <td>[HY Realty Pte. Ltd., nan, nan, nan, nan, nan,...</td>\n      <td>HY Realty Pte. Ltd.</td>\n      <td>NaN</td>\n      <td>NaN</td>\n      <td>NaN</td>\n      <td>NaN</td>\n      <td>NaN</td>\n      <td>NaN</td>\n    </tr>\n    <tr>\n      <th>1</th>\n      <td>8c101477584713a9310e02940aac6b059e37833ab6848d...</td>\n      <td>29/4/2015</td>\n      <td>23/6/2015</td>\n      <td>30/6/2015</td>\n      <td>Queenstown S9b</td>\n      <td>Dundee Road</td>\n      <td>queenstown</td>\n      <td>central region</td>\n      <td>project name</td>\n      <td>0</td>\n      <td>...</td>\n      <td>[Allgreen Properties Ltd.]</td>\n      <td>1</td>\n      <td>[Allgreen Properties Ltd., nan, nan, nan, nan,...</td>\n      <td>Allgreen Properties Ltd.</td>\n      <td>NaN</td>\n      <td>NaN</td>\n      <td>NaN</td>\n      <td>NaN</td>\n      <td>NaN</td>\n      <td>NaN</td>\n    </tr>\n    <tr>\n      <th>2</th>\n      <td>8c101477584713a9310e02940aac6b059e37833ab6848d...</td>\n      <td>29/4/2015</td>\n      <td>23/6/2015</td>\n      <td>30/6/2015</td>\n      <td>Queenstown S9b</td>\n      <td>Dundee Road</td>\n      <td>queenstown</td>\n      <td>central region</td>\n      <td>project name</td>\n      <td>0</td>\n      <td>...</td>\n      <td>[Intrepid Investments Pte. Ltd., Verwood Holdi...</td>\n      <td>3</td>\n      <td>[Intrepid Investments Pte. Ltd., Verwood Holdi...</td>\n      <td>Intrepid Investments Pte. Ltd.</td>\n      <td>Verwood Holdings Pte. Ltd.</td>\n      <td>Hong Realty Pte. Ltd.</td>\n      <td>NaN</td>\n      <td>NaN</td>\n      <td>NaN</td>\n      <td>NaN</td>\n    </tr>\n    <tr>\n      <th>9</th>\n      <td>f2e43515a8e783bc2314727cb58587c8ee761ab7a4a016...</td>\n      <td>29/4/2015</td>\n      <td>18/6/2015</td>\n      <td>23/6/2015</td>\n      <td>Toa Payoh S4</td>\n      <td>Lorong 6 Toa Payoh/Lorong 4 Toa Payoh</td>\n      <td>toa payoh</td>\n      <td>central region</td>\n      <td>project name</td>\n      <td>0</td>\n      <td>...</td>\n      <td>[Evia Real Estate (7) Pte. Ltd., Maxdin Pte. L...</td>\n      <td>3</td>\n      <td>[Evia Real Estate (7) Pte. Ltd., Maxdin Pte. L...</td>\n      <td>Evia Real Estate (7) Pte. Ltd.</td>\n      <td>Maxdin Pte. Ltd.</td>\n      <td>Gamuda Berhad</td>\n      <td>NaN</td>\n      <td>NaN</td>\n      <td>NaN</td>\n      <td>NaN</td>\n    </tr>\n    <tr>\n      <th>10</th>\n      <td>f2e43515a8e783bc2314727cb58587c8ee761ab7a4a016...</td>\n      <td>29/4/2015</td>\n      <td>18/6/2015</td>\n      <td>23/6/2015</td>\n      <td>Toa Payoh S4</td>\n      <td>Lorong 6 Toa Payoh/Lorong 4 Toa Payoh</td>\n      <td>toa payoh</td>\n      <td>central region</td>\n      <td>project name</td>\n      <td>0</td>\n      <td>...</td>\n      <td>[Sing Holdings Ltd.]</td>\n      <td>1</td>\n      <td>[Sing Holdings Ltd., nan, nan, nan, nan, nan, ...</td>\n      <td>Sing Holdings Ltd.</td>\n      <td>NaN</td>\n      <td>NaN</td>\n      <td>NaN</td>\n      <td>NaN</td>\n      <td>NaN</td>\n      <td>NaN</td>\n    </tr>\n  </tbody>\n</table>\n<p>5 rows × 55 columns</p>\n</div>"
     },
     "execution_count": 10,
     "metadata": {},
     "output_type": "execute_result"
    }
   ],
   "source": [
    "# gls_top3['stripped_names'] = td_names.list_of_tenderers.apply(stripName)\n",
    "# create additional cols for multiple tenderers\n",
    "max_num_td = gls_top3.num_tenderers_same_rank.max()\n",
    "gls_top3['tenderer_names_filled'] = gls_top3.list_of_tenderers.apply(lambda x: x + [np.nan] * (max_num_td - len(x)))\n",
    "for col in range(max_num_td):\n",
    "    gls_top3[f\"tenderer_{col + 1}\"] = gls_top3.tenderer_names_filled.apply(lambda x: x[col])\n",
    "gls_top3.head()"
   ]
  },
  {
   "cell_type": "code",
   "execution_count": 11,
   "metadata": {},
   "outputs": [
    {
     "data": {
      "text/plain": "                                   tenderer_name  \\\n0                 Acresvale Investment Pte. Ltd.   \n1                    Act - Nobel Homes Pte. Ltd.   \n2                              Actbilt Pte. Ltd.   \n3    Allamanda Residential Development Pte. Ltd.   \n4                       Allgreen Properties Ltd.   \n..                                           ...   \n350      Yanlord Singapore Residential Pte. Ltd.   \n351                           Yeo Hiap Seng Ltd.   \n352                   ZACD Investments Pte. Ltd.   \n353                Zenlead Investments Pte. Ltd.   \n354               Zenmost Developments Pte. Ltd.   \n\n                        unified_name  \n0                        Keppel Land  \n1                  Act 1 Engineering  \n2                  Actbilt Pte. Ltd.  \n3                         CapitaLand  \n4                Allgreen Properties  \n..                               ...  \n350       Yanlord Land Group Limited  \n351               Yeo Hiap Seng Ltd.  \n352                 ZACD Investments  \n353  City Developments Limited (CDL)  \n354  City Developments Limited (CDL)  \n\n[355 rows x 2 columns]",
      "text/html": "<div>\n<style scoped>\n    .dataframe tbody tr th:only-of-type {\n        vertical-align: middle;\n    }\n\n    .dataframe tbody tr th {\n        vertical-align: top;\n    }\n\n    .dataframe thead th {\n        text-align: right;\n    }\n</style>\n<table border=\"1\" class=\"dataframe\">\n  <thead>\n    <tr style=\"text-align: right;\">\n      <th></th>\n      <th>tenderer_name</th>\n      <th>unified_name</th>\n    </tr>\n  </thead>\n  <tbody>\n    <tr>\n      <th>0</th>\n      <td>Acresvale Investment Pte. Ltd.</td>\n      <td>Keppel Land</td>\n    </tr>\n    <tr>\n      <th>1</th>\n      <td>Act - Nobel Homes Pte. Ltd.</td>\n      <td>Act 1 Engineering</td>\n    </tr>\n    <tr>\n      <th>2</th>\n      <td>Actbilt Pte. Ltd.</td>\n      <td>Actbilt Pte. Ltd.</td>\n    </tr>\n    <tr>\n      <th>3</th>\n      <td>Allamanda Residential Development Pte. Ltd.</td>\n      <td>CapitaLand</td>\n    </tr>\n    <tr>\n      <th>4</th>\n      <td>Allgreen Properties Ltd.</td>\n      <td>Allgreen Properties</td>\n    </tr>\n    <tr>\n      <th>...</th>\n      <td>...</td>\n      <td>...</td>\n    </tr>\n    <tr>\n      <th>350</th>\n      <td>Yanlord Singapore Residential Pte. Ltd.</td>\n      <td>Yanlord Land Group Limited</td>\n    </tr>\n    <tr>\n      <th>351</th>\n      <td>Yeo Hiap Seng Ltd.</td>\n      <td>Yeo Hiap Seng Ltd.</td>\n    </tr>\n    <tr>\n      <th>352</th>\n      <td>ZACD Investments Pte. Ltd.</td>\n      <td>ZACD Investments</td>\n    </tr>\n    <tr>\n      <th>353</th>\n      <td>Zenlead Investments Pte. Ltd.</td>\n      <td>City Developments Limited (CDL)</td>\n    </tr>\n    <tr>\n      <th>354</th>\n      <td>Zenmost Developments Pte. Ltd.</td>\n      <td>City Developments Limited (CDL)</td>\n    </tr>\n  </tbody>\n</table>\n<p>355 rows × 2 columns</p>\n</div>"
     },
     "execution_count": 11,
     "metadata": {},
     "output_type": "execute_result"
    }
   ],
   "source": [
    "name_dict = pd.read_csv(r'G:\\REA\\Working files\\land-bidding\\land_sales_full_data\\tenderer_name_dict_1.csv')\n",
    "# na_idx = name_dict[name_dict.unified_name.isna()].index\n",
    "# name_dict.iloc[na_idx, 2] = name_dict.iloc[na_idx, 0]\n",
    "# name_dict = name_dict.iloc[:, [0,2]]\n",
    "name_dict"
   ]
  },
  {
   "cell_type": "code",
   "execution_count": 12,
   "metadata": {},
   "outputs": [
    {
     "data": {
      "text/plain": "         land_parcel                                    separated_names  \\\n0     Queenstown S9b                                HY Realty Pte. Ltd.   \n1     Queenstown S9b                           Allgreen Properties Ltd.   \n2     Queenstown S9b  Intrepid Investments Pte. Ltd. | Verwood Holdi...   \n3       Toa Payoh S4  Evia Real Estate (7) Pte. Ltd. | Maxdin Pte. L...   \n4       Toa Payoh S4                                 Sing Holdings Ltd.   \n...              ...                                                ...   \n3923     Sengkang P1  Pidemco Realty Pte. Ltd. | Germiston Pte. Ltd....   \n3936    Hougang N9NC  Gutherie GTS Ltd. | Tang Eng Pte. Ltd. | Bello...   \n4921    Hougang N9NC  Gutherie GTS Ltd. | Tang Eng Pte. Ltd. | Bello...   \n5906    Hougang N9NC  Gutherie GTS Ltd. | Tang Eng Pte. Ltd. | Bello...   \n6891    Hougang N9NC  Gutherie GTS Ltd. | Tang Eng Pte. Ltd. | Bello...   \n\n      tenderer_rank  num_tenderers_same_rank  tender_price  price_psm_gfa  \\\n0                 1                        1   483178000.0    9376.836955   \n1                 2                        1   445910000.0    8653.592189   \n2                 3                        3   432774525.0    8398.677422   \n3                 1                        3   345860000.0    8130.020145   \n4                 2                        1   342100000.0    8041.635031   \n...             ...                      ...           ...            ...   \n3923              2                        4   149999990.0    1319.462352   \n3936              3                        7    55000000.0    2956.989247   \n4921              3                        7    55000000.0    2956.989247   \n5906              3                        7    55000000.0    2956.989247   \n6891              3                        7    55000000.0    2956.989247   \n\n     tenderer_id                           tenderer_name  \n0     tenderer_1                     HY Realty Pte. Ltd.  \n1     tenderer_1                Allgreen Properties Ltd.  \n2     tenderer_1          Intrepid Investments Pte. Ltd.  \n3     tenderer_1              Evia Real Estate Pte. Ltd.  \n4     tenderer_1                      Sing Holdings Ltd.  \n...          ...                                     ...  \n3923  tenderer_4           I. P. Property Fund Asia Ltd.  \n3936  tenderer_4         First Systems Holding Pte. Ltd.  \n4921  tenderer_5              Columbia Trading Pte. Ltd.  \n5906  tenderer_6  Mr Pang Pok / Proposed J. Y. Pte. Ltd.  \n6891  tenderer_7                 Ang Hock Beng Pte. Ltd.  \n\n[1445 rows x 8 columns]",
      "text/html": "<div>\n<style scoped>\n    .dataframe tbody tr th:only-of-type {\n        vertical-align: middle;\n    }\n\n    .dataframe tbody tr th {\n        vertical-align: top;\n    }\n\n    .dataframe thead th {\n        text-align: right;\n    }\n</style>\n<table border=\"1\" class=\"dataframe\">\n  <thead>\n    <tr style=\"text-align: right;\">\n      <th></th>\n      <th>land_parcel</th>\n      <th>separated_names</th>\n      <th>tenderer_rank</th>\n      <th>num_tenderers_same_rank</th>\n      <th>tender_price</th>\n      <th>price_psm_gfa</th>\n      <th>tenderer_id</th>\n      <th>tenderer_name</th>\n    </tr>\n  </thead>\n  <tbody>\n    <tr>\n      <th>0</th>\n      <td>Queenstown S9b</td>\n      <td>HY Realty Pte. Ltd.</td>\n      <td>1</td>\n      <td>1</td>\n      <td>483178000.0</td>\n      <td>9376.836955</td>\n      <td>tenderer_1</td>\n      <td>HY Realty Pte. Ltd.</td>\n    </tr>\n    <tr>\n      <th>1</th>\n      <td>Queenstown S9b</td>\n      <td>Allgreen Properties Ltd.</td>\n      <td>2</td>\n      <td>1</td>\n      <td>445910000.0</td>\n      <td>8653.592189</td>\n      <td>tenderer_1</td>\n      <td>Allgreen Properties Ltd.</td>\n    </tr>\n    <tr>\n      <th>2</th>\n      <td>Queenstown S9b</td>\n      <td>Intrepid Investments Pte. Ltd. | Verwood Holdi...</td>\n      <td>3</td>\n      <td>3</td>\n      <td>432774525.0</td>\n      <td>8398.677422</td>\n      <td>tenderer_1</td>\n      <td>Intrepid Investments Pte. Ltd.</td>\n    </tr>\n    <tr>\n      <th>3</th>\n      <td>Toa Payoh S4</td>\n      <td>Evia Real Estate (7) Pte. Ltd. | Maxdin Pte. L...</td>\n      <td>1</td>\n      <td>3</td>\n      <td>345860000.0</td>\n      <td>8130.020145</td>\n      <td>tenderer_1</td>\n      <td>Evia Real Estate Pte. Ltd.</td>\n    </tr>\n    <tr>\n      <th>4</th>\n      <td>Toa Payoh S4</td>\n      <td>Sing Holdings Ltd.</td>\n      <td>2</td>\n      <td>1</td>\n      <td>342100000.0</td>\n      <td>8041.635031</td>\n      <td>tenderer_1</td>\n      <td>Sing Holdings Ltd.</td>\n    </tr>\n    <tr>\n      <th>...</th>\n      <td>...</td>\n      <td>...</td>\n      <td>...</td>\n      <td>...</td>\n      <td>...</td>\n      <td>...</td>\n      <td>...</td>\n      <td>...</td>\n    </tr>\n    <tr>\n      <th>3923</th>\n      <td>Sengkang P1</td>\n      <td>Pidemco Realty Pte. Ltd. | Germiston Pte. Ltd....</td>\n      <td>2</td>\n      <td>4</td>\n      <td>149999990.0</td>\n      <td>1319.462352</td>\n      <td>tenderer_4</td>\n      <td>I. P. Property Fund Asia Ltd.</td>\n    </tr>\n    <tr>\n      <th>3936</th>\n      <td>Hougang N9NC</td>\n      <td>Gutherie GTS Ltd. | Tang Eng Pte. Ltd. | Bello...</td>\n      <td>3</td>\n      <td>7</td>\n      <td>55000000.0</td>\n      <td>2956.989247</td>\n      <td>tenderer_4</td>\n      <td>First Systems Holding Pte. Ltd.</td>\n    </tr>\n    <tr>\n      <th>4921</th>\n      <td>Hougang N9NC</td>\n      <td>Gutherie GTS Ltd. | Tang Eng Pte. Ltd. | Bello...</td>\n      <td>3</td>\n      <td>7</td>\n      <td>55000000.0</td>\n      <td>2956.989247</td>\n      <td>tenderer_5</td>\n      <td>Columbia Trading Pte. Ltd.</td>\n    </tr>\n    <tr>\n      <th>5906</th>\n      <td>Hougang N9NC</td>\n      <td>Gutherie GTS Ltd. | Tang Eng Pte. Ltd. | Bello...</td>\n      <td>3</td>\n      <td>7</td>\n      <td>55000000.0</td>\n      <td>2956.989247</td>\n      <td>tenderer_6</td>\n      <td>Mr Pang Pok / Proposed J. Y. Pte. Ltd.</td>\n    </tr>\n    <tr>\n      <th>6891</th>\n      <td>Hougang N9NC</td>\n      <td>Gutherie GTS Ltd. | Tang Eng Pte. Ltd. | Bello...</td>\n      <td>3</td>\n      <td>7</td>\n      <td>55000000.0</td>\n      <td>2956.989247</td>\n      <td>tenderer_7</td>\n      <td>Ang Hock Beng Pte. Ltd.</td>\n    </tr>\n  </tbody>\n</table>\n<p>1445 rows × 8 columns</p>\n</div>"
     },
     "execution_count": 12,
     "metadata": {},
     "output_type": "execute_result"
    }
   ],
   "source": [
    "# unpivot table\n",
    "import re\n",
    "td_df = gls_top3[['land_parcel', 'separated_names', 'tenderer_rank', 'num_tenderers_same_rank', 'tender_price', 'price_psm_gfa', 'tenderer_1', 'tenderer_2', 'tenderer_3', 'tenderer_4', 'tenderer_5', 'tenderer_6', 'tenderer_7',]]\n",
    "td_df = td_df.melt(id_vars=['land_parcel', 'separated_names', 'tenderer_rank', 'num_tenderers_same_rank', 'tender_price', 'price_psm_gfa'], var_name='tenderer_id', value_name='tenderer_name').dropna(axis = 0, subset = ['tenderer_name'])\n",
    "td_df['tenderer_name'] = td_df.tenderer_name.apply(lambda x: re.sub('\\(.*?\\)', '', x)).apply(lambda x: re.sub(' +', ' ', x)).apply(lambda x: x.strip())\n",
    "td_df"
   ]
  },
  {
   "cell_type": "code",
   "execution_count": 13,
   "metadata": {},
   "outputs": [
    {
     "data": {
      "text/plain": "      land_parcel                                    separated_names  \\\n0  Queenstown S9b                                HY Realty Pte. Ltd.   \n1  Queenstown S9b                           Allgreen Properties Ltd.   \n2  Queenstown S9b  Intrepid Investments Pte. Ltd. | Verwood Holdi...   \n3    Toa Payoh S4  Evia Real Estate (7) Pte. Ltd. | Maxdin Pte. L...   \n4    Toa Payoh S4                                 Sing Holdings Ltd.   \n\n   tenderer_rank  num_tenderers_same_rank  tender_price  price_psm_gfa  \\\n0              1                        1   483178000.0    9376.836955   \n1              2                        1   445910000.0    8653.592189   \n2              3                        3   432774525.0    8398.677422   \n3              1                        3   345860000.0    8130.020145   \n4              2                        1   342100000.0    8041.635031   \n\n  tenderer_id                   tenderer_name                    unified_name  \n0  tenderer_1             HY Realty Pte. Ltd.             Hao Yuan Investment  \n1  tenderer_1        Allgreen Properties Ltd.             Allgreen Properties  \n2  tenderer_1  Intrepid Investments Pte. Ltd.  Hong Leong Investment Holdings  \n3  tenderer_1      Evia Real Estate Pte. Ltd.                Evia Real Estate  \n4  tenderer_1              Sing Holdings Ltd.           Sing Holdings Limited  ",
      "text/html": "<div>\n<style scoped>\n    .dataframe tbody tr th:only-of-type {\n        vertical-align: middle;\n    }\n\n    .dataframe tbody tr th {\n        vertical-align: top;\n    }\n\n    .dataframe thead th {\n        text-align: right;\n    }\n</style>\n<table border=\"1\" class=\"dataframe\">\n  <thead>\n    <tr style=\"text-align: right;\">\n      <th></th>\n      <th>land_parcel</th>\n      <th>separated_names</th>\n      <th>tenderer_rank</th>\n      <th>num_tenderers_same_rank</th>\n      <th>tender_price</th>\n      <th>price_psm_gfa</th>\n      <th>tenderer_id</th>\n      <th>tenderer_name</th>\n      <th>unified_name</th>\n    </tr>\n  </thead>\n  <tbody>\n    <tr>\n      <th>0</th>\n      <td>Queenstown S9b</td>\n      <td>HY Realty Pte. Ltd.</td>\n      <td>1</td>\n      <td>1</td>\n      <td>483178000.0</td>\n      <td>9376.836955</td>\n      <td>tenderer_1</td>\n      <td>HY Realty Pte. Ltd.</td>\n      <td>Hao Yuan Investment</td>\n    </tr>\n    <tr>\n      <th>1</th>\n      <td>Queenstown S9b</td>\n      <td>Allgreen Properties Ltd.</td>\n      <td>2</td>\n      <td>1</td>\n      <td>445910000.0</td>\n      <td>8653.592189</td>\n      <td>tenderer_1</td>\n      <td>Allgreen Properties Ltd.</td>\n      <td>Allgreen Properties</td>\n    </tr>\n    <tr>\n      <th>2</th>\n      <td>Queenstown S9b</td>\n      <td>Intrepid Investments Pte. Ltd. | Verwood Holdi...</td>\n      <td>3</td>\n      <td>3</td>\n      <td>432774525.0</td>\n      <td>8398.677422</td>\n      <td>tenderer_1</td>\n      <td>Intrepid Investments Pte. Ltd.</td>\n      <td>Hong Leong Investment Holdings</td>\n    </tr>\n    <tr>\n      <th>3</th>\n      <td>Toa Payoh S4</td>\n      <td>Evia Real Estate (7) Pte. Ltd. | Maxdin Pte. L...</td>\n      <td>1</td>\n      <td>3</td>\n      <td>345860000.0</td>\n      <td>8130.020145</td>\n      <td>tenderer_1</td>\n      <td>Evia Real Estate Pte. Ltd.</td>\n      <td>Evia Real Estate</td>\n    </tr>\n    <tr>\n      <th>4</th>\n      <td>Toa Payoh S4</td>\n      <td>Sing Holdings Ltd.</td>\n      <td>2</td>\n      <td>1</td>\n      <td>342100000.0</td>\n      <td>8041.635031</td>\n      <td>tenderer_1</td>\n      <td>Sing Holdings Ltd.</td>\n      <td>Sing Holdings Limited</td>\n    </tr>\n  </tbody>\n</table>\n</div>"
     },
     "execution_count": 13,
     "metadata": {},
     "output_type": "execute_result"
    }
   ],
   "source": [
    "gls_top3_uniname = pd.merge(td_df, name_dict, how='left', on='tenderer_name')\n",
    "gls_top3_uniname.head()"
   ]
  },
  {
   "cell_type": "code",
   "execution_count": 14,
   "metadata": {},
   "outputs": [
    {
     "data": {
      "text/plain": "unified_name\nAct 1 Engineering              1\nActbilt Pte. Ltd.              1\nAllgreen Properties           48\nAng Hock Beng Pte. Ltd.        1\nArama Holdings                 4\n                              ..\nWhye Wah Group                 4\nWing Tai Land                 18\nYanlord Land Group Limited     8\nYeo Hiap Seng Ltd.             4\nZACD Investments               1\nName: land_parcel, Length: 189, dtype: int64"
     },
     "execution_count": 14,
     "metadata": {},
     "output_type": "execute_result"
    }
   ],
   "source": [
    "count_td = gls_top3_uniname.groupby('unified_name').land_parcel.count()\n",
    "# count_td.sort_values(by='tenderer_id', ascending=False).head()\n",
    "count_td"
   ]
  },
  {
   "cell_type": "code",
   "execution_count": 15,
   "outputs": [
    {
     "name": "stderr",
     "output_type": "stream",
     "text": [
      "C:\\Users\\13051\\AppData\\Local\\Temp\\ipykernel_14544\\1774332961.py:1: FutureWarning: Indexing with multiple keys (implicitly converted to a tuple of keys) will be deprecated, use a list instead.\n",
      "  avg_td = gls_top3_uniname.groupby('unified_name')['tender_price', 'price_psm_gfa'].mean()\n"
     ]
    },
    {
     "data": {
      "text/plain": "                            tender_price price_psm_gfa\nunified_name                                          \nAct 1 Engineering            35121000.00           nan\nActbilt Pte. Ltd.            60280000.00       1595.15\nAllgreen Properties         134905833.33       2329.03\nAng Hock Beng Pte. Ltd.      55000000.00       2956.99\nArama Holdings              177669241.25       3305.92\n...                                  ...           ...\nWhye Wah Group               70900000.00       2026.56\nWing Tai Land               117592666.67       2315.41\nYanlord Land Group Limited  404498956.38       5543.09\nYeo Hiap Seng Ltd.           61313000.00       2758.43\nZACD Investments            169559000.00       3476.74\n\n[189 rows x 2 columns]",
      "text/html": "<div>\n<style scoped>\n    .dataframe tbody tr th:only-of-type {\n        vertical-align: middle;\n    }\n\n    .dataframe tbody tr th {\n        vertical-align: top;\n    }\n\n    .dataframe thead th {\n        text-align: right;\n    }\n</style>\n<table border=\"1\" class=\"dataframe\">\n  <thead>\n    <tr style=\"text-align: right;\">\n      <th></th>\n      <th>tender_price</th>\n      <th>price_psm_gfa</th>\n    </tr>\n    <tr>\n      <th>unified_name</th>\n      <th></th>\n      <th></th>\n    </tr>\n  </thead>\n  <tbody>\n    <tr>\n      <th>Act 1 Engineering</th>\n      <td>35121000.00</td>\n      <td>nan</td>\n    </tr>\n    <tr>\n      <th>Actbilt Pte. Ltd.</th>\n      <td>60280000.00</td>\n      <td>1595.15</td>\n    </tr>\n    <tr>\n      <th>Allgreen Properties</th>\n      <td>134905833.33</td>\n      <td>2329.03</td>\n    </tr>\n    <tr>\n      <th>Ang Hock Beng Pte. Ltd.</th>\n      <td>55000000.00</td>\n      <td>2956.99</td>\n    </tr>\n    <tr>\n      <th>Arama Holdings</th>\n      <td>177669241.25</td>\n      <td>3305.92</td>\n    </tr>\n    <tr>\n      <th>...</th>\n      <td>...</td>\n      <td>...</td>\n    </tr>\n    <tr>\n      <th>Whye Wah Group</th>\n      <td>70900000.00</td>\n      <td>2026.56</td>\n    </tr>\n    <tr>\n      <th>Wing Tai Land</th>\n      <td>117592666.67</td>\n      <td>2315.41</td>\n    </tr>\n    <tr>\n      <th>Yanlord Land Group Limited</th>\n      <td>404498956.38</td>\n      <td>5543.09</td>\n    </tr>\n    <tr>\n      <th>Yeo Hiap Seng Ltd.</th>\n      <td>61313000.00</td>\n      <td>2758.43</td>\n    </tr>\n    <tr>\n      <th>ZACD Investments</th>\n      <td>169559000.00</td>\n      <td>3476.74</td>\n    </tr>\n  </tbody>\n</table>\n<p>189 rows × 2 columns</p>\n</div>"
     },
     "execution_count": 15,
     "metadata": {},
     "output_type": "execute_result"
    }
   ],
   "source": [
    "avg_td = gls_top3_uniname.groupby('unified_name')['tender_price', 'price_psm_gfa'].mean()\n",
    "avg_td = avg_td.transform({'tender_price': lambda x: '%.2f' %x, 'price_psm_gfa': lambda x: '%.2f' %x})\n",
    "avg_td"
   ],
   "metadata": {
    "collapsed": false
   }
  },
  {
   "cell_type": "code",
   "execution_count": 16,
   "outputs": [],
   "source": [
    "td_count_price = pd.merge(count_td, avg_td, how='left', on='unified_name')"
   ],
   "metadata": {
    "collapsed": false
   }
  },
  {
   "cell_type": "code",
   "execution_count": 17,
   "outputs": [
    {
     "data": {
      "text/plain": "unified_name\nAllgreen Properties           7\nArama Holdings                3\nAsiawide Holdings             1\nAspial Corp.                  3\nBBR Property                  5\n                             ..\nWhye Wah Group                1\nWing Tai Land                 6\nYanlord Land Group Limited    1\nYeo Hiap Seng Ltd.            4\nZACD Investments              1\nName: num_of_top1, Length: 102, dtype: int64"
     },
     "execution_count": 17,
     "metadata": {},
     "output_type": "execute_result"
    }
   ],
   "source": [
    "rank1_only = gls_top3_uniname[gls_top3_uniname.tenderer_rank==1]\n",
    "rank1_count = rank1_only.groupby('unified_name').land_parcel.count().rename('num_of_top1')\n",
    "rank1_count"
   ],
   "metadata": {
    "collapsed": false
   }
  },
  {
   "cell_type": "code",
   "execution_count": 21,
   "outputs": [],
   "source": [
    "td_overall = pd.merge(td_count_price, rank1_count, how='left', on='unified_name')\n",
    "td_overall['top1%'] = td_overall.num_of_top1 / td_overall.land_parcel\n",
    "td_overall['top1%'] = td_overall['top1%'].transform(lambda x: '%.1f' %(x*100))\n",
    "td_overall.to_csv(\"tenderer_name_groupby.csv\")"
   ],
   "metadata": {
    "collapsed": false
   }
  },
  {
   "cell_type": "markdown",
   "source": [],
   "metadata": {
    "collapsed": false
   }
  },
  {
   "cell_type": "code",
   "execution_count": null,
   "metadata": {},
   "outputs": [],
   "source": [
    "# funcs to calculate matching score of two words: complete match, return 1\n",
    "def match_score(dictionary: str, lookup_value: str):\n",
    "    if lookup_value:\n",
    "        a = list(\"\".join(dictionary.split(\" \")))\n",
    "        b = list(\"\".join(lookup_value.split(\" \")))\n",
    "        score_a = 0\n",
    "        score_b = 0\n",
    "        penalty_a = 0\n",
    "        penalty_b = 0\n",
    "        total_len_a = len(a)\n",
    "        total_len_b = len(b)\n",
    "        if total_len_a * total_len_b > 0:\n",
    "            for char in a:\n",
    "                if char in b:\n",
    "                    score_a += 1\n",
    "                else:\n",
    "                    penalty_a += 1\n",
    "            for char in b:\n",
    "                if char in a:\n",
    "                    score_b += 1\n",
    "                else:\n",
    "                    penalty_b += 1\n",
    "            return (score_a / total_len_a) * (score_b / total_len_b) - (penalty_a / total_len_a) * (penalty_b / total_len_b)\n",
    "        else:\n",
    "            return np.nan\n",
    "\n",
    "    else:\n",
    "        return np.nan\n",
    "\n",
    "# funcs to calculate order score of two words: same order, return 0\n",
    "def order_score(dictionary: str, lookup_value: str):\n",
    "    char_list_dict = list(dictionary)\n",
    "    charset_dict = list(set(char_list_dict))\n",
    "    order_dict_a = dict()\n",
    "    for char in charset_dict:\n",
    "        order_dict_a[char] = char_list_dict.index(char)\n",
    "\n",
    "    char_list_value = list(lookup_value)\n",
    "    charset_value = list(set(char_list_value))\n",
    "    order_dict_b = dict()\n",
    "    for char in charset_value:\n",
    "        order_dict_b[char] = char_list_value.index(char)\n",
    "\n",
    "    # get the index of first char of dict in value dict\n",
    "    first_char = dictionary[0]\n",
    "\n",
    "    try:\n",
    "        first_char_idx = order_dict_b[first_char]\n",
    "        # print(first_char_idx)\n",
    "        # recalculate index for value dict\n",
    "        for char in order_dict_b.keys():\n",
    "            order_dict_b[char] -= first_char_idx\n",
    "\n",
    "    except KeyError:\n",
    "        pass\n",
    "\n",
    "    char_order_dict = [order_dict_a.get(key) for key in char_list_dict]\n",
    "    char_order_dict_in_value = [order_dict_b.get(key) for key in char_list_dict]\n",
    "\n",
    "    # calculate variation score\n",
    "    sum_ = 0\n",
    "    len_ = 0\n",
    "    for k in range(len(char_order_dict)):\n",
    "        if char_order_dict_in_value[k] is None:\n",
    "            sum_ += 1\n",
    "        else:\n",
    "            sum_ += (char_order_dict[k] - char_order_dict_in_value[k]) ** 2\n",
    "        len_ += 1\n",
    "\n",
    "    try:\n",
    "        variation = (sum_ / len_) ** 0.5\n",
    "    except ZeroDivisionError:\n",
    "        variation = np.nan\n",
    "\n",
    "    return variation\n",
    "\n",
    "def unpack_poly1d(poly1d):\n",
    "    return list(poly1d.coef)\n",
    "\n",
    "# decay func to calculate weight of words in different place: front words have higher weight\n",
    "def decayFunc(start_x, start_y, end_x, end_y):\n",
    "    from numpy import polyfit, poly1d\n",
    "    df = pd.DataFrame({'x': [start_x, end_x], 'y': [start_y, end_y]})\n",
    "    fit = polyfit(df.x, df.y, 3)\n",
    "    equation = poly1d(fit)\n",
    "\n",
    "    # import matplotlib.pyplot as plt\n",
    "\n",
    "    # xmesh = np.linspace(min(df['x']), max(df['x']), 100)\n",
    "    # plt.plot(df['x'], df['y'], 'bo', label='data')\n",
    "    # plt.plot(xmesh, equation(xmesh), '-b', label='fit')\n",
    "    # plt.legend(fontsize=20)\n",
    "    # plt.xlabel('x', fontsize=20)\n",
    "    # plt.ylabel('y', fontsize=20)\n",
    "    # plt.show()\n",
    "\n",
    "    return unpack_poly1d(equation)\n",
    "\n",
    "# func to generate weight list\n",
    "def weightList(coef: List[float], n_weight: List):\n",
    "    n_var = len(coef) - 1\n",
    "    w_list = []\n",
    "\n",
    "    for x in n_weight:\n",
    "        sum = 0\n",
    "        for i in range(len(coef)):\n",
    "            sum += coef[::-1][i] * x ** i\n",
    "        w_list.append(sum)\n",
    "\n",
    "    return w_list\n",
    "\n",
    "def get_max_min_len(nameA: str, nameB: str)-> int:\n",
    "    Alist = nameA.split(' ')\n",
    "    Blist = nameB.split(' ')\n",
    "    return max(len(Alist), len(Blist)), min(len(Alist), len(Blist))\n",
    "\n",
    "# func to calculate similarity\n",
    "def similarity(nameA: str, nameB: str, w_h = 0.9, w_l = 0.1)-> float:\n",
    "    min_len = get_max_min_len(nameA, nameB)[1]\n",
    "    max_len = get_max_min_len(nameA, nameB)[0]\n",
    "    w_list1 = weightList(decayFunc(1, w_h, min_len, w_l), list(range(1, min_len+1)))\n",
    "    w_list2 = weightList(decayFunc(1, w_h, max_len, w_l), list(range(1, max_len+1)))\n",
    "\n",
    "    Alist_0 = nameA.split(' ')\n",
    "    Blist_0 = nameB.split(' ')\n",
    "\n",
    "    # Alist, Blist = Alist_0[:same_len], Blist_0[:same_len]\n",
    "    # if len(w_list) < same_len:\n",
    "    #     w_list += [w_list[-1]]*(same_len-len(w_list))\n",
    "    # w_list = w_list[:same_len]\n",
    "    if len(Alist_0) != min_len:\n",
    "        Alist_0, Blist_0 = Blist_0, Alist_0\n",
    "\n",
    "    score_a = 0\n",
    "    score_b = 0\n",
    "    for i in range(min_len):\n",
    "        if Alist_0[i] in Blist_0:\n",
    "            score_a += 1*w_list1[i]\n",
    "\n",
    "    for j in range(max_len):\n",
    "        if Blist_0[j] in Alist_0:\n",
    "            score_b += 1*w_list2[j]\n",
    "\n",
    "    incl_a = score_a/len(Alist_0)\n",
    "    incl_b = score_b/len(Blist_0)\n",
    "\n",
    "    return incl_a + incl_b\n",
    "\n",
    "# func to calculate distance between two words\n",
    "def distance(nameA: str, nameB: str, w_h = 0.9, w_l = 0.1)-> float:\n",
    "    same_len = get_max_min_len(nameA, nameB)[1]\n",
    "    weight_n = list(range(1, same_len+1))\n",
    "    w_list = weightList(decayFunc(1, w_h, same_len, w_l), weight_n)\n",
    "\n",
    "    Alist_0 = nameA.split(' ')\n",
    "    Blist_0 = nameB.split(' ')\n",
    "\n",
    "    Alist, Blist = Alist_0[:same_len], Blist_0[:same_len]\n",
    "    if len(w_list) < same_len:\n",
    "        w_list += [w_list[-1]]*(same_len-len(w_list))\n",
    "    w_list = w_list[:same_len]\n",
    "\n",
    "    euc_d = [(((1-match_score(Alist[i], Blist[i]))**2 + order_score(Alist[i], Blist[i])**2)**0.5) for i in range(same_len)]\n",
    "    df = pd.DataFrame({'euc_index': euc_d, 'weight': w_list})\n",
    "    distance = df.iloc[:, 0].dot(df.weight)\n",
    "\n",
    "    len_mean = (len(Alist_0) + len(Blist_0)) / 2\n",
    "    len_var = (((len(Alist_0)-len_mean)**2 + (len(Blist_0)-len_mean)**2)/2) ** 0.5\n",
    "\n",
    "    return distance + len_var\n",
    "\n",
    "# func to combine similarity and distance to get a comprehensive score\n",
    "def overallSim(nameA: str, nameB: str, w_h = 0.9, w_l = 0.1):\n",
    "    sim = similarity(nameA, nameB, w_h, w_l)\n",
    "    dis = distance(nameA, nameB, w_h, w_l)\n",
    "    return sim - dis*0.1\n"
   ]
  },
  {
   "cell_type": "code",
   "execution_count": null,
   "metadata": {},
   "outputs": [],
   "source": [
    "companyA = 'CDL Properties'\n",
    "companyB = 'CDL Real Estate'\n",
    "companyC = 'Hon Sui Sen Properties What what'\n",
    "companyD = 'Hon Heung Investments'\n",
    "companyE = 'Hon Tian Sen Properties'\n",
    "companyF = 'Hon Sui Sen'\n",
    "\n",
    "overallSim(companyA, companyB)\n"
   ]
  },
  {
   "cell_type": "code",
   "execution_count": null,
   "metadata": {},
   "outputs": [],
   "source": [
    "td_minor = count_td[count_td.successful_tenderer_id < 10]\n",
    "unique_name = pd.Series(td_minor.successful_tenderer_name.unique())\n",
    "unique_name"
   ]
  },
  {
   "cell_type": "code",
   "execution_count": null,
   "metadata": {},
   "outputs": [],
   "source": [
    "# create a dict to find full name for stripped names\n",
    "stripped = unique_name.apply(lambda x: stripName(x)[0])"
   ]
  },
  {
   "cell_type": "code",
   "execution_count": null,
   "metadata": {},
   "outputs": [],
   "source": [
    "def find_most_likely_name(name, ref: List[str]):\n",
    "    name_dict = {}\n",
    "    for item in ref:\n",
    "        if item != name:\n",
    "            name_dict[item] = overallSim(name, item)\n",
    "    return max(name_dict, key=name_dict.get), max(name_dict.values())\n",
    "\n",
    "# td_minor['most_likely_name'] = td_minor.reset_index().successful_tenderer_name.apply(lambda x: find_most_likely_name(x, ref=unique_name))\n",
    "likely_names = stripped.apply(lambda x: find_most_likely_name(x, ref=stripped))"
   ]
  },
  {
   "cell_type": "code",
   "execution_count": null,
   "metadata": {},
   "outputs": [],
   "source": [
    "name_dict = pd.DataFrame({\"names\": unique_name, \"likely_names\": likely_names.apply(lambda x: x[0]), \"likelihood\": likely_names.apply(lambda x: x[1])})\n",
    "name_dict.to_csv(\"tenderer_name_dict.csv\", index=False)"
   ]
  },
  {
   "cell_type": "code",
   "execution_count": null,
   "metadata": {},
   "outputs": [],
   "source": [
    "td_minor = td_minor.reset_index()\n",
    "test.successful_tenderer_name.apply(lambda x: find_most_likely_name(x, unique_name)[0])"
   ]
  }
 ],
 "metadata": {
  "kernelspec": {
   "display_name": "Python 3.8.8",
   "language": "python",
   "name": "python3"
  },
  "language_info": {
   "codemirror_mode": {
    "name": "ipython",
    "version": 3
   },
   "file_extension": ".py",
   "mimetype": "text/x-python",
   "name": "python",
   "nbconvert_exporter": "python",
   "pygments_lexer": "ipython3",
   "version": "3.8.8"
  },
  "orig_nbformat": 4,
  "vscode": {
   "interpreter": {
    "hash": "f8b40d688a12481f01eadf7380c47edd8a49484a47dba3db091451640e880c68"
   }
  }
 },
 "nbformat": 4,
 "nbformat_minor": 2
}
