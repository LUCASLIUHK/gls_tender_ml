{
 "cells": [
  {
   "cell_type": "code",
   "execution_count": 567,
   "metadata": {
    "collapsed": true
   },
   "outputs": [],
   "source": [
    "import pandas as pd\n",
    "import numpy as np\n",
    "from xgboost import XGBRegressor, DMatrix, cv, train, plot_tree\n",
    "from sklearn.model_selection import train_test_split\n",
    "from sklearn.metrics import mean_squared_error as mse, mean_absolute_percentage_error as mape, r2_score\n",
    "import matplotlib.pylab as plt\n",
    "import graphviz\n",
    "\n",
    "# Hyperparameter tuning\n",
    "from sklearn.model_selection import RepeatedKFold, cross_val_score, GridSearchCV, RandomizedSearchCV\n",
    "from hyperopt import tpe, STATUS_OK, Trials, hp, fmin, STATUS_OK, space_eval"
   ]
  },
  {
   "cell_type": "markdown",
   "source": [
    "### Read in data"
   ],
   "metadata": {
    "collapsed": false
   }
  },
  {
   "cell_type": "code",
   "execution_count": 553,
   "outputs": [],
   "source": [
    "gls = pd.read_csv(r'G:\\REA\\Working files\\land-bidding\\land_sales_full_data\\feature eng\\gls_1207_new_feat.csv')\n",
    "gls = gls.sort_values(by=['year_launch', 'month_launch', 'date_launch'])"
   ],
   "metadata": {
    "collapsed": false
   }
  },
  {
   "cell_type": "code",
   "execution_count": 554,
   "outputs": [
    {
     "data": {
      "text/plain": "Index(['sg_gls_id', 'land_parcel_id', 'project_dwid', 'address_dwid',\n       'date_launch', 'date_close', 'date_award', 'land_parcel',\n       'land_parcel_std', 'street', 'zone', 'region', 'join_by', 'error_check',\n       'site_area_sqm', 'devt_type', 'devt_class', 'lease_term', 'gpr',\n       'gfa_sqm', 'num_bidders', 'successful_tenderer_name',\n       'successful_tender_price', 'successful_price_psm_gfa', 'proj_name_raw',\n       'proj_name_res', 'proj_name_non_res', 'in_db', 'source',\n       'timediff_launch_to_close', 'timediff_close_to_award',\n       'timediff_launch_to_award', 'launch_month_index', 'year_launch',\n       'month_launch', 'day_launch', 'close_month_index', 'year_close',\n       'month_close', 'day_close', 'award_month_index', 'year_award',\n       'month_award', 'day_award', 'merge_key', 'tender_details',\n       'tenderer_name_1st', 'tender_price_1st', 'price_psm_gfa_1st',\n       'tenderer_name_2nd', 'tender_price_2nd', 'price_psm_gfa_2nd',\n       'price_premium_total', 'price_premium_psm', 'premium_pct',\n       'source_file', 'mean_tender_price', 'hi_tender_price',\n       'mean_price_psm_gfa', 'hi_price_psm_gfa', 'num_land_sales',\n       'tender_price_real', 'price_psm_real', 'quarter_launch', 'lg_site_area',\n       'lg_price_psm_real', 'predicted_price_psm', 'project_name_indb',\n       'dw_project_id', 'avg_dist_cbd', 'avg_dist_mrt', 'avg_num_bus',\n       'avg_num_good_sch', 'avg_num_prim_sch', 'avg_num_sec_sch',\n       'proj_num_of_units', 'proj_max_floor',\n       'num_of_nearby_completed_proj_200m', 'num_of_schools'],\n      dtype='object')"
     },
     "execution_count": 554,
     "metadata": {},
     "output_type": "execute_result"
    }
   ],
   "source": [
    "gls.columns"
   ],
   "metadata": {
    "collapsed": false
   }
  },
  {
   "cell_type": "code",
   "execution_count": 555,
   "outputs": [],
   "source": [
    "# select features\n",
    "categories = ['region', 'zone', 'devt_class', 'source']\n",
    "numeric = ['site_area_sqm', 'lease_term', 'gpr',\n",
    "           'num_bidders', 'timediff_launch_to_close',\n",
    "           'avg_dist_cbd', 'avg_dist_mrt', 'avg_num_bus',\n",
    "           'avg_num_good_sch', 'proj_num_of_units', 'proj_max_floor',\n",
    "           'num_of_nearby_completed_proj_200m', 'num_of_schools', 'year_launch']\n",
    "cols = categories + numeric"
   ],
   "metadata": {
    "collapsed": false
   }
  },
  {
   "cell_type": "markdown",
   "source": [
    "### Pretreatment"
   ],
   "metadata": {
    "collapsed": false
   }
  },
  {
   "cell_type": "code",
   "execution_count": 556,
   "outputs": [],
   "source": [
    "x = pd.get_dummies(gls[cols])\n",
    "y = gls.price_psm_real"
   ],
   "metadata": {
    "collapsed": false
   }
  },
  {
   "cell_type": "code",
   "execution_count": 557,
   "outputs": [],
   "source": [
    "dmat = DMatrix(data=x, label=y)"
   ],
   "metadata": {
    "collapsed": false
   }
  },
  {
   "cell_type": "markdown",
   "source": [
    "### Split train-test"
   ],
   "metadata": {
    "collapsed": false
   }
  },
  {
   "cell_type": "code",
   "execution_count": 558,
   "outputs": [],
   "source": [
    "x_train, x_test, y_train, y_test = train_test_split(x, y, shuffle=False, test_size=0.2)\n",
    "train_data = DMatrix(x_train, label=y_train)\n",
    "test_data = DMatrix(x_test, label=y_test)"
   ],
   "metadata": {
    "collapsed": false
   }
  },
  {
   "cell_type": "markdown",
   "source": [
    "### Set model and regress"
   ],
   "metadata": {
    "collapsed": false
   }
  },
  {
   "cell_type": "code",
   "execution_count": 580,
   "outputs": [
    {
     "name": "stdout",
     "output_type": "stream",
     "text": [
      "MAPE train: 0.161727\n",
      "MAPE test: 0.178458\n",
      "MAPE test-train: 0.016731\n"
     ]
    }
   ],
   "source": [
    "# using train\n",
    "params = {\n",
    "    'max_depth': 6,\n",
    "    'eta': 0.02,\n",
    "    'objective': 'reg:squarederror',\n",
    "}\n",
    "xgb = XGBRegressor(objective ='reg:squarederror').fit(x_train, y_train)\n",
    "xgb_reg = train(params=params, dtrain=train_data, num_boost_round=100)\n",
    "pred_train = xgb_reg.predict(train_data)\n",
    "mape_train = mape(y_train, pred_train)\n",
    "pred_test = xgb_reg.predict(test_data)\n",
    "mape_test = mape(y_test, pred_test)\n",
    "print(\"MAPE train: %f\" %mape_train, \"MAPE test: %f\" %mape_test, \"MAPE test-train: %f\" %(mape_test-mape_train), sep='\\n')"
   ],
   "metadata": {
    "collapsed": false
   }
  },
  {
   "cell_type": "code",
   "execution_count": 560,
   "outputs": [
    {
     "name": "stdout",
     "output_type": "stream",
     "text": [
      "0.593963160350227\n",
      "0.840179796477937\n"
     ]
    }
   ],
   "source": [
    "r2_test, r2_train = r2_score(y_test, pred_test), r2_score(y_train, pred_train)\n",
    "print(r2_test, r2_train, sep='\\n')"
   ],
   "metadata": {
    "collapsed": false
   }
  },
  {
   "cell_type": "code",
   "execution_count": 561,
   "outputs": [],
   "source": [
    "test_check = pd.DataFrame({'y_actual': y_test, 'y_predict': pred_test})\n",
    "train_check = pd.DataFrame({'actual': y_train, 'predict': pred_train})"
   ],
   "metadata": {
    "collapsed": false
   }
  },
  {
   "cell_type": "code",
   "execution_count": 577,
   "outputs": [
    {
     "data": {
      "text/plain": "{'objective': 'reg:squarederror',\n 'base_score': 0.5,\n 'booster': 'gbtree',\n 'callbacks': None,\n 'colsample_bylevel': 1,\n 'colsample_bynode': 1,\n 'colsample_bytree': 1,\n 'early_stopping_rounds': None,\n 'enable_categorical': False,\n 'eval_metric': None,\n 'feature_types': None,\n 'gamma': 0,\n 'gpu_id': -1,\n 'grow_policy': 'depthwise',\n 'importance_type': None,\n 'interaction_constraints': '',\n 'learning_rate': 0.300000012,\n 'max_bin': 256,\n 'max_cat_threshold': 64,\n 'max_cat_to_onehot': 4,\n 'max_delta_step': 0,\n 'max_depth': 6,\n 'max_leaves': 0,\n 'min_child_weight': 1,\n 'missing': nan,\n 'monotone_constraints': '()',\n 'n_estimators': 100,\n 'n_jobs': 0,\n 'num_parallel_tree': 1,\n 'predictor': 'auto',\n 'random_state': 0,\n 'reg_alpha': 0,\n 'reg_lambda': 1,\n 'sampling_method': 'uniform',\n 'scale_pos_weight': 1,\n 'subsample': 1,\n 'tree_method': 'exact',\n 'validate_parameters': 1,\n 'verbosity': None}"
     },
     "execution_count": 577,
     "metadata": {},
     "output_type": "execute_result"
    }
   ],
   "source": [
    "xgb.get_params()"
   ],
   "metadata": {
    "collapsed": false
   }
  },
  {
   "cell_type": "markdown",
   "source": [
    "### Param tuning and random search"
   ],
   "metadata": {
    "collapsed": false
   }
  },
  {
   "cell_type": "code",
   "execution_count": 569,
   "outputs": [],
   "source": [
    "# Round 1\n",
    "# define search space\n",
    "param_space = {'max_depth': [4, 5, 6],\n",
    "               'learning_rate': [0.01, 0.02, 0.05],\n",
    "               'gamma': [0, 0.25, 1.0],\n",
    "               'reg_lambda': [0, 1.0, 5.0]\n",
    "               }\n",
    "scoring = ['neg_mean_absolute_percentage_error']\n",
    "kfold = RepeatedKFold(n_splits=10, n_repeats=3, random_state=42)\n",
    "random_search = RandomizedSearchCV(estimator=xgb,\n",
    "                                    param_distributions=param_space,\n",
    "                                    n_iter=50,\n",
    "                                    scoring=scoring,\n",
    "                                    refit=scoring[0],\n",
    "                                    n_jobs=-1,\n",
    "                                    cv=kfold,\n",
    "                                    verbose=1)"
   ],
   "metadata": {
    "collapsed": false
   }
  },
  {
   "cell_type": "code",
   "execution_count": 572,
   "outputs": [
    {
     "name": "stdout",
     "output_type": "stream",
     "text": [
      "The best score is -646.2954\n",
      "The best hyperparameters are {'reg_lambda': 0, 'max_depth': 5, 'learning_rate': 0.02, 'gamma': 0.25}\n"
     ]
    }
   ],
   "source": [
    "random_search_res = random_search.fit(x_train, y_train)\n",
    "# Print the best score and the corresponding hyperparameters\n",
    "print(f'The best score is {random_search_res.best_score_:.4f}')\n",
    "# print('The best score standard deviation is', round(randome_search_res.cv_results_['std_test_recall'][randome_search_res.best_index_], 4))\n",
    "print(f'The best hyperparameters are {random_search_res.best_params_}')"
   ],
   "metadata": {
    "collapsed": false
   }
  },
  {
   "cell_type": "code",
   "execution_count": null,
   "outputs": [],
   "source": [
    "# Round 2\n",
    "# define search space\n",
    "param_space = {'max_depth': [4, 5, 6],\n",
    "               'learning_rate': [0.01, 0.02, 0.05],\n",
    "               'gamma': [0, 0.25, 1.0],\n",
    "               'reg_lambda': [0, 1.0, 5.0]\n",
    "               }\n",
    "scoring = ['neg_mean_absolute_percentage_error']\n",
    "kfold = RepeatedKFold(n_splits=10, n_repeats=3, random_state=42)\n",
    "random_search = RandomizedSearchCV(estimator=xgb,\n",
    "                                   param_distributions=param_space,\n",
    "                                   n_iter=50,\n",
    "                                   scoring=scoring,\n",
    "                                   refit=scoring[0],\n",
    "                                   n_jobs=-1,\n",
    "                                   cv=kfold,\n",
    "                                   verbose=1)"
   ],
   "metadata": {
    "collapsed": false
   }
  },
  {
   "cell_type": "code",
   "execution_count": null,
   "outputs": [],
   "source": [
    "random_search_res = random_search.fit(x_train, y_train)\n",
    "# Print the best score and the corresponding hyperparameters\n",
    "print(f'The best score is {random_search_res.best_score_:.4f}')\n",
    "# print('The best score standard deviation is', round(randome_search_res.cv_results_['std_test_recall'][randome_search_res.best_index_], 4))\n",
    "print(f'The best hyperparameters are {random_search_res.best_params_}')"
   ],
   "metadata": {
    "collapsed": false
   }
  },
  {
   "cell_type": "code",
   "execution_count": null,
   "outputs": [],
   "source": [
    "validation_res = cv(dtrain=train_data, params=params, nfold=3, num_boost_round=100,\n",
    "                    early_stopping_rounds=10, metrics='rmse', as_pandas=True, seed=42)"
   ],
   "metadata": {
    "collapsed": false
   }
  },
  {
   "cell_type": "code",
   "execution_count": null,
   "outputs": [],
   "source": [
    "validation_res['test-rmse-mean'].tail(1)"
   ],
   "metadata": {
    "collapsed": false
   }
  },
  {
   "cell_type": "markdown",
   "source": [
    "### Visualize"
   ],
   "metadata": {
    "collapsed": false
   }
  },
  {
   "cell_type": "code",
   "execution_count": null,
   "outputs": [],
   "source": [
    "# xg_reg = train(params=params, dtrain=dmat, num_boost_round=100)\n",
    "# plot_tree(xg_reg, num_trees=0)\n",
    "# plt.rcParams['figure.figsize'] = [50, 10]\n",
    "# plt.show()"
   ],
   "metadata": {
    "collapsed": false
   }
  }
 ],
 "metadata": {
  "kernelspec": {
   "display_name": "Python 3",
   "language": "python",
   "name": "python3"
  },
  "language_info": {
   "codemirror_mode": {
    "name": "ipython",
    "version": 2
   },
   "file_extension": ".py",
   "mimetype": "text/x-python",
   "name": "python",
   "nbconvert_exporter": "python",
   "pygments_lexer": "ipython2",
   "version": "2.7.6"
  }
 },
 "nbformat": 4,
 "nbformat_minor": 0
}
