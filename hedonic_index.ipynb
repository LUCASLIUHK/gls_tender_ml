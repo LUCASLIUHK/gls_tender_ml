{
 "cells": [
  {
   "cell_type": "code",
   "execution_count": 5,
   "metadata": {
    "collapsed": true
   },
   "outputs": [],
   "source": [
    "import pandas as pd\n",
    "import numpy as np\n",
    "from numpy.linalg import LinAlgError\n",
    "from sklearn.preprocessing import MinMaxScaler\n",
    "from sklearn.linear_model import LinearRegression\n",
    "from sklearn.metrics import mean_squared_error\n",
    "import logging\n",
    "\n",
    "logger = logging.getLogger(__name__)\n",
    "\n",
    "def hedonic(transactions, y_col, m_or_qtr, index_len):\n",
    "    HEDONIC_PENALTY = 1.5  # multiplier to evaluation metrics (MSE), to favour more for repeated-sales method\n",
    "\n",
    "    cat_val = [\n",
    "        m_or_qtr,\n",
    "        \"devt_class\",\n",
    "        \"source\",\n",
    "        \"zone\",\n",
    "        \"region\"\n",
    "    ]\n",
    "    num_val = [\n",
    "        \"site_area_sqm\",\n",
    "        \"gpr\",\n",
    "        \"lease_term\",\n",
    "        \"num_bidders\",\n",
    "        \"timediff_launch_to_close\",\n",
    "        \"timediff_launch_to_award\",\n",
    "    ]\n",
    "    if \"age\" in transactions.columns:\n",
    "        transactions[\"new_building\"] = transactions[\"age\"].apply(\n",
    "            lambda a: True if a < 0 else False\n",
    "        )\n",
    "    col = transactions.columns[transactions.nunique() > 1]\n",
    "    cat_val = list(np.intersect1d(col, cat_val))\n",
    "    num_val = list(np.intersect1d(col, num_val))\n",
    "\n",
    "    if num_val:\n",
    "        scaler = MinMaxScaler()\n",
    "        transactions[num_val] = scaler.fit_transform(transactions[num_val])\n",
    "    transactions = transactions.dropna(how='any', subset=[y_col])\n",
    "    y = np.log(transactions[y_col])\n",
    "    hedonic_index = None\n",
    "    mse = 1\n",
    "    try:\n",
    "        x = pd.get_dummies(\n",
    "            data=transactions[num_val + cat_val], columns=cat_val, drop_first=False\n",
    "        )\n",
    "        x = x.replace([np.inf, -np.inf], np.nan).dropna(axis=1)\n",
    "    except ValueError:\n",
    "        logger.warning(\"ValueError when converting x to dummies\")\n",
    "        return hedonic_index, mse\n",
    "\n",
    "    try:\n",
    "        model = LinearRegression()\n",
    "        fit = model.fit(x, y)\n",
    "        r2 = model.score(x, y)\n",
    "        r2_adj = 1 - (1-r2)*(len(y)-1)/(len(y)-x.shape[1]-1)\n",
    "        print(f\"R2 score {r2} \\nAdjusted R2 score {r2_adj}\")\n",
    "    except LinAlgError:\n",
    "        logger.warning(\"LinAlgError encountered, skip\")\n",
    "        return hedonic_index, mse\n",
    "    except ValueError:\n",
    "        logger.warning(\"ValueError encountered, skip\")\n",
    "        return hedonic_index, mse\n",
    "    hedonic_index = pd.DataFrame(\n",
    "        [[fit.coef_[i], s] for i, s in enumerate(x.columns) if m_or_qtr in s],\n",
    "        columns=[\"hi\", m_or_qtr],\n",
    "    )\n",
    "\n",
    "    if len(hedonic_index) < index_len:\n",
    "        mse = 1\n",
    "        hedonic_index = None\n",
    "    else:\n",
    "        hedonic_index.sort_values(by=m_or_qtr, inplace=True)\n",
    "        mse = mean_squared_error(y, fit.predict(x)) * HEDONIC_PENALTY\n",
    "\n",
    "        hedonic_index[m_or_qtr] = hedonic_index[m_or_qtr].apply(\n",
    "            lambda x: x.split(\"_\")[-1]\n",
    "        )\n",
    "        base_coef = hedonic_index.hi.iloc[0]\n",
    "        hedonic_index[\"hi\"] = hedonic_index[\"hi\"] - base_coef\n",
    "        hedonic_index[\"hi\"] = hedonic_index[\"hi\"].apply(lambda x: np.exp(x))\n",
    "        logger.info(f\"categorical cols: {cat_val}\")\n",
    "        logger.info(f\"numerical cols: {num_val}\")\n",
    "\n",
    "    return hedonic_index, mse\n",
    "\n",
    "\n",
    "def rebase(series, base=0):\n",
    "    base_value = series[base]\n",
    "    return series.apply(lambda x: x/base_value)\n"
   ]
  },
  {
   "cell_type": "code",
   "execution_count": 14,
   "outputs": [
    {
     "data": {
      "text/plain": "                                             sg_gls_id date_launch date_close  \\\n0    8c101477584713a9310e02940aac6b059e37833ab6848d...   29/4/2015  23/6/2015   \n1    f2e43515a8e783bc2314727cb58587c8ee761ab7a4a016...   29/4/2015  18/6/2015   \n2    384815dd4cafcbf88b2f11099d8bced7a584736ec36742...  30/12/2013  29/4/2014   \n3    05c11060bf1cbcb2db7aa3ed898c19a09fd298c3b1c3a4...   15/4/2013  13/6/2013   \n4    d9fcb7d323ca5b77f6a22635200afafdd99e67f6feb109...   28/2/2013  11/4/2013   \n..                                                 ...         ...        ...   \n411  d4813559d3164173d084094221d2bce33dfebd51ab4e28...   13/7/1994  14/9/1994   \n412  33f01859b6459d8187211166006aaebc715b49feadbdea...   27/5/1993  19/8/1993   \n413  8eb15f52eae64386c44bb23f974d85aed3b2d97d77deb9...  12/11/1992   7/1/1993   \n414  073c0804e1dfae10c4f7167eed3261597b4e9b6d1c51fc...  12/11/1992   7/1/1993   \n415  6bbcce95d71defbaa02828b70658620465db312ca4cb95...  12/11/1992   7/1/1993   \n\n     date_award                 land_parcel  \\\n0     30/6/2015              Queenstown S9b   \n1     23/6/2015                Toa Payoh S4   \n2     30/4/2014                  Geylang S6   \n3     14/6/2013                Sengkang S12   \n4     12/4/2013                Sengkang S11   \n..          ...                         ...   \n411  15/11/1994           Lorong 42 Geylang   \n412   6/11/1993  Robertson Quay/Nanson Road   \n413    2/3/1993               Bayshore Road   \n414    2/3/1993              Robertson Quay   \n415    2/3/1993            Tanjong Rhu Road   \n\n                                    street             zone  \\\n0                              Dundee Road       queenstown   \n1    Lorong 6 Toa Payoh/Lorong 4 Toa Payoh        toa payoh   \n2                               Sims Drive          geylang   \n3                           Fernvale Close         sengkang   \n4                        Sengkang West Way         sengkang   \n..                                     ...              ...   \n411                      Lorong 42 Geylang          geylang   \n412             Robertson Quay/Nanson Road    downtown core   \n413                          Bayshore Road            bedok   \n414                         Robertson Quay  singapore river   \n415                       Tanjong Rhu Road          kallang   \n\n                region       join_by   error_check  ...  month_launch  \\\n0       central region  project name             0  ...             4   \n1       central region  project name             0  ...             4   \n2       central region  project name             0  ...            12   \n3    north-east region  project name             0  ...             4   \n4    north-east region  project name             0  ...             2   \n..                 ...           ...           ...  ...           ...   \n411     central region   street name  poor matched  ...             7   \n412     central region   street name  poor matched  ...             5   \n413        east region   street name  poor matched  ...            11   \n414     central region   street name  poor matched  ...            11   \n415     central region   street name  poor matched  ...            11   \n\n    day_launch close_month_index  year_close  month_close  day_close  \\\n0           29            201506        2015            6         23   \n1           29            201506        2015            6         18   \n2           30            201404        2014            4         29   \n3           15            201306        2013            6         13   \n4           28            201304        2013            4         11   \n..         ...               ...         ...          ...        ...   \n411         13            199409        1994            9         14   \n412         27            199308        1993            8         19   \n413         12            199301        1993            1          7   \n414         12            199301        1993            1          7   \n415         12            199301        1993            1          7   \n\n     award_month_index  year_award month_award  day_award  \n0               201506        2015           6         30  \n1               201506        2015           6         23  \n2               201404        2014           4         30  \n3               201306        2013           6         14  \n4               201304        2013           4         12  \n..                 ...         ...         ...        ...  \n411             199411        1994          11         15  \n412             199311        1993          11          6  \n413             199303        1993           3          2  \n414             199303        1993           3          2  \n415             199303        1993           3          2  \n\n[416 rows x 40 columns]",
      "text/html": "<div>\n<style scoped>\n    .dataframe tbody tr th:only-of-type {\n        vertical-align: middle;\n    }\n\n    .dataframe tbody tr th {\n        vertical-align: top;\n    }\n\n    .dataframe thead th {\n        text-align: right;\n    }\n</style>\n<table border=\"1\" class=\"dataframe\">\n  <thead>\n    <tr style=\"text-align: right;\">\n      <th></th>\n      <th>sg_gls_id</th>\n      <th>date_launch</th>\n      <th>date_close</th>\n      <th>date_award</th>\n      <th>land_parcel</th>\n      <th>street</th>\n      <th>zone</th>\n      <th>region</th>\n      <th>join_by</th>\n      <th>error_check</th>\n      <th>...</th>\n      <th>month_launch</th>\n      <th>day_launch</th>\n      <th>close_month_index</th>\n      <th>year_close</th>\n      <th>month_close</th>\n      <th>day_close</th>\n      <th>award_month_index</th>\n      <th>year_award</th>\n      <th>month_award</th>\n      <th>day_award</th>\n    </tr>\n  </thead>\n  <tbody>\n    <tr>\n      <th>0</th>\n      <td>8c101477584713a9310e02940aac6b059e37833ab6848d...</td>\n      <td>29/4/2015</td>\n      <td>23/6/2015</td>\n      <td>30/6/2015</td>\n      <td>Queenstown S9b</td>\n      <td>Dundee Road</td>\n      <td>queenstown</td>\n      <td>central region</td>\n      <td>project name</td>\n      <td>0</td>\n      <td>...</td>\n      <td>4</td>\n      <td>29</td>\n      <td>201506</td>\n      <td>2015</td>\n      <td>6</td>\n      <td>23</td>\n      <td>201506</td>\n      <td>2015</td>\n      <td>6</td>\n      <td>30</td>\n    </tr>\n    <tr>\n      <th>1</th>\n      <td>f2e43515a8e783bc2314727cb58587c8ee761ab7a4a016...</td>\n      <td>29/4/2015</td>\n      <td>18/6/2015</td>\n      <td>23/6/2015</td>\n      <td>Toa Payoh S4</td>\n      <td>Lorong 6 Toa Payoh/Lorong 4 Toa Payoh</td>\n      <td>toa payoh</td>\n      <td>central region</td>\n      <td>project name</td>\n      <td>0</td>\n      <td>...</td>\n      <td>4</td>\n      <td>29</td>\n      <td>201506</td>\n      <td>2015</td>\n      <td>6</td>\n      <td>18</td>\n      <td>201506</td>\n      <td>2015</td>\n      <td>6</td>\n      <td>23</td>\n    </tr>\n    <tr>\n      <th>2</th>\n      <td>384815dd4cafcbf88b2f11099d8bced7a584736ec36742...</td>\n      <td>30/12/2013</td>\n      <td>29/4/2014</td>\n      <td>30/4/2014</td>\n      <td>Geylang S6</td>\n      <td>Sims Drive</td>\n      <td>geylang</td>\n      <td>central region</td>\n      <td>project name</td>\n      <td>0</td>\n      <td>...</td>\n      <td>12</td>\n      <td>30</td>\n      <td>201404</td>\n      <td>2014</td>\n      <td>4</td>\n      <td>29</td>\n      <td>201404</td>\n      <td>2014</td>\n      <td>4</td>\n      <td>30</td>\n    </tr>\n    <tr>\n      <th>3</th>\n      <td>05c11060bf1cbcb2db7aa3ed898c19a09fd298c3b1c3a4...</td>\n      <td>15/4/2013</td>\n      <td>13/6/2013</td>\n      <td>14/6/2013</td>\n      <td>Sengkang S12</td>\n      <td>Fernvale Close</td>\n      <td>sengkang</td>\n      <td>north-east region</td>\n      <td>project name</td>\n      <td>0</td>\n      <td>...</td>\n      <td>4</td>\n      <td>15</td>\n      <td>201306</td>\n      <td>2013</td>\n      <td>6</td>\n      <td>13</td>\n      <td>201306</td>\n      <td>2013</td>\n      <td>6</td>\n      <td>14</td>\n    </tr>\n    <tr>\n      <th>4</th>\n      <td>d9fcb7d323ca5b77f6a22635200afafdd99e67f6feb109...</td>\n      <td>28/2/2013</td>\n      <td>11/4/2013</td>\n      <td>12/4/2013</td>\n      <td>Sengkang S11</td>\n      <td>Sengkang West Way</td>\n      <td>sengkang</td>\n      <td>north-east region</td>\n      <td>project name</td>\n      <td>0</td>\n      <td>...</td>\n      <td>2</td>\n      <td>28</td>\n      <td>201304</td>\n      <td>2013</td>\n      <td>4</td>\n      <td>11</td>\n      <td>201304</td>\n      <td>2013</td>\n      <td>4</td>\n      <td>12</td>\n    </tr>\n    <tr>\n      <th>...</th>\n      <td>...</td>\n      <td>...</td>\n      <td>...</td>\n      <td>...</td>\n      <td>...</td>\n      <td>...</td>\n      <td>...</td>\n      <td>...</td>\n      <td>...</td>\n      <td>...</td>\n      <td>...</td>\n      <td>...</td>\n      <td>...</td>\n      <td>...</td>\n      <td>...</td>\n      <td>...</td>\n      <td>...</td>\n      <td>...</td>\n      <td>...</td>\n      <td>...</td>\n      <td>...</td>\n    </tr>\n    <tr>\n      <th>411</th>\n      <td>d4813559d3164173d084094221d2bce33dfebd51ab4e28...</td>\n      <td>13/7/1994</td>\n      <td>14/9/1994</td>\n      <td>15/11/1994</td>\n      <td>Lorong 42 Geylang</td>\n      <td>Lorong 42 Geylang</td>\n      <td>geylang</td>\n      <td>central region</td>\n      <td>street name</td>\n      <td>poor matched</td>\n      <td>...</td>\n      <td>7</td>\n      <td>13</td>\n      <td>199409</td>\n      <td>1994</td>\n      <td>9</td>\n      <td>14</td>\n      <td>199411</td>\n      <td>1994</td>\n      <td>11</td>\n      <td>15</td>\n    </tr>\n    <tr>\n      <th>412</th>\n      <td>33f01859b6459d8187211166006aaebc715b49feadbdea...</td>\n      <td>27/5/1993</td>\n      <td>19/8/1993</td>\n      <td>6/11/1993</td>\n      <td>Robertson Quay/Nanson Road</td>\n      <td>Robertson Quay/Nanson Road</td>\n      <td>downtown core</td>\n      <td>central region</td>\n      <td>street name</td>\n      <td>poor matched</td>\n      <td>...</td>\n      <td>5</td>\n      <td>27</td>\n      <td>199308</td>\n      <td>1993</td>\n      <td>8</td>\n      <td>19</td>\n      <td>199311</td>\n      <td>1993</td>\n      <td>11</td>\n      <td>6</td>\n    </tr>\n    <tr>\n      <th>413</th>\n      <td>8eb15f52eae64386c44bb23f974d85aed3b2d97d77deb9...</td>\n      <td>12/11/1992</td>\n      <td>7/1/1993</td>\n      <td>2/3/1993</td>\n      <td>Bayshore Road</td>\n      <td>Bayshore Road</td>\n      <td>bedok</td>\n      <td>east region</td>\n      <td>street name</td>\n      <td>poor matched</td>\n      <td>...</td>\n      <td>11</td>\n      <td>12</td>\n      <td>199301</td>\n      <td>1993</td>\n      <td>1</td>\n      <td>7</td>\n      <td>199303</td>\n      <td>1993</td>\n      <td>3</td>\n      <td>2</td>\n    </tr>\n    <tr>\n      <th>414</th>\n      <td>073c0804e1dfae10c4f7167eed3261597b4e9b6d1c51fc...</td>\n      <td>12/11/1992</td>\n      <td>7/1/1993</td>\n      <td>2/3/1993</td>\n      <td>Robertson Quay</td>\n      <td>Robertson Quay</td>\n      <td>singapore river</td>\n      <td>central region</td>\n      <td>street name</td>\n      <td>poor matched</td>\n      <td>...</td>\n      <td>11</td>\n      <td>12</td>\n      <td>199301</td>\n      <td>1993</td>\n      <td>1</td>\n      <td>7</td>\n      <td>199303</td>\n      <td>1993</td>\n      <td>3</td>\n      <td>2</td>\n    </tr>\n    <tr>\n      <th>415</th>\n      <td>6bbcce95d71defbaa02828b70658620465db312ca4cb95...</td>\n      <td>12/11/1992</td>\n      <td>7/1/1993</td>\n      <td>2/3/1993</td>\n      <td>Tanjong Rhu Road</td>\n      <td>Tanjong Rhu Road</td>\n      <td>kallang</td>\n      <td>central region</td>\n      <td>street name</td>\n      <td>poor matched</td>\n      <td>...</td>\n      <td>11</td>\n      <td>12</td>\n      <td>199301</td>\n      <td>1993</td>\n      <td>1</td>\n      <td>7</td>\n      <td>199303</td>\n      <td>1993</td>\n      <td>3</td>\n      <td>2</td>\n    </tr>\n  </tbody>\n</table>\n<p>416 rows × 40 columns</p>\n</div>"
     },
     "execution_count": 14,
     "metadata": {},
     "output_type": "execute_result"
    }
   ],
   "source": [
    "gls = pd.read_csv(r\"G:\\REA\\Working files\\land-bidding\\land_sales_full_data\\ready for uploading\\gls_no_detail.csv\")\n",
    "gls = gls[(gls.devt_class=='residential') | (gls.devt_class=='rc')].reset_index(drop=True)\n",
    "gls"
   ],
   "metadata": {
    "collapsed": false
   }
  },
  {
   "cell_type": "code",
   "execution_count": 15,
   "outputs": [
    {
     "name": "stdout",
     "output_type": "stream",
     "text": [
      "R2 score 0.9231427318193016 \n",
      "Adjusted R2 score 0.9017520358207901\n",
      "R2 score 0.7900527098712921 \n",
      "Adjusted R2 score 0.7359753775654128\n"
     ]
    }
   ],
   "source": [
    "y_col = \"price_psm_gfa\"\n",
    "hi = hedonic(gls, y_col, \"year_launch\", 5)[0]\n",
    "\n",
    "y_col2 = \"tender_price\"\n",
    "hi2 = hedonic(gls, y_col2, \"year_launch\", 5)[0]"
   ],
   "metadata": {
    "collapsed": false
   }
  },
  {
   "cell_type": "code",
   "execution_count": 18,
   "outputs": [],
   "source": [
    "hi_rebase = pd.DataFrame({\"hi_price_psm_gfa\": rebase(hi.hi, base=10), \"year_launch\": hi.year_launch})\n",
    "hi_rebase.insert(loc=0, column=\"mean_price_psm_gfa\", value=gls[[y_col, \"year_launch\"]].groupby(by=\"year_launch\").mean().values)\n",
    "hi_rebase[\"mean_price_psm_gfa\"] = rebase(hi_rebase.mean_price_psm_gfa, 10)\n"
   ],
   "metadata": {
    "collapsed": false
   }
  },
  {
   "cell_type": "code",
   "execution_count": 19,
   "outputs": [
    {
     "data": {
      "text/plain": "    mean_tender_price  hi_tender_price  mean_price_psm_gfa  hi_price_psm_gfa  \\\n0            0.305481         0.312368            0.349006          0.307811   \n1            0.270916         0.236696            0.193140          0.205263   \n2            0.698279         0.450955            0.471616          0.395002   \n3            0.438343         0.218948            0.568608          0.510641   \n4            0.901816         0.713360            0.804007          0.736724   \n5            1.098434         0.827765            1.200729          1.117830   \n6            1.241663         1.122890            1.402526          1.284535   \n7            1.325935         0.825495            1.416102          1.250612   \n8            1.399009         1.377642            1.347482          1.021810   \n9            1.930472         1.012344            0.655243          0.585220   \n10           1.000000         1.000000            1.000000          1.000000   \n11           1.306476         1.457747            0.925700          0.999878   \n12           1.201843         1.047991            0.924927          0.924835   \n13           2.333260         2.181403            1.192666          1.059584   \n14           0.522112         0.954848            1.152375          0.906795   \n15           2.559362         1.690397            1.531442          1.198451   \n16           2.509725         2.638833            1.919990          1.315759   \n17           2.243966         2.468386            2.334561          1.812369   \n18           1.684016         1.912083            1.450844          1.354629   \n19           2.059332         1.554513            2.072263          1.504388   \n20           2.522750         2.355207            1.861365          2.042371   \n21           2.789171         2.917893            2.170386          2.151618   \n22           2.950121         3.245028            2.734413          2.481907   \n23           3.633462         3.344360            2.607833          2.507678   \n24           2.741577         3.000794            2.351136          2.225038   \n25           3.581476         3.871956            3.006628          2.320214   \n26           3.235778         2.816921            3.400844          2.444659   \n27           6.807774         4.842905            5.196134          3.490716   \n28           4.920824         4.622260            4.744878          3.684231   \n29           3.904897         3.763150            4.468973          3.828073   \n30           5.375014         4.057775            4.146356          3.125097   \n31           5.120558         4.109869            4.841560          4.119978   \n32           6.831934         5.246345            5.149451          4.753874   \n\n   year_launch  \n0         1989  \n1         1990  \n2         1991  \n3         1992  \n4         1993  \n5         1994  \n6         1995  \n7         1996  \n8         1997  \n9         1998  \n10        2000  \n11        2001  \n12        2002  \n13        2003  \n14        2004  \n15        2005  \n16        2006  \n17        2007  \n18        2008  \n19        2009  \n20        2010  \n21        2011  \n22        2012  \n23        2013  \n24        2014  \n25        2015  \n26        2016  \n27        2017  \n28        2018  \n29        2019  \n30        2020  \n31        2021  \n32        2022  ",
      "text/html": "<div>\n<style scoped>\n    .dataframe tbody tr th:only-of-type {\n        vertical-align: middle;\n    }\n\n    .dataframe tbody tr th {\n        vertical-align: top;\n    }\n\n    .dataframe thead th {\n        text-align: right;\n    }\n</style>\n<table border=\"1\" class=\"dataframe\">\n  <thead>\n    <tr style=\"text-align: right;\">\n      <th></th>\n      <th>mean_tender_price</th>\n      <th>hi_tender_price</th>\n      <th>mean_price_psm_gfa</th>\n      <th>hi_price_psm_gfa</th>\n      <th>year_launch</th>\n    </tr>\n  </thead>\n  <tbody>\n    <tr>\n      <th>0</th>\n      <td>0.305481</td>\n      <td>0.312368</td>\n      <td>0.349006</td>\n      <td>0.307811</td>\n      <td>1989</td>\n    </tr>\n    <tr>\n      <th>1</th>\n      <td>0.270916</td>\n      <td>0.236696</td>\n      <td>0.193140</td>\n      <td>0.205263</td>\n      <td>1990</td>\n    </tr>\n    <tr>\n      <th>2</th>\n      <td>0.698279</td>\n      <td>0.450955</td>\n      <td>0.471616</td>\n      <td>0.395002</td>\n      <td>1991</td>\n    </tr>\n    <tr>\n      <th>3</th>\n      <td>0.438343</td>\n      <td>0.218948</td>\n      <td>0.568608</td>\n      <td>0.510641</td>\n      <td>1992</td>\n    </tr>\n    <tr>\n      <th>4</th>\n      <td>0.901816</td>\n      <td>0.713360</td>\n      <td>0.804007</td>\n      <td>0.736724</td>\n      <td>1993</td>\n    </tr>\n    <tr>\n      <th>5</th>\n      <td>1.098434</td>\n      <td>0.827765</td>\n      <td>1.200729</td>\n      <td>1.117830</td>\n      <td>1994</td>\n    </tr>\n    <tr>\n      <th>6</th>\n      <td>1.241663</td>\n      <td>1.122890</td>\n      <td>1.402526</td>\n      <td>1.284535</td>\n      <td>1995</td>\n    </tr>\n    <tr>\n      <th>7</th>\n      <td>1.325935</td>\n      <td>0.825495</td>\n      <td>1.416102</td>\n      <td>1.250612</td>\n      <td>1996</td>\n    </tr>\n    <tr>\n      <th>8</th>\n      <td>1.399009</td>\n      <td>1.377642</td>\n      <td>1.347482</td>\n      <td>1.021810</td>\n      <td>1997</td>\n    </tr>\n    <tr>\n      <th>9</th>\n      <td>1.930472</td>\n      <td>1.012344</td>\n      <td>0.655243</td>\n      <td>0.585220</td>\n      <td>1998</td>\n    </tr>\n    <tr>\n      <th>10</th>\n      <td>1.000000</td>\n      <td>1.000000</td>\n      <td>1.000000</td>\n      <td>1.000000</td>\n      <td>2000</td>\n    </tr>\n    <tr>\n      <th>11</th>\n      <td>1.306476</td>\n      <td>1.457747</td>\n      <td>0.925700</td>\n      <td>0.999878</td>\n      <td>2001</td>\n    </tr>\n    <tr>\n      <th>12</th>\n      <td>1.201843</td>\n      <td>1.047991</td>\n      <td>0.924927</td>\n      <td>0.924835</td>\n      <td>2002</td>\n    </tr>\n    <tr>\n      <th>13</th>\n      <td>2.333260</td>\n      <td>2.181403</td>\n      <td>1.192666</td>\n      <td>1.059584</td>\n      <td>2003</td>\n    </tr>\n    <tr>\n      <th>14</th>\n      <td>0.522112</td>\n      <td>0.954848</td>\n      <td>1.152375</td>\n      <td>0.906795</td>\n      <td>2004</td>\n    </tr>\n    <tr>\n      <th>15</th>\n      <td>2.559362</td>\n      <td>1.690397</td>\n      <td>1.531442</td>\n      <td>1.198451</td>\n      <td>2005</td>\n    </tr>\n    <tr>\n      <th>16</th>\n      <td>2.509725</td>\n      <td>2.638833</td>\n      <td>1.919990</td>\n      <td>1.315759</td>\n      <td>2006</td>\n    </tr>\n    <tr>\n      <th>17</th>\n      <td>2.243966</td>\n      <td>2.468386</td>\n      <td>2.334561</td>\n      <td>1.812369</td>\n      <td>2007</td>\n    </tr>\n    <tr>\n      <th>18</th>\n      <td>1.684016</td>\n      <td>1.912083</td>\n      <td>1.450844</td>\n      <td>1.354629</td>\n      <td>2008</td>\n    </tr>\n    <tr>\n      <th>19</th>\n      <td>2.059332</td>\n      <td>1.554513</td>\n      <td>2.072263</td>\n      <td>1.504388</td>\n      <td>2009</td>\n    </tr>\n    <tr>\n      <th>20</th>\n      <td>2.522750</td>\n      <td>2.355207</td>\n      <td>1.861365</td>\n      <td>2.042371</td>\n      <td>2010</td>\n    </tr>\n    <tr>\n      <th>21</th>\n      <td>2.789171</td>\n      <td>2.917893</td>\n      <td>2.170386</td>\n      <td>2.151618</td>\n      <td>2011</td>\n    </tr>\n    <tr>\n      <th>22</th>\n      <td>2.950121</td>\n      <td>3.245028</td>\n      <td>2.734413</td>\n      <td>2.481907</td>\n      <td>2012</td>\n    </tr>\n    <tr>\n      <th>23</th>\n      <td>3.633462</td>\n      <td>3.344360</td>\n      <td>2.607833</td>\n      <td>2.507678</td>\n      <td>2013</td>\n    </tr>\n    <tr>\n      <th>24</th>\n      <td>2.741577</td>\n      <td>3.000794</td>\n      <td>2.351136</td>\n      <td>2.225038</td>\n      <td>2014</td>\n    </tr>\n    <tr>\n      <th>25</th>\n      <td>3.581476</td>\n      <td>3.871956</td>\n      <td>3.006628</td>\n      <td>2.320214</td>\n      <td>2015</td>\n    </tr>\n    <tr>\n      <th>26</th>\n      <td>3.235778</td>\n      <td>2.816921</td>\n      <td>3.400844</td>\n      <td>2.444659</td>\n      <td>2016</td>\n    </tr>\n    <tr>\n      <th>27</th>\n      <td>6.807774</td>\n      <td>4.842905</td>\n      <td>5.196134</td>\n      <td>3.490716</td>\n      <td>2017</td>\n    </tr>\n    <tr>\n      <th>28</th>\n      <td>4.920824</td>\n      <td>4.622260</td>\n      <td>4.744878</td>\n      <td>3.684231</td>\n      <td>2018</td>\n    </tr>\n    <tr>\n      <th>29</th>\n      <td>3.904897</td>\n      <td>3.763150</td>\n      <td>4.468973</td>\n      <td>3.828073</td>\n      <td>2019</td>\n    </tr>\n    <tr>\n      <th>30</th>\n      <td>5.375014</td>\n      <td>4.057775</td>\n      <td>4.146356</td>\n      <td>3.125097</td>\n      <td>2020</td>\n    </tr>\n    <tr>\n      <th>31</th>\n      <td>5.120558</td>\n      <td>4.109869</td>\n      <td>4.841560</td>\n      <td>4.119978</td>\n      <td>2021</td>\n    </tr>\n    <tr>\n      <th>32</th>\n      <td>6.831934</td>\n      <td>5.246345</td>\n      <td>5.149451</td>\n      <td>4.753874</td>\n      <td>2022</td>\n    </tr>\n  </tbody>\n</table>\n</div>"
     },
     "execution_count": 19,
     "metadata": {},
     "output_type": "execute_result"
    }
   ],
   "source": [
    "hi_rebase[\"mean_price_psm_gfa\"] = rebase(hi_rebase.mean_price_psm_gfa, 10)\n",
    "hi_rebase.insert(0, \"hi_tender_price\", rebase(hi2.hi, 10))\n",
    "hi_rebase.insert(0, \"mean_tender_price\", value=gls[[y_col2, \"year_launch\"]].groupby(by=\"year_launch\").mean().values)\n",
    "hi_rebase[\"mean_tender_price\"] = rebase(hi_rebase.mean_tender_price, 10)\n",
    "hi_rebase"
   ],
   "metadata": {
    "collapsed": false
   }
  },
  {
   "cell_type": "code",
   "execution_count": 20,
   "outputs": [],
   "source": [
    "hi_rebase.to_csv(\"hi_2000_res.csv\", header=True, index=False)"
   ],
   "metadata": {
    "collapsed": false
   }
  }
 ],
 "metadata": {
  "kernelspec": {
   "display_name": "Python 3",
   "language": "python",
   "name": "python3"
  },
  "language_info": {
   "codemirror_mode": {
    "name": "ipython",
    "version": 2
   },
   "file_extension": ".py",
   "mimetype": "text/x-python",
   "name": "python",
   "nbconvert_exporter": "python",
   "pygments_lexer": "ipython2",
   "version": "2.7.6"
  }
 },
 "nbformat": 4,
 "nbformat_minor": 0
}
