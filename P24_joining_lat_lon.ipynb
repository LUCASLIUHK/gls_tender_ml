{
 "cells": [
  {
   "cell_type": "code",
   "execution_count": 8,
   "metadata": {
    "collapsed": true
   },
   "outputs": [],
   "source": [
    "import pandas as pd\n",
    "import numpy as np\n",
    "import hashlib"
   ]
  },
  {
   "cell_type": "code",
   "execution_count": 6,
   "outputs": [],
   "source": [
    "loc = pd.read_csv(r'G:\\REA\\Working files\\land-bidding\\land_sales_full_data\\feature eng\\gls_geo.csv')\n",
    "loc['land_parcel_std'] = loc.land_parcel_std.apply(lambda x: x.replace('/', ' / '))"
   ],
   "metadata": {
    "collapsed": false
   }
  },
  {
   "cell_type": "code",
   "execution_count": 9,
   "outputs": [],
   "source": [
    "loc['parcel_id_text'] = loc.land_parcel_std + loc.latitude.astype(str) + loc.longitude.astype(str)\n",
    "loc['land_parcel_id'] = loc.parcel_id_text.apply(lambda x: hashlib.sha256(x.encode('utf-8')).hexdigest())"
   ],
   "metadata": {
    "collapsed": false
   }
  },
  {
   "cell_type": "code",
   "execution_count": 10,
   "outputs": [],
   "source": [
    "loc['proj_name_raw'] = loc.proj_name_raw.apply(lambda x: x.lower().replace(' ', '-'))"
   ],
   "metadata": {
    "collapsed": false
   }
  },
  {
   "cell_type": "code",
   "execution_count": 16,
   "outputs": [
    {
     "data": {
      "text/plain": "['sg_gls_id',\n 'land_parcel_id',\n 'address_dwid',\n 'land_parcel_std',\n 'devt_type',\n 'launch_month_index',\n 'site_area_sqm',\n 'proj_name_raw',\n 'longitude',\n 'latitude']"
     },
     "execution_count": 16,
     "metadata": {},
     "output_type": "execute_result"
    }
   ],
   "source": [
    "y_cols = list(loc.columns)\n",
    "y_cols.remove('parcel_id_text')\n",
    "y_cols"
   ],
   "metadata": {
    "collapsed": false
   }
  },
  {
   "cell_type": "markdown",
   "source": [
    "### Join to main table"
   ],
   "metadata": {
    "collapsed": false
   }
  },
  {
   "cell_type": "code",
   "execution_count": 12,
   "outputs": [],
   "source": [
    "gls = pd.read_csv(r'G:\\REA\\Working files\\land-bidding\\land_sales_full_data\\feature eng\\gls_1208.csv')"
   ],
   "metadata": {
    "collapsed": false
   }
  },
  {
   "cell_type": "code",
   "execution_count": 14,
   "outputs": [
    {
     "data": {
      "text/plain": "['sg_gls_id',\n 'land_parcel_id',\n 'project_dwid',\n 'address_dwid',\n 'quarter_launch',\n 'date_launch',\n 'date_close',\n 'date_award',\n 'land_parcel',\n 'land_parcel_std',\n 'street',\n 'zone',\n 'region',\n 'join_by',\n 'error_check',\n 'site_area_sqm',\n 'devt_type',\n 'devt_class',\n 'lease_term',\n 'gpr',\n 'gfa_sqm',\n 'num_bidders',\n 'successful_tenderer_name',\n 'successful_tender_price',\n 'successful_price_psm_gfa',\n 'proj_name_raw',\n 'proj_name_res',\n 'proj_name_non_res',\n 'in_db',\n 'project_name_indb',\n 'source',\n 'timediff_launch_to_close',\n 'timediff_close_to_award',\n 'timediff_launch_to_award',\n 'launch_month_index',\n 'year_launch',\n 'month_launch',\n 'day_launch',\n 'close_month_index',\n 'year_close',\n 'month_close',\n 'day_close',\n 'award_month_index',\n 'year_award',\n 'month_award',\n 'day_award',\n 'merge_key',\n 'tender_details',\n 'tenderer_name_1st',\n 'tender_price_1st',\n 'price_psm_gfa_1st',\n 'tenderer_name_2nd',\n 'tender_price_2nd',\n 'price_psm_gfa_2nd',\n 'price_premium_total',\n 'price_premium_psm',\n 'premium_pct',\n 'mean_tender_price',\n 'hi_tender_price',\n 'mean_price_psm_gfa',\n 'hi_price_psm_gfa',\n 'num_land_sales',\n 'tender_price_real',\n 'price_psm_real',\n 'lg_site_area',\n 'lg_price_psm_real',\n 'avg_dist_cbd',\n 'avg_dist_mrt',\n 'avg_num_bus',\n 'avg_num_good_sch',\n 'avg_num_prim_sch',\n 'avg_num_sec_sch',\n 'proj_num_of_units',\n 'proj_max_floor',\n 'num_of_nearby_completed_proj_200m',\n 'num_of_schools',\n 'tenderer_source_file']"
     },
     "execution_count": 14,
     "metadata": {},
     "output_type": "execute_result"
    }
   ],
   "source": [
    "header = list(gls.columns)\n",
    "header"
   ],
   "metadata": {
    "collapsed": false
   }
  },
  {
   "cell_type": "code",
   "execution_count": 23,
   "outputs": [
    {
     "data": {
      "text/plain": "['project_dwid',\n 'quarter_launch',\n 'date_launch',\n 'date_close',\n 'date_award',\n 'land_parcel',\n 'street',\n 'zone',\n 'region',\n 'join_by',\n 'error_check',\n 'devt_class',\n 'lease_term',\n 'gpr',\n 'gfa_sqm',\n 'num_bidders',\n 'successful_tenderer_name',\n 'successful_tender_price',\n 'successful_price_psm_gfa',\n 'proj_name_res',\n 'proj_name_non_res',\n 'in_db',\n 'project_name_indb',\n 'source',\n 'timediff_launch_to_close',\n 'timediff_close_to_award',\n 'timediff_launch_to_award',\n 'year_launch',\n 'month_launch',\n 'day_launch',\n 'close_month_index',\n 'year_close',\n 'month_close',\n 'day_close',\n 'award_month_index',\n 'year_award',\n 'month_award',\n 'day_award',\n 'merge_key',\n 'tender_details',\n 'tenderer_name_1st',\n 'tender_price_1st',\n 'price_psm_gfa_1st',\n 'tenderer_name_2nd',\n 'tender_price_2nd',\n 'price_psm_gfa_2nd',\n 'price_premium_total',\n 'price_premium_psm',\n 'premium_pct',\n 'mean_tender_price',\n 'hi_tender_price',\n 'mean_price_psm_gfa',\n 'hi_price_psm_gfa',\n 'num_land_sales',\n 'tender_price_real',\n 'price_psm_real',\n 'lg_site_area',\n 'lg_price_psm_real',\n 'avg_dist_cbd',\n 'avg_dist_mrt',\n 'avg_num_bus',\n 'avg_num_good_sch',\n 'avg_num_prim_sch',\n 'avg_num_sec_sch',\n 'proj_num_of_units',\n 'proj_max_floor',\n 'num_of_nearby_completed_proj_200m',\n 'num_of_schools',\n 'tenderer_source_file',\n 'sg_gls_id']"
     },
     "execution_count": 23,
     "metadata": {},
     "output_type": "execute_result"
    }
   ],
   "source": [
    "selected_cols = [col for col in header if col not in y_cols]\n",
    "selected_cols.append('sg_gls_id')\n",
    "selected_cols"
   ],
   "metadata": {
    "collapsed": false
   }
  },
  {
   "cell_type": "code",
   "execution_count": 25,
   "outputs": [],
   "source": [
    "gls_selected = gls[selected_cols]"
   ],
   "metadata": {
    "collapsed": false
   }
  },
  {
   "cell_type": "code",
   "execution_count": 29,
   "outputs": [],
   "source": [
    "header = header[:13] + ['latitude', 'longitude'] + header[13:]"
   ],
   "metadata": {
    "collapsed": false
   }
  },
  {
   "cell_type": "code",
   "execution_count": 30,
   "outputs": [],
   "source": [
    "gls_w_loc = pd.merge(loc[y_cols], gls_selected, on='sg_gls_id', how='left')[header]"
   ],
   "metadata": {
    "collapsed": false
   }
  },
  {
   "cell_type": "code",
   "execution_count": 34,
   "outputs": [],
   "source": [
    "gls_w_loc.to_csv(r'G:\\REA\\Working files\\land-bidding\\land_sales_full_data\\feature eng\\gls_1209.csv', index = False)"
   ],
   "metadata": {
    "collapsed": false
   }
  },
  {
   "cell_type": "code",
   "execution_count": 35,
   "outputs": [],
   "source": [
    "gls_edit = pd.read_csv(r'G:\\REA\\Working files\\land-bidding\\land_sales_full_data\\feature eng\\gls_1212.csv')"
   ],
   "metadata": {
    "collapsed": false
   }
  },
  {
   "cell_type": "code",
   "execution_count": null,
   "outputs": [],
   "source": [
    "gls_edit['gls_text_id'] = gls_edit.latitude.astype(str) + gls_edit.longitude.astype(str) + gls_edit.award_month_index.astype(str)\n",
    "gls_edit.insert(loc=0, column='sg_gls_id_new', value=gls_edit.gls_text_id.apply(lambda x: hashlib.sha256(x.encode('utf-8')).hexdigest()))"
   ],
   "metadata": {
    "collapsed": false,
    "pycharm": {
     "is_executing": true
    }
   }
  },
  {
   "cell_type": "code",
   "execution_count": 40,
   "outputs": [],
   "source": [
    "gls_edit.to_csv(r'G:\\REA\\Working files\\land-bidding\\land_sales_full_data\\feature eng\\gls_1212_v2.csv', index = False)"
   ],
   "metadata": {
    "collapsed": false
   }
  },
  {
   "cell_type": "code",
   "execution_count": 45,
   "outputs": [],
   "source": [
    "gls_v3 = pd.read_csv(r'G:\\REA\\Working files\\land-bidding\\land_sales_full_data\\feature eng\\gls_1212_v3.csv')\n",
    "gls_v3['gls_text_id'] = gls_v3.land_parcel_std + gls_v3.latitude.astype(str) + gls_v3.longitude.astype(str) + gls_v3.award_month_index.astype(str) + gls_v3.site_area_sqm.astype(str)\n",
    "gls_v3.insert(loc=0, column='sg_gls_id_new', value=gls_v3.gls_text_id.apply(lambda x: hashlib.sha256(x.encode('utf-8')).hexdigest()))"
   ],
   "metadata": {
    "collapsed": false
   }
  },
  {
   "cell_type": "code",
   "execution_count": 46,
   "outputs": [],
   "source": [
    "gls_v3.to_csv(r'G:\\REA\\Working files\\land-bidding\\land_sales_full_data\\feature eng\\gls_1212_v4.csv', index = False)"
   ],
   "metadata": {
    "collapsed": false
   }
  },
  {
   "cell_type": "code",
   "execution_count": 1,
   "outputs": [],
   "source": [
    "import pandas as pd\n",
    "import numpy as np"
   ],
   "metadata": {
    "collapsed": false
   }
  },
  {
   "cell_type": "code",
   "execution_count": 12,
   "outputs": [
    {
     "data": {
      "text/plain": "True"
     },
     "execution_count": 12,
     "metadata": {},
     "output_type": "execute_result"
    }
   ],
   "source": [
    "a = (1, 1)\n",
    "pd.notna(list(a)).all()"
   ],
   "metadata": {
    "collapsed": false
   }
  }
 ],
 "metadata": {
  "kernelspec": {
   "display_name": "Python 3",
   "language": "python",
   "name": "python3"
  },
  "language_info": {
   "codemirror_mode": {
    "name": "ipython",
    "version": 2
   },
   "file_extension": ".py",
   "mimetype": "text/x-python",
   "name": "python",
   "nbconvert_exporter": "python",
   "pygments_lexer": "ipython2",
   "version": "2.7.6"
  }
 },
 "nbformat": 4,
 "nbformat_minor": 0
}
